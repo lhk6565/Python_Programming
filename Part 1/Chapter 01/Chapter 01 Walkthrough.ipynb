{
 "cells": [
  {
   "cell_type": "markdown",
   "id": "e505ad06",
   "metadata": {},
   "source": [
    "# Chapter 01 데이터 과학과 파이썬의 세계로"
   ]
  },
  {
   "cell_type": "markdown",
   "id": "95d5315a",
   "metadata": {},
   "source": [
    "## 도전문제 1.1"
   ]
  },
  {
   "cell_type": "markdown",
   "id": "7d597897",
   "metadata": {},
   "source": [
    "### 파이썬의 인터프리터 모드를 이용하여 다음과 같은 계산을 하여보자.\n",
    "#### (1) 4 * 3 * 2 * 1"
   ]
  },
  {
   "cell_type": "code",
   "execution_count": 1,
   "id": "5d84232f",
   "metadata": {},
   "outputs": [
    {
     "data": {
      "text/plain": [
       "24"
      ]
     },
     "execution_count": 1,
     "metadata": {},
     "output_type": "execute_result"
    }
   ],
   "source": [
    "4 * 3 * 2 * 1"
   ]
  },
  {
   "cell_type": "markdown",
   "id": "dd197cd7",
   "metadata": {},
   "source": [
    "#### (2) 1/2"
   ]
  },
  {
   "cell_type": "code",
   "execution_count": 2,
   "id": "0520f8e7",
   "metadata": {
    "scrolled": true
   },
   "outputs": [
    {
     "data": {
      "text/plain": [
       "0.5"
      ]
     },
     "execution_count": 2,
     "metadata": {},
     "output_type": "execute_result"
    }
   ],
   "source": [
    "1/2"
   ]
  },
  {
   "cell_type": "markdown",
   "id": "b8bd4d88",
   "metadata": {},
   "source": [
    "#### (3) 300 - 100"
   ]
  },
  {
   "cell_type": "code",
   "execution_count": 3,
   "id": "3f1e3bac",
   "metadata": {},
   "outputs": [
    {
     "data": {
      "text/plain": [
       "200"
      ]
     },
     "execution_count": 3,
     "metadata": {},
     "output_type": "execute_result"
    }
   ],
   "source": [
    "300-100"
   ]
  },
  {
   "cell_type": "markdown",
   "id": "df67b61d",
   "metadata": {},
   "source": [
    "#### (4) 423 + 1234"
   ]
  },
  {
   "cell_type": "code",
   "execution_count": 4,
   "id": "470c25a4",
   "metadata": {},
   "outputs": [
    {
     "data": {
      "text/plain": [
       "1657"
      ]
     },
     "execution_count": 4,
     "metadata": {},
     "output_type": "execute_result"
    }
   ],
   "source": [
    "423 + 1234"
   ]
  },
  {
   "cell_type": "markdown",
   "id": "541a7a60",
   "metadata": {},
   "source": [
    "#### (5) (1/100) * 1234"
   ]
  },
  {
   "cell_type": "code",
   "execution_count": 5,
   "id": "35854696",
   "metadata": {},
   "outputs": [
    {
     "data": {
      "text/plain": [
       "12.34"
      ]
     },
     "execution_count": 5,
     "metadata": {},
     "output_type": "execute_result"
    }
   ],
   "source": [
    "(1/100) * 1234"
   ]
  },
  {
   "cell_type": "markdown",
   "id": "7bad8366",
   "metadata": {},
   "source": [
    "#### (6) 3.141592 * 12.0 * 12.0"
   ]
  },
  {
   "cell_type": "code",
   "execution_count": 6,
   "id": "32f5df23",
   "metadata": {},
   "outputs": [
    {
     "data": {
      "text/plain": [
       "452.38924800000007"
      ]
     },
     "execution_count": 6,
     "metadata": {},
     "output_type": "execute_result"
    }
   ],
   "source": [
    "3.141592 * 12.0 * 12.0"
   ]
  },
  {
   "cell_type": "markdown",
   "id": "d544802d",
   "metadata": {},
   "source": [
    "## 도전문제 1.2"
   ]
  },
  {
   "cell_type": "markdown",
   "id": "d6b3bf70",
   "metadata": {},
   "source": [
    "### forward()와 left() 기능을 사용하여 한 변의 길이가 100픽셀인 도형을 그려보자.\n",
    "#### (1) 거북이를 움직여서 정삼각형을 그려보자.(힌트 : 왼쪽으로 120도 회전하도록 하자)"
   ]
  },
  {
   "cell_type": "code",
   "execution_count": 7,
   "id": "a870ae33",
   "metadata": {},
   "outputs": [],
   "source": [
    "import turtle\n",
    "t = turtle.Turtle()\n",
    "t.shape('turtle')\n",
    "t.forward(100)\n",
    "t.left(120)\n",
    "t.forward(100)\n",
    "t.left(120)\n",
    "t.forward(100)\n",
    "turtle.done()"
   ]
  },
  {
   "cell_type": "markdown",
   "id": "15ca1d8b",
   "metadata": {},
   "source": [
    "#### (2) 거북이를 움직여서 정사각형을 그려보자."
   ]
  },
  {
   "cell_type": "code",
   "execution_count": 9,
   "id": "ffaf9e1b",
   "metadata": {},
   "outputs": [],
   "source": [
    "import turtle\n",
    "t = turtle.Turtle()\n",
    "t.shape('turtle')\n",
    "t.forward(100)\n",
    "t.left(90)\n",
    "t.forward(100)\n",
    "t.left(90)\n",
    "t.forward(100)\n",
    "t.left(90)\n",
    "t.forward(100)\n",
    "turtle.done()"
   ]
  },
  {
   "cell_type": "markdown",
   "id": "36266127",
   "metadata": {},
   "source": [
    "#### (3) 거북이를 움직여서 한 변의 길이가 50 픽셀인 정육각형을 그려보자. 회전하는 각도를 몇 도로 하여야 하는가?"
   ]
  },
  {
   "cell_type": "code",
   "execution_count": 11,
   "id": "4dfc257d",
   "metadata": {},
   "outputs": [],
   "source": [
    "import turtle\n",
    "t = turtle.Turtle()\n",
    "t.shape('turtle')\n",
    "t.forward(50)\n",
    "t.left(60)\n",
    "t.forward(50)\n",
    "t.left(60)\n",
    "t.forward(50)\n",
    "t.left(60)\n",
    "t.forward(50)\n",
    "t.left(60)\n",
    "t.forward(50)\n",
    "t.left(60)\n",
    "t.forward(50)\n",
    "turtle.done()"
   ]
  },
  {
   "cell_type": "markdown",
   "id": "d8d26e39",
   "metadata": {},
   "source": [
    "#### (4) 거북이를 10회이장 회전시키고 이동시켜서 임의의 도형을 자유롭게 그려보자."
   ]
  },
  {
   "cell_type": "code",
   "execution_count": 13,
   "id": "8bfae1be",
   "metadata": {},
   "outputs": [],
   "source": [
    "import turtle\n",
    "t = turtle.Turtle()\n",
    "t.shape('turtle')\n",
    "t.forward(50)\n",
    "t.left(36)\n",
    "t.forward(50)\n",
    "t.left(36)\n",
    "t.forward(50)\n",
    "t.left(36)\n",
    "t.forward(50)\n",
    "t.left(36)\n",
    "t.forward(50)\n",
    "t.left(36)\n",
    "t.forward(50)\n",
    "t.left(36)\n",
    "t.forward(50)\n",
    "t.left(36)\n",
    "t.forward(50)\n",
    "t.left(36)\n",
    "t.forward(50)\n",
    "t.left(36)\n",
    "t.forward(50)\n",
    "turtle.done()"
   ]
  },
  {
   "cell_type": "markdown",
   "id": "93de7782",
   "metadata": {},
   "source": [
    "## 도전문제 1.3"
   ]
  },
  {
   "cell_type": "markdown",
   "id": "7c09ce9f",
   "metadata": {},
   "source": [
    "### 살펴본 바와 같이 print('1 + 1 = ', 1 + 1)과 같이 출력문과 연산을 사용하면 화면에 1 + 1 = 2가 출력된다. 50과 30 두 값이 있을 경우, 이 값에 대한 사칙 연산을 다음과 같은 결과를 출력하는 프로그램을 작성 하시오."
   ]
  },
  {
   "cell_type": "code",
   "execution_count": 14,
   "id": "befd559f",
   "metadata": {},
   "outputs": [
    {
     "name": "stdout",
     "output_type": "stream",
     "text": [
      "50 + 30 =  80\n",
      "50 - 30 =  20\n",
      "50 * 30 =  1500\n",
      "50 / 30 =  1.6666666666666667\n"
     ]
    }
   ],
   "source": [
    "print('50 + 30 = ', 50 + 30)\n",
    "print('50 - 30 = ', 50 - 30)\n",
    "print('50 * 30 = ', 50 * 30)\n",
    "print('50 / 30 = ', 50 / 30)"
   ]
  },
  {
   "cell_type": "markdown",
   "id": "f1b04e7b",
   "metadata": {},
   "source": [
    "## LAB 1-1\n",
    "### 자주 사용하게 될 print() 함수를 연습해 보자"
   ]
  },
  {
   "cell_type": "markdown",
   "id": "60f4373b",
   "metadata": {},
   "source": [
    "#### print() 함수를 사용하여 다음과 같이 출력하는 소스를 대화형 모드로 작성해보자. 곱하기 결과를 출력할 때는 실제로 파이썬으로 $9*8$ 연산을 하여서 $9*8$의 결과를 알려주는 출력을 만들어 보라."
   ]
  },
  {
   "cell_type": "code",
   "execution_count": 15,
   "id": "be71b680",
   "metadata": {},
   "outputs": [
    {
     "name": "stdout",
     "output_type": "stream",
     "text": [
      "안녕하세요? 여러분\n",
      "저는 파이썬을 무척 좋아합니다.\n",
      "9*8은 72 입니다.\n",
      "안녕히 계세요.\n"
     ]
    }
   ],
   "source": [
    "print(\"안녕하세요? 여러분\")\n",
    "print(\"저는 파이썬을 무척 좋아합니다.\")\n",
    "print(\"9*8은\", 9*8, \"입니다.\")\n",
    "print(\"안녕히 계세요.\")"
   ]
  },
  {
   "cell_type": "markdown",
   "id": "4b27e84e",
   "metadata": {},
   "source": [
    "## LAB 2-2\n",
    "### 터틀 그래픽으로 감각형을 그려보자"
   ]
  },
  {
   "cell_type": "markdown",
   "id": "ac3803be",
   "metadata": {},
   "source": [
    "#### 터틀 그래픽을 이용하여 삼각형을 그려보자. 삼각형의 좌표는 신경 쓰지 말고 모습이 정삼각형이 되도록 거북이를 움직여 보자. 이때 한 변의 길이는 100픽셀로 만들어라."
   ]
  },
  {
   "cell_type": "code",
   "execution_count": 17,
   "id": "4e30e909",
   "metadata": {},
   "outputs": [],
   "source": [
    "import turtle\n",
    "t = turtle.Turtle()\n",
    "t.shape('turtle')\n",
    "t.forward(100)\n",
    "t.left(120)\n",
    "t.forward(100)\n",
    "t.left(120)\n",
    "t.forward(100)\n",
    "turtle.done()"
   ]
  }
 ],
 "metadata": {
  "kernelspec": {
   "display_name": "Python 3.9.7 ('base')",
   "language": "python",
   "name": "python3"
  },
  "language_info": {
   "codemirror_mode": {
    "name": "ipython",
    "version": 3
   },
   "file_extension": ".py",
   "mimetype": "text/x-python",
   "name": "python",
   "nbconvert_exporter": "python",
   "pygments_lexer": "ipython3",
   "version": "3.9.7"
  },
  "vscode": {
   "interpreter": {
    "hash": "82136e53588c9e34a2f5726c465560e45a7664f059ab9b40b627219027b97012"
   }
  }
 },
 "nbformat": 4,
 "nbformat_minor": 5
}
