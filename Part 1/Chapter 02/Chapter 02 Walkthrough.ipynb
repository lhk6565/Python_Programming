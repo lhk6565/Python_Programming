{
 "cells": [
  {
   "cell_type": "markdown",
   "metadata": {},
   "source": [
    "# Chapter 02 값을 담아 다루어 보자"
   ]
  },
  {
   "cell_type": "markdown",
   "metadata": {},
   "source": [
    "## 도전문제 2.1"
   ]
  },
  {
   "cell_type": "markdown",
   "metadata": {},
   "source": [
    "#### 1. 키가 172cm이고, 몸무게가 78.8kg인 홍길동씨의 BMI를 계산하여 출력하는 bmi_hong.py 스크립트 코드를 작성하고 홀길동씨의 BMI 값을 출력하여라."
   ]
  },
  {
   "cell_type": "code",
   "execution_count": 1,
   "metadata": {},
   "outputs": [
    {
     "name": "stdout",
     "output_type": "stream",
     "text": [
      "26.636019469983776\n"
     ]
    }
   ],
   "source": [
    "%run bmi_hong.py"
   ]
  },
  {
   "cell_type": "markdown",
   "metadata": {},
   "source": [
    "#### 2. 자신의 키와 몸무게를 입력하고 BMI를 구한 후 그 값을 출력하여라."
   ]
  },
  {
   "cell_type": "code",
   "execution_count": 2,
   "metadata": {},
   "outputs": [
    {
     "data": {
      "text/plain": [
       "21.872422819032593"
      ]
     },
     "execution_count": 2,
     "metadata": {},
     "output_type": "execute_result"
    }
   ],
   "source": [
    "height = 1.67\n",
    "weight = 61.0\n",
    "bmi = weight / height**2\n",
    "bmi"
   ]
  },
  {
   "cell_type": "markdown",
   "metadata": {},
   "source": [
    "## 도전문제 2.2"
   ]
  },
  {
   "cell_type": "markdown",
   "metadata": {},
   "source": [
    "#### 1. 피자의 반지름을 20으로 하고 면적과 둘레를 동시에 계산해 보자."
   ]
  },
  {
   "cell_type": "code",
   "execution_count": 3,
   "metadata": {},
   "outputs": [
    {
     "name": "stdout",
     "output_type": "stream",
     "text": [
      "피자의 면적은 1256.0\n",
      "피자의 둘레는 125.60000000000001\n"
     ]
    }
   ],
   "source": [
    "radius = 20\n",
    "area = 3.14 * radius**2\n",
    "length = 2 * radius * 3.14\n",
    "print('피자의 면적은', area)\n",
    "print('피자의 둘레는', length)"
   ]
  },
  {
   "cell_type": "markdown",
   "metadata": {},
   "source": [
    "#### 2. 피자의 반지름을 30으로 하고 면적과 둘레를 동시에 계산해 보자."
   ]
  },
  {
   "cell_type": "code",
   "execution_count": 4,
   "metadata": {},
   "outputs": [
    {
     "name": "stdout",
     "output_type": "stream",
     "text": [
      "피자의 면적은 2826.0\n",
      "피자의 둘레는 188.4\n"
     ]
    }
   ],
   "source": [
    "radius = 30\n",
    "area = 3.14 * radius**2\n",
    "length = 2 * radius * 3.14\n",
    "print('피자의 면적은', area)\n",
    "print('피자의 둘레는', length)"
   ]
  },
  {
   "cell_type": "markdown",
   "metadata": {},
   "source": [
    "## 도전문제 2.3"
   ]
  },
  {
   "cell_type": "markdown",
   "metadata": {},
   "source": [
    "#### 1. 원의 반지름이 50인 또 하나의 원을 그려보자."
   ]
  },
  {
   "cell_type": "code",
   "execution_count": 5,
   "metadata": {},
   "outputs": [],
   "source": [
    "import turtle\n",
    "t = turtle.Turtle()\n",
    "t.shape('turtle')\n",
    "radius = 200\n",
    "t.circle(radius)\n",
    "radius = 100\n",
    "t.circle(radius)\n",
    "radius = 50\n",
    "t.circle(radius)\n",
    "turtle.done()"
   ]
  },
  {
   "cell_type": "markdown",
   "metadata": {},
   "source": [
    "#### 2. `t.left(90)`을 사용하여 거북이가 90도 왼쪽으로 향하도록 한 후 동일한 명령을 실행하여 그림과 같이 6개인 원을 그려보자."
   ]
  },
  {
   "cell_type": "code",
   "execution_count": 7,
   "metadata": {},
   "outputs": [],
   "source": [
    "import turtle\n",
    "t = turtle.Turtle()\n",
    "t.shape('turtle')\n",
    "radius = 200\n",
    "t.circle(radius)\n",
    "radius = 100\n",
    "t.circle(radius)\n",
    "radius = 50\n",
    "t.circle(radius)\n",
    "t.left(90)\n",
    "radius = 200\n",
    "t.circle(radius)\n",
    "radius = 100\n",
    "t.circle(radius)\n",
    "radius = 50\n",
    "t.circle(radius)\n",
    "turtle.done()"
   ]
  },
  {
   "cell_type": "markdown",
   "metadata": {},
   "source": [
    "#### 3. 네 방향으로 동일한 패턴의 원이 나타나도록 시도해 보자.\n"
   ]
  },
  {
   "cell_type": "code",
   "execution_count": 9,
   "metadata": {},
   "outputs": [],
   "source": [
    "import turtle\n",
    "t = turtle.Turtle()\n",
    "t.shape('turtle')\n",
    "radius = 200\n",
    "t.circle(radius)\n",
    "radius = 100\n",
    "t.circle(radius)\n",
    "radius = 50\n",
    "t.circle(radius)\n",
    "t.left(90)\n",
    "radius = 200\n",
    "t.circle(radius)\n",
    "radius = 100\n",
    "t.circle(radius)\n",
    "radius = 50\n",
    "t.circle(radius)\n",
    "t.left(90)\n",
    "radius = 200\n",
    "t.circle(radius)\n",
    "radius = 100\n",
    "t.circle(radius)\n",
    "radius = 50\n",
    "t.circle(radius)\n",
    "t.left(90)\n",
    "radius = 200\n",
    "t.circle(radius)\n",
    "radius = 100\n",
    "t.circle(radius)\n",
    "radius = 50\n",
    "t.circle(radius)\n",
    "turtle.done()"
   ]
  },
  {
   "cell_type": "markdown",
   "metadata": {},
   "source": [
    "## 도전문제 2.4"
   ]
  },
  {
   "cell_type": "markdown",
   "metadata": {},
   "source": [
    "#### 1. 원금을 1,000만원 대신 1억원으로 수정하여 이 프로그램을 실행하고 그 결과를 출력하여라.(LAB 2-4)"
   ]
  },
  {
   "cell_type": "code",
   "execution_count": 10,
   "metadata": {},
   "outputs": [
    {
     "name": "stdout",
     "output_type": "stream",
     "text": [
      "원금:  100000000\n",
      "이율:  0.03\n",
      "기간:  5\n",
      "수령금액:  115927407.43\n"
     ]
    }
   ],
   "source": [
    "principal = 100000000\n",
    "years = 5\n",
    "interest_rate = 0.03\n",
    "money = principal * (1.0 + interest_rate)**years\n",
    "\n",
    "print('원금: ', principal)\n",
    "print('이율: ', interest_rate)\n",
    "print('기간: ', years)\n",
    "print('수령금액: ', money)"
   ]
  },
  {
   "cell_type": "markdown",
   "metadata": {},
   "source": [
    "## 도전문제 2.5"
   ]
  },
  {
   "cell_type": "markdown",
   "metadata": {},
   "source": [
    "### 무엇이 출력될지 생각해 보고, 그 결과를 파이썬 인터프리터를 통해 확인해보자\n",
    "#### (1) <br> &nbsp;&nbsp;&nbsp;&nbsp; x = 7 <br> &nbsp;&nbsp;&nbsp;&nbsp; y = 6 <br> &nbsp;&nbsp;&nbsp;&nbsp; x + y"
   ]
  },
  {
   "cell_type": "code",
   "execution_count": 11,
   "metadata": {},
   "outputs": [
    {
     "data": {
      "text/plain": [
       "13"
      ]
     },
     "execution_count": 11,
     "metadata": {},
     "output_type": "execute_result"
    }
   ],
   "source": [
    "x = 7\n",
    "y = 6\n",
    "x + y"
   ]
  },
  {
   "cell_type": "markdown",
   "metadata": {},
   "source": [
    "#### (2) <br> &nbsp;&nbsp;&nbsp;&nbsp; x = '7' <br> &nbsp;&nbsp;&nbsp;&nbsp; y = '6' <br> &nbsp;&nbsp;&nbsp;&nbsp; x + y"
   ]
  },
  {
   "cell_type": "code",
   "execution_count": 12,
   "metadata": {},
   "outputs": [
    {
     "data": {
      "text/plain": [
       "'76'"
      ]
     },
     "execution_count": 12,
     "metadata": {},
     "output_type": "execute_result"
    }
   ],
   "source": [
    "x = '7'\n",
    "y = '6'\n",
    "x + y"
   ]
  },
  {
   "cell_type": "markdown",
   "metadata": {},
   "source": [
    "#### (3) <br> &nbsp;&nbsp;&nbsp;&nbsp; x = '7' <br> &nbsp;&nbsp;&nbsp;&nbsp; y = '6' <br> &nbsp;&nbsp;&nbsp;&nbsp; x + y + x"
   ]
  },
  {
   "cell_type": "code",
   "execution_count": 13,
   "metadata": {},
   "outputs": [
    {
     "data": {
      "text/plain": [
       "'767'"
      ]
     },
     "execution_count": 13,
     "metadata": {},
     "output_type": "execute_result"
    }
   ],
   "source": [
    "x = '7'\n",
    "y = '6'\n",
    "x + y + x"
   ]
  },
  {
   "cell_type": "markdown",
   "metadata": {},
   "source": [
    "#### (4) <br> &nbsp;&nbsp;&nbsp;&nbsp; x = 7 <br> &nbsp;&nbsp;&nbsp;&nbsp; y = 6 <br> &nbsp;&nbsp;&nbsp;&nbsp; x + y + x + y"
   ]
  },
  {
   "cell_type": "code",
   "execution_count": 14,
   "metadata": {},
   "outputs": [
    {
     "data": {
      "text/plain": [
       "26"
      ]
     },
     "execution_count": 14,
     "metadata": {},
     "output_type": "execute_result"
    }
   ],
   "source": [
    "x = 7\n",
    "y = 6\n",
    "x + y + x + y"
   ]
  },
  {
   "cell_type": "markdown",
   "metadata": {},
   "source": [
    "## 도전문제 2.6"
   ]
  },
  {
   "cell_type": "markdown",
   "metadata": {},
   "source": [
    "#### (1) 사용자로부터 체중과 신장을 입력하도록 하여, 입력된 값에 따라 BMI를 계산하는 스크립트를 작성하라. 앞에서 이미 만들어 본 스크립트를 참조할 수 있을 것이다."
   ]
  },
  {
   "cell_type": "code",
   "execution_count": 16,
   "metadata": {},
   "outputs": [
    {
     "name": "stdout",
     "output_type": "stream",
     "text": [
      "내 BMI지수는 21.872422819032593\n"
     ]
    }
   ],
   "source": [
    "height = float(input(\"키를 입력하세요: \"))\n",
    "weight = float(input(\"몸무게를 입력하세요: \"))\n",
    "bmi = weight / height**2\n",
    "print('내 BMI지수는', bmi)"
   ]
  },
  {
   "cell_type": "markdown",
   "metadata": {},
   "source": [
    "#### (2) 사용자로부터 두 수를 입력 받아 두 수의 합과 평균을 출력하는 프로그램을 작성하여라."
   ]
  },
  {
   "cell_type": "code",
   "execution_count": 17,
   "metadata": {},
   "outputs": [
    {
     "name": "stdout",
     "output_type": "stream",
     "text": [
      "두 수의 합은 4 평균은 2.0\n"
     ]
    }
   ],
   "source": [
    "x = int(input('첫 번째 정수를 입력하세요: '))\n",
    "y = int(input('두 번째 정수를 입력하세요: '))\n",
    "sum = x + y\n",
    "avg = (x + y)/2\n",
    "print('두 수의 합은', sum, '평균은', avg)"
   ]
  },
  {
   "cell_type": "markdown",
   "metadata": {},
   "source": [
    "#### (3) 사용자로부터 세 수를 입력 받아 두 수의 합과 평균을 출력하는 프로그램을 작성하여라."
   ]
  },
  {
   "cell_type": "code",
   "execution_count": 18,
   "metadata": {},
   "outputs": [
    {
     "name": "stdout",
     "output_type": "stream",
     "text": [
      "두 수의 합은 6 평균은 2.0\n"
     ]
    }
   ],
   "source": [
    "x = int(input('첫 번째 정수를 입력하세요: '))\n",
    "y = int(input('두 번째 정수를 입력하세요: '))\n",
    "z = int(input('세 번째 정수를 입력하세요: '))\n",
    "sum = x + y + z\n",
    "avg = (x + y + z)/3\n",
    "print('두 수의 합은', sum, '평균은', avg)"
   ]
  },
  {
   "cell_type": "markdown",
   "metadata": {},
   "source": [
    "## 도전문제 2.7"
   ]
  },
  {
   "cell_type": "markdown",
   "metadata": {},
   "source": [
    "#### 축구나 테니스 등 자신이 좋아하는 경기로 바꾸어 로봇 기자가 다양한 기사를 작성할 수 있도록 해 보라. 스포츠 경기 뿐만 아니라 주식 시황을 알려주는 기사도 작성해 보라."
   ]
  },
  {
   "cell_type": "code",
   "execution_count": 19,
   "metadata": {},
   "outputs": [
    {
     "name": "stdout",
     "output_type": "stream",
     "text": [
      "===================================\n",
      "어제 EPL 리그에서\n",
      "손흥민 선수의 활약으로 토트넘 이 맨시티 를 이겼습니다.\n",
      "===================================\n"
     ]
    }
   ],
   "source": [
    "league = input('무슨 리그입니까? ')\n",
    "team1 = input('이긴 팀은 어디입니까? ')\n",
    "team2 = input('진 팀은 어디입니까? ')\n",
    "player = input('선수는 누구입니까? ')\n",
    "\n",
    "print(\"===================================\")\n",
    "print(\"어제\", league, '리그에서')\n",
    "print(player, '선수의 활약으로', team1, '이', team2, '를 이겼습니다.')\n",
    "print(\"===================================\")"
   ]
  },
  {
   "cell_type": "markdown",
   "metadata": {},
   "source": [
    "## LAB 2-1\n",
    "### 신체 질량 지수를 파이썬으로 계산하기"
   ]
  },
  {
   "cell_type": "markdown",
   "metadata": {},
   "source": [
    "#### 체중(kg), 키(m)를 입력하면 자동으로 BMI 값이 계산되어 변수 bmi에 저장되고, 그 값을 다음과 같이 출력하도록 해보자. <br> >>> bmi <br> 24.1358024691358"
   ]
  },
  {
   "cell_type": "code",
   "execution_count": 20,
   "metadata": {},
   "outputs": [
    {
     "data": {
      "text/plain": [
       "24.1358024691358"
      ]
     },
     "execution_count": 20,
     "metadata": {},
     "output_type": "execute_result"
    }
   ],
   "source": [
    "height = 1.80\n",
    "weight = 78.2\n",
    "bmi = weight / height**2\n",
    "bmi"
   ]
  },
  {
   "cell_type": "markdown",
   "metadata": {},
   "source": [
    "## LAB 2-2\n",
    "### 피자의 면적을 계산해보자"
   ]
  },
  {
   "cell_type": "markdown",
   "metadata": {},
   "source": [
    "#### 피자의 반지름을 20으로 변경하여 피자의 면적을 다시 계산하여라."
   ]
  },
  {
   "cell_type": "code",
   "execution_count": 21,
   "metadata": {},
   "outputs": [
    {
     "name": "stdout",
     "output_type": "stream",
     "text": [
      "피자 면적은 1256.0\n"
     ]
    }
   ],
   "source": [
    "radius = 20\n",
    "area = 3.14 * radius**2\n",
    "print('피자 면적은', area)"
   ]
  },
  {
   "cell_type": "markdown",
   "metadata": {},
   "source": [
    "## LAB 2-3\n",
    "### 터틀 그래픽으로 피자그리기"
   ]
  },
  {
   "cell_type": "markdown",
   "metadata": {},
   "source": [
    "#### 앞에서 반지름이 주어지면 피자의 면적을 계산하였다. 이번에는 반지름에 따라 터틀 그래픽으로 피자를 그려보자. 반지름이 2배가 되면 피자의 면적이 얼마나 커질지 가상 체험해보자."
   ]
  },
  {
   "cell_type": "code",
   "execution_count": 23,
   "metadata": {},
   "outputs": [],
   "source": [
    "import turtle\n",
    "t = turtle.Turtle()\n",
    "t.shape('turtle')\n",
    "radius = 100\n",
    "t.circle(radius)\n",
    "radius = 200\n",
    "t.circle(radius)\n",
    "turtle.done()"
   ]
  },
  {
   "cell_type": "markdown",
   "metadata": {},
   "source": [
    "## LAB 2-4\n",
    "### 복리 이자 계산하기"
   ]
  },
  {
   "cell_type": "markdown",
   "metadata": {},
   "source": [
    "#### 연 3%의 복리 이자를 주는 금융 상품에 1,000만원을 저축하였을 때 5년 후에 얻게 되는 수식을 변수로 저장하며 나타내라"
   ]
  },
  {
   "cell_type": "code",
   "execution_count": 24,
   "metadata": {},
   "outputs": [
    {
     "name": "stdout",
     "output_type": "stream",
     "text": [
      "원금:  10000000\n",
      "이율:  0.03\n",
      "기간:  5\n",
      "수령금액:  11592740.743\n"
     ]
    }
   ],
   "source": [
    "principal = 10000000\n",
    "years = 5\n",
    "interest_rate = 0.03\n",
    "money = principal * (1.0 + interest_rate)**years\n",
    "\n",
    "print('원금: ', principal)\n",
    "print('이율: ', interest_rate)\n",
    "print('기간: ', years)\n",
    "print('수령금액: ', money)"
   ]
  },
  {
   "cell_type": "markdown",
   "metadata": {},
   "source": [
    "## LAB 2-5\n",
    "### 로봇 기자가 야구기사를 쓰다"
   ]
  },
  {
   "cell_type": "markdown",
   "metadata": {},
   "source": [
    "#### 사용자에게 경기장, 점수, 이긴 팀과 진 팀, 우수 선수를 질문하고 변수에 저장하여 문자열에 문장을 붙여서 기사를 작성해라."
   ]
  },
  {
   "cell_type": "code",
   "execution_count": 25,
   "metadata": {},
   "outputs": [
    {
     "name": "stdout",
     "output_type": "stream",
     "text": [
      "\n",
      "===================================\n",
      "오늘 강릉 에서 야구경기가 열렸습니다.\n",
      "드림즈 과 비룡스 은 치열한 공방전을 펼쳤습니다.\n",
      "강두기 의 맹활약으로 드림즈 가 비룡스 를 9:7 로 이겼습니다.\n",
      "===================================\n"
     ]
    }
   ],
   "source": [
    "stadium = input('경기장은 어디입니까? ')\n",
    "winner = input('이긴 팀은 어디입니까? ')\n",
    "loser = input('진 팀은 어디입니까? ')\n",
    "vip = input('우수선수는 누구입니까? ')\n",
    "score = input('스코어는 몇대몇입니까? ')\n",
    "\n",
    "print('')\n",
    "print(\"===================================\")\n",
    "print(\"오늘\", stadium, '에서 야구경기가 열렸습니다.')\n",
    "print(winner, \"과\", loser, '은 치열한 공방전을 펼쳤습니다.')\n",
    "print(vip, '의 맹활약으로', winner, '가', loser, '를', score,'로 이겼습니다.')\n",
    "print(\"===================================\")"
   ]
  },
  {
   "cell_type": "markdown",
   "metadata": {},
   "source": [
    "## LAB 2-6\n",
    "### 부동산 광고 만들기에 도전하자"
   ]
  },
  {
   "cell_type": "markdown",
   "metadata": {},
   "source": [
    "#### 문자열 변수에 주소, 가격, 방의 수, 부동산 타입을 저장하며 부동산 광고를 출력하라."
   ]
  },
  {
   "cell_type": "code",
   "execution_count": 26,
   "metadata": {},
   "outputs": [
    {
     "name": "stdout",
     "output_type": "stream",
     "text": [
      "#################################\n",
      "#                               #\n",
      "# 부동산 매물 광고               #\n",
      "#                               #\n",
      "#################################\n",
      "\n",
      "서울시 종로구 에 위치한 아주 좋은  아파트 가 매물로 나왔습니다. 이  아파트 는  3 개의 방을 가지고 있으며 가격은 100000000 입니다.\n"
     ]
    }
   ],
   "source": [
    "street = '서울시 종로구'\n",
    "st = '아파트'\n",
    "number_of_rooms = 3\n",
    "price = 100000000\n",
    "\n",
    "print('#################################')\n",
    "print('#                               #')\n",
    "print('# 부동산 매물 광고               #')\n",
    "print('#                               #')\n",
    "print('#################################')\n",
    "print('')\n",
    "print(street, '에 위치한 아주 좋은 ', st, '가 매물로 나왔습니다. 이 ', st, '는 ',\n",
    " number_of_rooms, '개의 방을 가지고 있으며 가격은', price, '입니다.')"
   ]
  }
 ],
 "metadata": {
  "kernelspec": {
   "display_name": "Python 3 (ipykernel)",
   "language": "python",
   "name": "python3"
  },
  "language_info": {
   "codemirror_mode": {
    "name": "ipython",
    "version": 3
   },
   "file_extension": ".py",
   "mimetype": "text/x-python",
   "name": "python",
   "nbconvert_exporter": "python",
   "pygments_lexer": "ipython3",
   "version": "3.9.7"
  },
  "vscode": {
   "interpreter": {
    "hash": "82136e53588c9e34a2f5726c465560e45a7664f059ab9b40b627219027b97012"
   }
  }
 },
 "nbformat": 4,
 "nbformat_minor": 2
}
