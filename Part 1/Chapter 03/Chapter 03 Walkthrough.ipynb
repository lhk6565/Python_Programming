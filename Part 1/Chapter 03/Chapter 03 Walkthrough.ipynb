{
 "cells": [
  {
   "cell_type": "markdown",
   "metadata": {},
   "source": [
    "# Chater 03 연산자로 계산을 해 보자"
   ]
  },
  {
   "cell_type": "markdown",
   "metadata": {},
   "source": [
    "## 도전문제 3.1"
   ]
  },
  {
   "cell_type": "markdown",
   "metadata": {},
   "source": [
    "#### 사용자가 시간과 초를 입력하면 입력된 초가 몇 시간 몇 분 몇 초에 해당하는지 출력하는 코드를 몫과 나머지 연산을 이용해 구현해 보아라."
   ]
  },
  {
   "cell_type": "code",
   "execution_count": 1,
   "metadata": {},
   "outputs": [
    {
     "name": "stdout",
     "output_type": "stream",
     "text": [
      "입력한 시간은  645 시간 23 분 43 초입니다.\n"
     ]
    }
   ],
   "source": [
    "time = int(input('초를 입력하세요: '))\n",
    "hour = int(time/60/60)\n",
    "minute = int((time/60)%60)\n",
    "second = time%60%60\n",
    "print('입력한 시간은 ', hour, '시간', minute, '분', second, '초입니다.')"
   ]
  },
  {
   "cell_type": "markdown",
   "metadata": {},
   "source": [
    "## 도전문제 3.2"
   ]
  },
  {
   "cell_type": "markdown",
   "metadata": {},
   "source": [
    "#### BMI는 비만도를 추정하는 데에 가장 흔히 사용되는 지수 이지만, 정확도에 한계가 있다는 비판이 많다. BMI 처럼 간단하면서 비만도 계산의 정확도가 높은 것으로 알려진 새로운 지수가 있다. 상대적 지방 질량 지수로 간단히 줄여서 RFM이라고 한다. 남자와 여자에 적용되는 수식이 다르다.\n",
    "##### <center> $여성을 위한 공식: 76 - (20 \\times (신장/허리둘레))$ </center><br><center> $남성을 위한 공식: 64 - (20 \\times (신장/허리둘레))$ </center>\n",
    "#### 여러 논문을 통해 오른쪽 그림처럼 RFM 지수가 실제 체지방 비율과 더 잘 일치한다고 보고되었다. 남녀 모두를 위한 공식은 성별에 여성은 1, 남성은 0을 적용하여 다음과 같이 구할 수 있다.\n",
    "##### <center> $RFM = 64 - (20 \\times (신장 / 허리둘레)) + 12 \\times 성별$ </center>\n",
    "#### RFM을 계산하는 프로그램을 다음과 같은 방식으로 동작하게 만들어보라."
   ]
  },
  {
   "cell_type": "code",
   "execution_count": 2,
   "metadata": {},
   "outputs": [
    {
     "name": "stdout",
     "output_type": "stream",
     "text": [
      "당신의 RFM은 25.48936170212766\n"
     ]
    }
   ],
   "source": [
    "sex = int(input('여성이면 1, 남성이면 0을 입력하세요: '))\n",
    "height = int(input('당신의 키는 얼마입니까? '))\n",
    "round = int(input('당신의 허리 둘레는 얼마입니까? '))\n",
    "RFM = 64 - (20 * (height / round)) + 12 * sex\n",
    "print('당신의 RFM은', RFM)"
   ]
  },
  {
   "cell_type": "markdown",
   "metadata": {},
   "source": [
    "## LAB 3-1 거북이 그래픽으로 숫자를 입력받아 다각형을 그리자"
   ]
  },
  {
   "cell_type": "markdown",
   "metadata": {},
   "source": [
    "#### 다음과 같이 사용자가 몇각형인지를 입력하면 해당되는 다각 형을 화면에 그리는 프로그램을 작성해보자."
   ]
  },
  {
   "cell_type": "code",
   "execution_count": 3,
   "metadata": {},
   "outputs": [],
   "source": [
    "import turtle\n",
    "t = turtle.Turtle()\n",
    "t.shape('turtle')\n",
    "n = int(input('몇각형을 그리시겠어요?(3-6): '))\n",
    "\n",
    "for i in range(n):\n",
    "    t.forward(100)\n",
    "    t.left(360//n)\n",
    "turtle.done()"
   ]
  },
  {
   "cell_type": "markdown",
   "metadata": {},
   "source": [
    "## LAB 3-2 화씨온도를 섭씨온도로 변환하기"
   ]
  },
  {
   "cell_type": "markdown",
   "metadata": {},
   "source": [
    "#### 우리나라에서는 온도를 나타낼 때 섭씨온도를 사용하지만 미국에서는 화씨온도를 사용한다. 화씨온도를 받아서 섭씨온도를 바꾸는 프로그램을 작성해보자. 화씨온도를 $F$라고 하면 섭씨온도 $C$로 바꾸는 식은 다음과 같다.\n",
    "##### <center> $C = (F-32) \\times \\frac{5}{9}$ </center>"
   ]
  },
  {
   "cell_type": "code",
   "execution_count": 4,
   "metadata": {},
   "outputs": [
    {
     "name": "stdout",
     "output_type": "stream",
     "text": [
      "섭씨온도: 37.77777777777778\n"
     ]
    }
   ],
   "source": [
    "fahrenheit = int(input('화씨온도: '))\n",
    "celsius = ((fahrenheit-32) * 5/9)\n",
    "print('섭씨온도:', celsius)"
   ]
  },
  {
   "cell_type": "markdown",
   "metadata": {},
   "source": [
    "## LAB 3-3 몸무게와 키를 입력받아 BMI 계산하기"
   ]
  },
  {
   "cell_type": "markdown",
   "metadata": {},
   "source": [
    "#### BMI는 체중(kg)을 신장(m)의 제곱으로 나눈 값으로 체지방 축적을 잘 반영하기 때문에 비만도 판정에 많이 사용한다. 앞 장에서도 BMI 계산을 해보았지만, 변수에 값을 바로 지정해서 결과를 얻었다. 이번에는 사용자의 입력을 받아 처리하도록 개선해 보자. BMI 지수는 킬로그램 단위로 측정한 체중을 $w$, 미터 단위로 측정한 키가 $h$라고 할 때 다음과 같이 구할 수 있다.\n",
    "##### <center> $BMI = \\frac{w}{h^2}$ </center>"
   ]
  },
  {
   "cell_type": "code",
   "execution_count": 5,
   "metadata": {},
   "outputs": [
    {
     "name": "stdout",
     "output_type": "stream",
     "text": [
      "당신의 BMI= 21.872422819032593\n"
     ]
    }
   ],
   "source": [
    "weight = float(input('몸무게를 kg 단위로 입력하시오: '))\n",
    "height = float(input('키를 미터 단위로 입력하시오: '))\n",
    "bmi = weight / height**2\n",
    "print('당신의 BMI=', bmi)"
   ]
  },
  {
   "cell_type": "markdown",
   "metadata": {},
   "source": [
    "## LAB 3-4 자동 판매기 프로그램을 만들어 보자"
   ]
  },
  {
   "cell_type": "markdown",
   "metadata": {},
   "source": [
    "#### 자동 판매기를 시뮬레이션하는 프로그램을 작성해보자. 자동 판매기는 사용자로부터 투입한 돈과 물건값을 입력받는다. 물건값은 100원 단위라고 가정한다. 프로그램은 잔돈을 계산하여 출력한다. 자판기는 동전 500원, 100원짜리만 가지고 있다고 가정하자. 투입한 금액과 물건값을 입력으로 받아 거스름돈으로 500원 동전 몇 개와 100원 동전 몇 개를 내어 보내면 되는지 계산하는 프로그램을 작성하라."
   ]
  },
  {
   "cell_type": "code",
   "execution_count": 6,
   "metadata": {},
   "outputs": [
    {
     "name": "stdout",
     "output_type": "stream",
     "text": [
      "거스름돈: 2400\n",
      "500원 동전의 개수: 4\n",
      "100원 동전의 개수: 4\n"
     ]
    }
   ],
   "source": [
    "money = int(input('투입한 돈: '))\n",
    "price = int(input('물건값: '))\n",
    "change = money - price\n",
    "coin500 = change // 500\n",
    "coin100 = (change % 500) // 100\n",
    "print('거스름돈:', change)\n",
    "print('500원 동전의 개수:', coin500)\n",
    "print('100원 동전의 개수:', coin100)"
   ]
  },
  {
   "cell_type": "markdown",
   "metadata": {},
   "source": [
    "## LAB 3-5 평균 구하기 - 연산자 우선순위"
   ]
  },
  {
   "cell_type": "markdown",
   "metadata": {},
   "source": [
    "#### 수식을 프로그램으로 구현하는 경우에는 연산자의 우선순위에 주의할 필요가 있다. 사용자로부터 3개의 수를 입력받아서 평균값을 계산하여 출력하는 프로그램을 작성해보자."
   ]
  },
  {
   "cell_type": "code",
   "execution_count": 7,
   "metadata": {},
   "outputs": [
    {
     "name": "stdout",
     "output_type": "stream",
     "text": [
      "평균 = 20.0\n"
     ]
    }
   ],
   "source": [
    "x = int(input('첫 번째 수를 입력하시오: '))\n",
    "y = int(input('두 번째 수를 입력하시오: '))\n",
    "z = int(input('세 번째 수를 입력하시오: '))\n",
    "\n",
    "avg = (x + y + z) / 3\n",
    "print('평균 =', avg)"
   ]
  }
 ],
 "metadata": {
  "kernelspec": {
   "display_name": "Python 3 (ipykernel)",
   "language": "python",
   "name": "python3"
  },
  "language_info": {
   "codemirror_mode": {
    "name": "ipython",
    "version": 3
   },
   "file_extension": ".py",
   "mimetype": "text/x-python",
   "name": "python",
   "nbconvert_exporter": "python",
   "pygments_lexer": "ipython3",
   "version": "3.9.7"
  },
  "vscode": {
   "interpreter": {
    "hash": "82136e53588c9e34a2f5726c465560e45a7664f059ab9b40b627219027b97012"
   }
  }
 },
 "nbformat": 4,
 "nbformat_minor": 2
}
