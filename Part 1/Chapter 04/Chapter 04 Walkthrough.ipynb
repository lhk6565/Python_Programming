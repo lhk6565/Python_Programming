{
 "cells": [
  {
   "cell_type": "markdown",
   "metadata": {},
   "source": [
    "# Chapter 04 조건을 따져 실행해보자"
   ]
  },
  {
   "cell_type": "markdown",
   "metadata": {},
   "source": [
    "## 도전문제 4.1"
   ]
  },
  {
   "cell_type": "markdown",
   "metadata": {},
   "source": [
    "#### 어린이 보호구역내의 과속단속 카메라로부터 다음과 같이 자동차의 속도를 km/h 값으로 입력 받으시오. 이 값이 30 이상이면 다음과 같이 '과속입니다. 속도를 줄이세요.'를 출력하여라."
   ]
  },
  {
   "cell_type": "code",
   "execution_count": 1,
   "metadata": {},
   "outputs": [
    {
     "name": "stdout",
     "output_type": "stream",
     "text": [
      "과속입니다. 속도를 줄이세요.\n"
     ]
    }
   ],
   "source": [
    "speed = int(input('속도를 입력하세요 : '))\n",
    "if speed >= 30:\n",
    "    print('과속입니다. 속도를 줄이세요.')"
   ]
  },
  {
   "cell_type": "markdown",
   "metadata": {},
   "source": [
    "## 도전문제 4.2"
   ]
  },
  {
   "cell_type": "markdown",
   "metadata": {},
   "source": [
    "#### 어린이 보호구역내의 과속단속 카메라로 부터 다음과 같이 자동차의 속도를 입력 받으시오. 이 값이 30 이상이면 '과속입니다. 속도를 줄이세요.'를 출력하고, 그렇지 않을 경우 '안전운전하세요.'를 출력하여라."
   ]
  },
  {
   "cell_type": "code",
   "execution_count": 2,
   "metadata": {},
   "outputs": [
    {
     "name": "stdout",
     "output_type": "stream",
     "text": [
      "과속입니다. 속도를 줄이세요.\n"
     ]
    }
   ],
   "source": [
    "speed = int(input('속도를 입력하세요 : '))\n",
    "if speed >= 30:\n",
    "    print('과속입니다. 속도를 줄이세요.')\n",
    "else:\n",
    "    print('안전운전하세요.')"
   ]
  },
  {
   "cell_type": "markdown",
   "metadata": {},
   "source": [
    "## 도전문제 4.3"
   ]
  },
  {
   "cell_type": "markdown",
   "metadata": {},
   "source": [
    "#### (1) 사용자로부터 정수를 입력받아 0보다 작으면 '음수입니다.'를 출력하고 그렇지 않을 경우 '음수가 아닙니다.'를 출력하는 프로그램을 작성하시오."
   ]
  },
  {
   "cell_type": "code",
   "execution_count": 3,
   "metadata": {},
   "outputs": [
    {
     "name": "stdout",
     "output_type": "stream",
     "text": [
      "음수가 아닙니다.\n"
     ]
    }
   ],
   "source": [
    "num = int(input('정수를 입력하세요: '))\n",
    "if num < 0:\n",
    "    print('음수입니다.')\n",
    "else:\n",
    "    print('음수가 아닙니다.')"
   ]
  },
  {
   "cell_type": "markdown",
   "metadata": {},
   "source": [
    "#### (2) 게임 사용자의 게임 점수(game_score)를 입력받아서 10000점 이상이면 '고수입니다.'를 출력하고, 10000점 미만이면 '입문자입니다.'를 출력하는 프로그램을 `if-else`문을 이용하여 작성하시오."
   ]
  },
  {
   "cell_type": "code",
   "execution_count": 4,
   "metadata": {},
   "outputs": [
    {
     "name": "stdout",
     "output_type": "stream",
     "text": [
      "고수입니다.\n"
     ]
    }
   ],
   "source": [
    "game_score = int(input('점수를 입력하세요: '))\n",
    "if game_score >= 10000:\n",
    "    print('고수입니다.')\n",
    "else:\n",
    "    print('입문자입니다.')"
   ]
  },
  {
   "cell_type": "markdown",
   "metadata": {},
   "source": [
    "#### (3) 두 정수를 입력받아 같을 경우 '두 값이 일치합니다.'를 출력하고 값이 다르면 '두 값이 일치하지 않습니다.'를 출력하는 프로그램을 `if`문을 이용하여 작성하시오. 두 정수에 각각 100과 200이 할당되어 있는 경우와 300과 300이 할당되어 있는 경우의 출력문을 확인하시오."
   ]
  },
  {
   "cell_type": "code",
   "execution_count": 5,
   "metadata": {},
   "outputs": [
    {
     "name": "stdout",
     "output_type": "stream",
     "text": [
      "두 값이 일치합니다.\n"
     ]
    }
   ],
   "source": [
    "score1 = int(input('첫 번째 정수를 입력하세요.: '))\n",
    "score2 = int(input('두 번째 정수를 입력하세요.: '))\n",
    "if score1 == score2:\n",
    "    print('두 값이 일치합니다.')\n",
    "else:\n",
    "    print('두 값이 일치하지 않습니다.')"
   ]
  },
  {
   "cell_type": "markdown",
   "metadata": {},
   "source": [
    "## 도전문제 4.4"
   ]
  },
  {
   "cell_type": "markdown",
   "metadata": {},
   "source": [
    "#### 사용자로부터 2개의 정수를 연속하여 입력받도록 위의 코드를 수정하여라. 이때 두 정순느 모두 0이 아니라고 가정하자. 두 정수를 각각 $x, y$라 할때 두 정수의 부호가 모두 양수이면 1사분면 (100, 100) 좌표로, $x$가 음수이고 $y$가 양수이면 2사분면 (-100, 100)좌표로, 두 수 모두 음수이면 3사분면 (-100, -100) 좌표로, $x$가 양수이고 $y$가 음수이면 4사분면 (100, -100) 좌표로 거북이를 이동시키는 프로그램을 작성해 보자(힌트 : `turtle.textinput()` 함수를 두 번 사용하여 정수 두개를 입력받고 이 정수 값에 대하여 각각 `if` 문을 사용하도록 하자)."
   ]
  },
  {
   "cell_type": "code",
   "execution_count": 6,
   "metadata": {},
   "outputs": [],
   "source": [
    "import turtle\n",
    "t = turtle.Turtle()\n",
    "t.shape('turtle')\n",
    "\n",
    "t.penup()\n",
    "t.goto(100, 100)\n",
    "t. write('두 수 모두 양수.')\n",
    "t.goto(-100, 100)\n",
    "t. write('첫 번째 수만 양수.')\n",
    "t.goto(-100, -100)\n",
    "t. write('두 수 모두 음수.')\n",
    "t.goto(100, -100)\n",
    "t. write('두 번째 수만 음수.')\n",
    "t.goto(0, 0)\n",
    "t.pendown()\n",
    "\n",
    "x = int(turtle.textinput('','첫 번째 정수를 입력하세요: '))\n",
    "y = int(turtle.textinput('','두 번째 정수를 입력하세요: '))\n",
    "\n",
    "if (x > 0) & (y > 0):\n",
    "    t.goto(100, 100)\n",
    "if (x < 0) & (y > 0):\n",
    "    t.goto(-100, 100)\n",
    "if (x < 0) & (y < 0):\n",
    "    t.goto(-100, -100)\n",
    "if (x > 0) & (y < 0):\n",
    "    t.goto(100, -100)\n",
    "turtle.done()"
   ]
  },
  {
   "cell_type": "markdown",
   "metadata": {},
   "source": [
    "## 도전문제 4.5"
   ]
  },
  {
   "cell_type": "markdown",
   "metadata": {},
   "source": [
    "#### 사용자로부터 2개의 정수를 입력받도록 위의 코드를 수정하여라. 두 정수를 각각 $x, y$라 할때 두 정수를 비교하여 $x$가 크면 오른쪽으로, $y$가 크면 왼쪽으로 움직이고, 두 값이 같은 값이면 위로 움직이도록 하는 프로그램을 작성하시오."
   ]
  },
  {
   "cell_type": "code",
   "execution_count": 8,
   "metadata": {},
   "outputs": [],
   "source": [
    "import turtle\n",
    "t = turtle.Turtle()\n",
    "t.shape('turtle')\n",
    "\n",
    "x = int(turtle.textinput('','첫 번째 정수를 입력하세요: '))\n",
    "y = int(turtle.textinput('','두 번째 정수를 입력하세요: '))\n",
    "\n",
    "if x > y:\n",
    "    t.goto(100, 0)\n",
    "else:\n",
    "    t.goto(-100, 0)\n",
    "    \n",
    "turtle.done()"
   ]
  },
  {
   "cell_type": "markdown",
   "metadata": {},
   "source": [
    "## 도전문제 4.6"
   ]
  },
  {
   "cell_type": "markdown",
   "metadata": {},
   "source": [
    "#### 1) 15세 이상이면 '본 영화를 보실 수 있습니다.' 메시지를 출력한 후 그 다음 줄에 '영화의 가격은 10000원입니다.'를 츨력해보자. 만약 15세 미만이면 '영화를 보실 수 없습니다.' 메시지에 추가로 '다른 영화를 보시겠어요?'를 출력해보자."
   ]
  },
  {
   "cell_type": "code",
   "execution_count": 9,
   "metadata": {},
   "outputs": [
    {
     "name": "stdout",
     "output_type": "stream",
     "text": [
      "본 영화를 보실 수 있습니다.\n",
      "영화의 가격은 10000원입니다.\n"
     ]
    }
   ],
   "source": [
    "age = int(input('나이를 입력하시오:'))\n",
    "if age >= 15:\n",
    "    print('본 영화를 보실 수 있습니다.')\n",
    "    print('영화의 가격은 10000원입니다.')\n",
    "else:\n",
    "    print('본 영화를 보실 수 없습니다.')\n",
    "    print('다른 영화를 보시겠어요?')"
   ]
  },
  {
   "cell_type": "markdown",
   "metadata": {},
   "source": [
    "#### 2) 교통 카드의 종류로 '청소년', '성인' 카드가 있다고 하자. 사용자에게 카드의 종류를 입력받아 청소년이면 '청소년입니다.'를 출력하고 '성인'이면 '승인되었습니다.'를 출력하는 `if-else` 조건문을 만들어서 출력해보자."
   ]
  },
  {
   "cell_type": "code",
   "execution_count": 10,
   "metadata": {},
   "outputs": [
    {
     "name": "stdout",
     "output_type": "stream",
     "text": [
      "승인되었습니다.\n"
     ]
    }
   ],
   "source": [
    "card = input('카드 종류를 입력하시오: ')\n",
    "if card == '청소년':\n",
    "    print('청소년입니다.')\n",
    "else:\n",
    "    print('승인되었습니다.')"
   ]
  },
  {
   "cell_type": "markdown",
   "metadata": {},
   "source": [
    "## 도전문제 4.7"
   ]
  },
  {
   "cell_type": "markdown",
   "metadata": {},
   "source": [
    "#### (1) 사용자가 'f'를 입력하면 현재 방향에서 100픽셀 전진하도록 소스를 약간 변경해보자.\n",
    "#### (2) 사용자가 'h'를 입력하면 헐크모드가 되어 오른쪽 그림과 같이 크기가 가로 세로로 10배 커지도록 하자. 반대로 'n'을 입력하면 원래의 크기인 가로, 세로로 3배 커진 상태가 되도록하자.\n",
    "#### (3) 정수 1에서 9사이의 값을 입력으로 받아서 입력값에 따라서 거북이의 크기가 원래 크기의 1에서 9배 사이로 커지도록 하자."
   ]
  },
  {
   "cell_type": "code",
   "execution_count": 12,
   "metadata": {},
   "outputs": [],
   "source": [
    "import turtle\n",
    "t = turtle.Turtle()\n",
    "t.shape('turtle')\n",
    "while True:\n",
    "    command = input('모드를 입력하시오: ')\n",
    "    if command.isnumeric() == True:\n",
    "        if (command >='1' or command <= '9'):\n",
    "            x = int(command)\n",
    "            t.shapesize(x, x)\n",
    "            break\n",
    "    else:\n",
    "        if command == 'f':\n",
    "            t.forward(100)\n",
    "            break\n",
    "        if command == 'h':\n",
    "            t.shapesize(10, 10)\n",
    "            break\n",
    "        if command == 'n':\n",
    "            t.shapesize(3, 3)\n",
    "            break\n",
    "turtle.done()"
   ]
  },
  {
   "cell_type": "markdown",
   "metadata": {},
   "source": [
    "## 도전문제 4.8"
   ]
  },
  {
   "cell_type": "markdown",
   "metadata": {},
   "source": [
    "#### `random.randrange(2)`를 이용하여 10개의 난수를 생성하도록 하자. `random`모듈의 `randrange(2)`함수는 0과 1중에서 하나의 정수를 생성한다. `if-else`문을 10개 사용하여 0이 나타날 경우 `right`로 50픽셀 이동하고 1이 나타날 경우 `left`로 50픽셀을 이동하도록 하여라. 이와 같이 자유롭게 10회 이동한 후 거북이 그래픽이 그리는 그림을 다음과 같이 보여라."
   ]
  },
  {
   "cell_type": "code",
   "execution_count": 14,
   "metadata": {},
   "outputs": [],
   "source": [
    "import random\n",
    "import turtle\n",
    "t = turtle.Turtle()\n",
    "t.shape('turtle')\n",
    "if random.randrange(2) == 1:\n",
    "    t.forward(50)\n",
    "    t.left(50)\n",
    "else:\n",
    "    t.forward(50)\n",
    "    t.right(50)\n",
    "if random.randrange(2) == 1:\n",
    "    t.forward(50)\n",
    "    t.left(50)\n",
    "else:\n",
    "    t.forward(50)\n",
    "    t.right(50)\n",
    "if random.randrange(2) == 1:\n",
    "    t.forward(50)\n",
    "    t.left(50)\n",
    "else:\n",
    "    t.forward(50)\n",
    "    t.right(50)\n",
    "if random.randrange(2) == 1:\n",
    "    t.forward(50)\n",
    "    t.left(50)\n",
    "else:\n",
    "    t.forward(50)\n",
    "    t.right(50)\n",
    "if random.randrange(2) == 1:\n",
    "    t.forward(50)\n",
    "    t.left(50)\n",
    "else:\n",
    "    t.forward(50)\n",
    "    t.right(50)\n",
    "if random.randrange(2) == 1:\n",
    "    t.forward(50)\n",
    "    t.left(50)\n",
    "else:\n",
    "    t.forward(50)\n",
    "    t.right(50)\n",
    "if random.randrange(2) == 1:\n",
    "    t.forward(50)\n",
    "    t.left(50)\n",
    "else:\n",
    "    t.forward(50)\n",
    "    t.right(50)\n",
    "if random.randrange(2) == 1:\n",
    "    t.forward(50)\n",
    "    t.left(50)\n",
    "else:\n",
    "    t.forward(50)\n",
    "    t.right(50)\n",
    "if random.randrange(2) == 1:\n",
    "    t.forward(50)\n",
    "    t.left(50)\n",
    "else:\n",
    "    t.forward(50)\n",
    "    t.right(50)\n",
    "if random.randrange(2) == 1:\n",
    "    t.forward(50)\n",
    "    t.left(50)\n",
    "else:\n",
    "    t.forward(50)\n",
    "    t.right(50)\n",
    "turtle.done()"
   ]
  },
  {
   "cell_type": "markdown",
   "metadata": {},
   "source": [
    "## 도전문제 4.9"
   ]
  },
  {
   "cell_type": "markdown",
   "metadata": {},
   "source": [
    "#### 주사위 더지기 게임으로 변환해보자. `random.randint(1, 6)`을 사용하면서 1에서 6까지의 정수를 랜덤하게 생성할 수 있다. 입력으로 '홍길동', '홍길순'과 같은 사용자의 이름을 받아서 홍길동의 주사위 번호, 홍길순의 주사위 번호를 출력한 후 이들을 비교하여 다음과 같이 출력하여라. 결과는 '홍길동이 이겼습니다.', '홍길순이 이겼습니다.', 혹은 '비겼습니다.' 가운데 하나가 나타나도록 하여라."
   ]
  },
  {
   "cell_type": "code",
   "execution_count": 15,
   "metadata": {},
   "outputs": [
    {
     "name": "stdout",
     "output_type": "stream",
     "text": [
      ".....주사위를 굴립니다.....\n",
      "홍길동 의 주사위 번호는 5\n",
      "홍길순 의 주사위 번호는 3\n",
      "홍길동 이 이겼습니다.\n"
     ]
    }
   ],
   "source": [
    "import random\n",
    "player1 = input('Player1의 이름 : ')\n",
    "player2 = input('Player2의 이름 : ')\n",
    "print('.....주사위를 굴립니다.....')\n",
    "num1 = random.randrange(1, 6)\n",
    "num2 = random.randrange(1, 6)\n",
    "print(player1,'의 주사위 번호는',num1)\n",
    "print(player2,'의 주사위 번호는',num2)\n",
    "if num1 > num2:\n",
    "    print(player1,'이 이겼습니다.')\n",
    "elif num1 < num2:\n",
    "    print(player2,'이 이겼습니다.')\n",
    "else:\n",
    "    print('비겼습니다.')"
   ]
  },
  {
   "cell_type": "markdown",
   "metadata": {},
   "source": [
    "## 도전문제 4.10"
   ]
  },
  {
   "cell_type": "markdown",
   "metadata": {},
   "source": [
    "#### 위의 LAB은 원의 중심이 원점에 있는 경우를 가정하였다. 이제 원의 중심이 (3, 4)이고 원의 반지름이 10인 경우에 대하여 고려해보자. 다음과 같이 사용자로부터 $x$와 $y$좌표를 입력받은 후, 입력받은 점의 좌표 $(x, y)$가 원의 내부에 있으면 '원의 내부의 있음', 원의 외부의 있으면 '원의 외부에 있음'을 출력하는 다음과 같은 프로그램을 작성하시오."
   ]
  },
  {
   "cell_type": "code",
   "execution_count": 16,
   "metadata": {},
   "outputs": [
    {
     "name": "stdout",
     "output_type": "stream",
     "text": [
      "원의 내부에 있음\n"
     ]
    }
   ],
   "source": [
    "x, y = map(float, input('점의 좌표 x, y를 입력하시오 : ').split())\n",
    "a = (3*3 + 4*4)*0.5\n",
    "if x*x + y*y > (10*10)+a:\n",
    "    print('원의 외부에 있음')\n",
    "else:\n",
    "    print('원의 내부에 있음')"
   ]
  },
  {
   "cell_type": "markdown",
   "metadata": {},
   "source": [
    "## 도전문제 4.11"
   ]
  },
  {
   "cell_type": "markdown",
   "metadata": {},
   "source": [
    "#### 아이디 검사가 종료되면 바로 패스워드 검사를 하여 보자. 즉 다음과 같은 출력을 가지는 프로그램을 작성하며, 저장된 패스워드는 mypass1234라고 하자. 두 가지가 모두 맞을 경우 아래와 같이 '환영합니다.'를 출력하도록 하고 그렇지 않을 경우 '아이디를 찾을 수 없습니다.' 혹은 '비밀번호가 틀렸습니다.'를 출력하도록 하자."
   ]
  },
  {
   "cell_type": "code",
   "execution_count": 17,
   "metadata": {},
   "outputs": [
    {
     "name": "stdout",
     "output_type": "stream",
     "text": [
      "환영합니다.\n"
     ]
    }
   ],
   "source": [
    "id = 'ilovepython'\n",
    "id_input = input('아이디를 입력하시오: ')\n",
    "pw = 'mypass1234'\n",
    "pw_input = input('패스워드를 입력하시오: ')\n",
    "if id_input == id:\n",
    "    if pw_input == pw:\n",
    "        print('환영합니다.')\n",
    "    else:\n",
    "        print('비밀번호가 틀렸습니다.')\n",
    "else:\n",
    "    print('아이디를 찾을 수 없습니다.')"
   ]
  },
  {
   "cell_type": "markdown",
   "metadata": {},
   "source": [
    "## 도전문제 4.12"
   ]
  },
  {
   "cell_type": "markdown",
   "metadata": {},
   "source": [
    "#### 이 문제를 풀기 위해 `options=['왼쪽', '중앙', '오른쪽']` 리스트를 생성하자. 다음으로 `random` 모듈을 사용하여 `computer_choice = random.choice(options)`와 같이하여 리스트에서 임의의 문자열을 추출하는 방식으로 다시 작성해 보자. 리스트에 대한 상세한 설명은 6장에서 다룰 것이다."
   ]
  },
  {
   "cell_type": "code",
   "execution_count": 18,
   "metadata": {},
   "outputs": [
    {
     "name": "stdout",
     "output_type": "stream",
     "text": [
      "공격에 실패하셨습니다.\n",
      "컴퓨터의 수비위치 : 왼쪽\n"
     ]
    }
   ],
   "source": [
    "import random\n",
    "options = ['왼쪽', '중앙', '오른쪽']\n",
    "computer_choice = random.choice(options)\n",
    "\n",
    "user_choice = input('어디를 공격하시겠어요?(왼쪽, 중앙, 오른쪽) : ')\n",
    "if computer_choice == user_choice:\n",
    "    print('공격에 실패하셨습니다.')\n",
    "else:\n",
    "    print('축하합니다!! 공격에 성공하였습니다.')\n",
    "print('컴퓨터의 수비위치 :', computer_choice)"
   ]
  },
  {
   "cell_type": "markdown",
   "metadata": {},
   "source": [
    "## 도전문제 4.13"
   ]
  },
  {
   "cell_type": "markdown",
   "metadata": {},
   "source": [
    "#### 해답 코드를 수정하여 삼각형과 원에 대해서도 처리가 가능하도록 개선해 보라. 이때 입력이 원일 경우 반지름을 입력받도록 하자."
   ]
  },
  {
   "cell_type": "code",
   "execution_count": 20,
   "metadata": {},
   "outputs": [],
   "source": [
    "import turtle\n",
    "t = turtle.Turtle()\n",
    "t.shape('turtle')\n",
    "fig = turtle.textinput('','도형을 입력하시오: ')\n",
    "if fig == '사각형':\n",
    "    w = turtle.numinput('', '가로: ')\n",
    "    h = turtle.numinput('', '세로: ')\n",
    "    t.forward(w)\n",
    "    t.left(90)\n",
    "    t.forward(h)\n",
    "    t.left(90)\n",
    "    t.forward(w)\n",
    "    t.left(90)\n",
    "    t.forward(h)\n",
    "elif fig == '삼각형':\n",
    "    l = turtle.numinput('', '변의 길이: ')\n",
    "    t.forward(l)\n",
    "    t.left(120)\n",
    "    t.forward(l)\n",
    "    t.left(120)\n",
    "    t.forward(l)\n",
    "elif fig == '원':\n",
    "    r = turtle.numinput('', '반지름의 길이: ')\n",
    "    t.circle(r)\n",
    "turtle.done()"
   ]
  },
  {
   "cell_type": "markdown",
   "metadata": {},
   "source": [
    "## LAB 4-1 입력 숫자에 따라 터틀 그래픽을 제어해보자"
   ]
  },
  {
   "cell_type": "markdown",
   "metadata": {},
   "source": [
    "#### 사용자로부터 정수를 받아서 정수의 부허에 따라서 거북이를 (100, 100), (100, 0), (100, -100)으로 움직이는 프로그램을 작성해보자."
   ]
  },
  {
   "cell_type": "code",
   "execution_count": 22,
   "metadata": {},
   "outputs": [],
   "source": [
    "import turtle\n",
    "t = turtle.Turtle()\n",
    "t.shape('turtle')\n",
    "\n",
    "t.penup()\n",
    "t.goto(100, 100)\n",
    "t.write('거북이가 여기로 오면 양수입니다.')\n",
    "t.goto(100, 0)\n",
    "t.write('거북이가 여기로 오면 0입니다.')\n",
    "t.goto(100, -100)\n",
    "t.write('거북이가 여기로 오면 음수입니다.')\n",
    "\n",
    "t.goto(0, 0)\n",
    "t.pendown()\n",
    "\n",
    "n = turtle.numinput('','숫자를 입력하시오: ')\n",
    "if n > 0:\n",
    "    t.goto(100, 100)\n",
    "elif n == 0:\n",
    "    t.goto(100, 0)\n",
    "else:\n",
    "    t.goto(100, -100)\n",
    "turtle.done()"
   ]
  },
  {
   "cell_type": "markdown",
   "metadata": {},
   "source": [
    "## LAB 4-2 영화를 볼 수 있는 나이 제한 검사를 하자"
   ]
  },
  {
   "cell_type": "markdown",
   "metadata": {},
   "source": [
    "#### 15세 이상만 볼 수 있는 영화가 있다고 하자. 사용자의 나이를 물어보면 영화를 볼 수 있는지 없는지 여부를 화면에 출력하는 프로그램을 작성해보자."
   ]
  },
  {
   "cell_type": "code",
   "execution_count": 23,
   "metadata": {},
   "outputs": [
    {
     "name": "stdout",
     "output_type": "stream",
     "text": [
      "본 영화를 보실 수 있습니다.\n"
     ]
    }
   ],
   "source": [
    "age = int(input('나이를 입력하시오: '))\n",
    "if age >= 15:\n",
    "    print('본 영화를 보실 수 있습니다.')\n",
    "else:\n",
    "    print('본 영화를 보실 수 없습니다.')"
   ]
  },
  {
   "cell_type": "markdown",
   "metadata": {},
   "source": [
    "## LAB 4-3 거북이 제어하기"
   ]
  },
  {
   "cell_type": "markdown",
   "metadata": {},
   "source": [
    "#### 파이썬 쉘에서 `left`를 의미하는 'l'을 입력하면 거북이가 왼쪽으로 100픽셀 이동하고 `right`를 의미하는 'r'을 입력하면 거북이가 오른쪽으로 100픽셀 이동하는 프로그램을 작성하여 보자."
   ]
  },
  {
   "cell_type": "code",
   "execution_count": 25,
   "metadata": {},
   "outputs": [],
   "source": [
    "import turtle\n",
    "t = turtle.Turtle()\n",
    "t.shape('turtle')\n",
    "\n",
    "t.width(3)\n",
    "t.shapesize(3, 3)\n",
    "\n",
    "while True:\n",
    "    command = input('명령을 입력하시오: ')\n",
    "    if command == 'l':\n",
    "        t.left(90)\n",
    "        t.forward(100)\n",
    "    if command == 'r':\n",
    "        t.right(90)\n",
    "        t.forward(100)"
   ]
  },
  {
   "cell_type": "markdown",
   "metadata": {},
   "source": [
    "## LAB 4-4 윤년 판단은 어떻게 하지"
   ]
  },
  {
   "cell_type": "markdown",
   "metadata": {},
   "source": [
    "#### 달력은 기본적으로 지구가 태양을 공전하는 시간을 기준으로 작성된다. 하지만 실제로 측정하여 보니 지구가 태양을 완전히 한 바퀴 도는데 걸리는 시간은 365일보다 약 1/4 만큼 더 걸린다. 따라서 매 4년마다 하루 정도 오차가 생기는 셈이다. 이것을 조정하기 위하여 윤년이 생겼다. 입력된 연도가 윤년인지 아닌지를 판단하는 프로그램을 만들어보자. 사용자로부터 연도를 입력받아서 다음고 같은 조건을 검사한다. 윤년은 다음의 조건을 만족해야 한다.\n",
    "##### 연도가 4로 나누어 떨어지면 윤년이다.\n",
    "##### 연수가 4로 나누어 떨어져도, 100으로는 나누어 떨어지지 않아야 한다.\n",
    "##### 연수가 400으로 나누어 떨어지는 해는 무조건 윤년으로 한다."
   ]
  },
  {
   "cell_type": "code",
   "execution_count": 26,
   "metadata": {},
   "outputs": [
    {
     "name": "stdout",
     "output_type": "stream",
     "text": [
      "2004 년은 윤년입니다.\n"
     ]
    }
   ],
   "source": [
    "year = int(input('연도를 입력하시오: '))\n",
    "if ((year % 4 == 0) and (year % 100 != 0)) or (year % 400 == 0):\n",
    "    print(year, '년은 윤년입니다.')\n",
    "else:\n",
    "    print(year, '년은 윤년이 아닙니다.')"
   ]
  },
  {
   "cell_type": "markdown",
   "metadata": {},
   "source": [
    "## LAB 4-5 랜덤 함수로 동전 던지기 게임을 만들자"
   ]
  },
  {
   "cell_type": "markdown",
   "metadata": {},
   "source": [
    "#### 이 예제에서는 동전 던지기 게임을 작성해보자. 동전을 던지는 것은 난수를 생성하면 된다. 파이썬에서는 `import random`한 후에 `random.randrange(2)`과 같이 하면 0이나 1을 랜덤하게 생성할 수 있다. 아래의 코드에서 빈칸을 채워보자."
   ]
  },
  {
   "cell_type": "code",
   "execution_count": 27,
   "metadata": {},
   "outputs": [
    {
     "name": "stdout",
     "output_type": "stream",
     "text": [
      "동전 던지기 게임을 시작합니다.\n",
      "뒷면입니다.\n",
      "게임이 종료되었습니다.\n"
     ]
    }
   ],
   "source": [
    "import random\n",
    "print('동전 던지기 게임을 시작합니다.')\n",
    "coin = random.randrange(2)\n",
    "if coin == 0:\n",
    "    print('앞면입니다.')\n",
    "else:\n",
    "    print('뒷면입니다.')\n",
    "print('게임이 종료되었습니다.')"
   ]
  },
  {
   "cell_type": "markdown",
   "metadata": {},
   "source": [
    "## LAB 4-6 원의 내부에 있는 점일까 외부에 있는 점일까"
   ]
  },
  {
   "cell_type": "markdown",
   "metadata": {},
   "source": [
    "#### 중심이 (0,0)에 있고 반지름이 5인 원이 있다고 가정하자. 사용자로부터 $x$와 $y$좌표를 입력받은 후, 입력받은 점의 좌표 $(x, y)$가 원의 내부에 있으면 '원의 내부에 있음', 원의 외부에 있으면 '원의 외부에 있음'을 출력하는 다음과 같은 프로그램을 작성하시오.(힌트 : 어떤 점이 원점과의 거리가 5보다 클 경우 원의 외부에 있으며, 5보다 작거나 같을 경우 원의 내부에 있다고 판단할 수 있다. 점 $(x, y)와 원점과의 거리는 sqrt($x*x + y*y$)이다.)"
   ]
  },
  {
   "cell_type": "code",
   "execution_count": 28,
   "metadata": {},
   "outputs": [
    {
     "name": "stdout",
     "output_type": "stream",
     "text": [
      "원의 내부에 있음.\n"
     ]
    }
   ],
   "source": [
    "x, y = map(float, input('점의 좌표 x, y를 입력하시오 : ').split())\n",
    "if x*x + y*y > 5*5:\n",
    "    print('원의 외부에 있음.')\n",
    "else:\n",
    "    print('원의 내부에 있음.')"
   ]
  },
  {
   "cell_type": "markdown",
   "metadata": {},
   "source": [
    "## LAB 4-7 로그인 처리하기"
   ]
  },
  {
   "cell_type": "markdown",
   "metadata": {},
   "source": [
    "#### 사용자로부터 아이디를 받아서 프로그램에 저장된 아이디 'ilovepython'과 일치하는지 여부를 출력하는 프로그램을 작성해보자."
   ]
  },
  {
   "cell_type": "code",
   "execution_count": 29,
   "metadata": {},
   "outputs": [
    {
     "name": "stdout",
     "output_type": "stream",
     "text": [
      "환영합니다.\n"
     ]
    }
   ],
   "source": [
    "id = 'ilovepython'\n",
    "s = input('아이디를 입력하시오: ')\n",
    "if id == s:\n",
    "    print('환영합니다.')\n",
    "else:\n",
    "    print('아이디를 찾을 수 없습니다.')"
   ]
  },
  {
   "cell_type": "markdown",
   "metadata": {},
   "source": [
    "## LAB 4-8 컴퓨터와 승부차기 게임을 만들어보자"
   ]
  },
  {
   "cell_type": "markdown",
   "metadata": {},
   "source": [
    "#### 난수를 이용하여 간단한 축구 게임을 작성하여 보자. 사용자가 컴퓨터를 상대로 패널티킥을 시도한다고 생각하자. 사용자는 다음의 '왼쪽', '중앙', '오른쪽'의 3가지 영역 중에서 하나를 선택하여 패널티킥을 한다. 컴퓨터도 난수를 생성하여 3개의 영역 중에서 하나를 수비한다. 출력은 다음과 같이 나타나도록 하자."
   ]
  },
  {
   "cell_type": "code",
   "execution_count": 30,
   "metadata": {},
   "outputs": [
    {
     "name": "stdout",
     "output_type": "stream",
     "text": [
      "공격에 실패하셨습니다.\n",
      "컴퓨터의 수비위치 : 중앙\n"
     ]
    }
   ],
   "source": [
    "import random\n",
    "n = random.randint(1, 3)\n",
    "if n == 1:\n",
    "    computer_choice = '왼쪽'\n",
    "elif n == 2:\n",
    "    computer_choice = '중앙'\n",
    "else:\n",
    "    computer_choice = '오른쪽'\n",
    "\n",
    "user_choice = input('어디를 공격하시겠어요?(왼쪽, 중앙, 오른쪽) : ')\n",
    "if computer_choice == user_choice:\n",
    "    print('공격에 실패하셨습니다.')\n",
    "else:\n",
    "    print('축하합니다!! 공격에 성공하였습니다.')\n",
    "print('컴퓨터의 수비위치 :', computer_choice)"
   ]
  },
  {
   "cell_type": "markdown",
   "metadata": {},
   "source": [
    "## LAB 4-9 입력을 받아서 도형 그리기를 해보자"
   ]
  },
  {
   "cell_type": "markdown",
   "metadata": {},
   "source": [
    "#### 터틀 그래픽을 이용하여 사용자가 선택하는 도형을 화면에 그리는 프로그램을 작성해보자. 도형은 '사각형', '삼각형', '원' 중의 하나이다. 각 도형의 치수는 사용자에게 물어보도록 하자. 만일 사용자가 사각형을 입력하면 다음과 같이 가로, 세로를 물어보고 사각형을 그리며, 원을 선택할 경우 반지름을 물어보고 원을 그리도록 하자."
   ]
  },
  {
   "cell_type": "code",
   "execution_count": 32,
   "metadata": {},
   "outputs": [],
   "source": [
    "import turtle\n",
    "t = turtle.Turtle()\n",
    "t.shape('turtle')\n",
    "fig = turtle.textinput('','도형을 입력하시오: ')\n",
    "if fig == '사각형':\n",
    "    w = turtle.numinput('', '가로: ')\n",
    "    h = turtle.numinput('', '세로: ')\n",
    "    t.forward(w)\n",
    "    t.left(90)\n",
    "    t.forward(h)\n",
    "    t.left(90)\n",
    "    t.forward(w)\n",
    "    t.left(90)\n",
    "    t.forward(h)\n",
    "elif fig == '삼각형':\n",
    "    l = turtle.numinput('', '변의 길이: ')\n",
    "    t.forward(l)\n",
    "    t.left(120)\n",
    "    t.forward(l)\n",
    "    t.left(120)\n",
    "    t.forward(l)\n",
    "elif fig == '원':\n",
    "    r = turtle.numinput('', '반지름의 길이: ')\n",
    "    t.circle(r)\n",
    "turtle.done()"
   ]
  }
 ],
 "metadata": {
  "kernelspec": {
   "display_name": "Python 3 (ipykernel)",
   "language": "python",
   "name": "python3"
  },
  "language_info": {
   "codemirror_mode": {
    "name": "ipython",
    "version": 3
   },
   "file_extension": ".py",
   "mimetype": "text/x-python",
   "name": "python",
   "nbconvert_exporter": "python",
   "pygments_lexer": "ipython3",
   "version": "3.9.7"
  },
  "vscode": {
   "interpreter": {
    "hash": "82136e53588c9e34a2f5726c465560e45a7664f059ab9b40b627219027b97012"
   }
  }
 },
 "nbformat": 4,
 "nbformat_minor": 2
}
