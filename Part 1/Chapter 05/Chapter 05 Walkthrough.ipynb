{
 "cells": [
  {
   "cell_type": "markdown",
   "metadata": {},
   "source": [
    "# Chapter 05 여러번 반복하는 일을 하자"
   ]
  },
  {
   "cell_type": "markdown",
   "metadata": {},
   "source": [
    "## 도전문제 5.1"
   ]
  },
  {
   "cell_type": "markdown",
   "metadata": {},
   "source": [
    "#### `for - in range():`를 이용하여 '####################'를 5줄에 걸쳐 출력하여라."
   ]
  },
  {
   "cell_type": "code",
   "execution_count": 1,
   "metadata": {},
   "outputs": [
    {
     "name": "stdout",
     "output_type": "stream",
     "text": [
      "#####################\n",
      "#####################\n",
      "#####################\n",
      "#####################\n",
      "#####################\n"
     ]
    }
   ],
   "source": [
    "for i in range(5):\n",
    "    print('#####################')"
   ]
  },
  {
   "cell_type": "markdown",
   "metadata": {},
   "source": [
    "## 도전문제 5.2"
   ]
  },
  {
   "cell_type": "markdown",
   "metadata": {},
   "source": [
    "#### `for t in range(10):`를 이용하여 블록 내부에서 t값을 출력해 보자."
   ]
  },
  {
   "cell_type": "code",
   "execution_count": 2,
   "metadata": {},
   "outputs": [
    {
     "name": "stdout",
     "output_type": "stream",
     "text": [
      "0\n",
      "1\n",
      "2\n",
      "3\n",
      "4\n",
      "5\n",
      "6\n",
      "7\n",
      "8\n",
      "9\n"
     ]
    }
   ],
   "source": [
    "for t in range(10):\n",
    "    print(t)"
   ]
  },
  {
   "cell_type": "markdown",
   "metadata": {},
   "source": [
    "## 도전문제 5.3"
   ]
  },
  {
   "cell_type": "markdown",
   "metadata": {},
   "source": [
    "#### `bts = ['V', 'J-Hope', 'RM', 'Jungkook', 'Jin', 'Jimin', 'Suga']` 라는 리스트를 선언한 후 이 리스트 내부의 모든 항목을 출력하는 코드를 작성하여라."
   ]
  },
  {
   "cell_type": "code",
   "execution_count": 3,
   "metadata": {},
   "outputs": [
    {
     "name": "stdout",
     "output_type": "stream",
     "text": [
      "bts 멤버는 V\n",
      "bts 멤버는 J-Hope\n",
      "bts 멤버는 RM\n",
      "bts 멤버는 Jungkook\n",
      "bts 멤버는 Jin\n",
      "bts 멤버는 Jimin\n",
      "bts 멤버는 Suga\n"
     ]
    }
   ],
   "source": [
    "bts = ['V', 'J-Hope', 'RM', 'Jungkook', 'Jin', 'Jimin', 'Suga']\n",
    "for member in bts:\n",
    "    print('bts 멤버는', member)"
   ]
  },
  {
   "cell_type": "markdown",
   "metadata": {},
   "source": [
    "## 도전문제 5.4"
   ]
  },
  {
   "cell_type": "markdown",
   "metadata": {},
   "source": [
    "#### 위의 코드를 일부 수정하여 정육각형을 그려보자. 반드시 반복을 사용해서 화면에 그려보자."
   ]
  },
  {
   "cell_type": "code",
   "execution_count": 4,
   "metadata": {},
   "outputs": [],
   "source": [
    "import turtle\n",
    "t = turtle.Turtle()\n",
    "t.shape('turtle')\n",
    "\n",
    "for i in range(6):\n",
    "    t.forward(100)\n",
    "    t.left(360/6)\n",
    "turtle.done()"
   ]
  },
  {
   "cell_type": "markdown",
   "metadata": {},
   "source": [
    "## 도전문제 5.5"
   ]
  },
  {
   "cell_type": "markdown",
   "metadata": {},
   "source": [
    "#### $n$각형의 한 변의 길이도 사용자로부터 받아보자. 사용자로부터 임의의 값 `length`를 입력으로 받아서 `forward(100)`이 아니고 `forward(length)`가 되도록 하라."
   ]
  },
  {
   "cell_type": "code",
   "execution_count": 6,
   "metadata": {},
   "outputs": [],
   "source": [
    "import turtle\n",
    "t = turtle.Turtle()\n",
    "t.shape('turtle')\n",
    "\n",
    "s = turtle.textinput('', '몇각형을 원하시나요?')\n",
    "n = int(s)\n",
    "length = turtle.numinput('','한 변의 길이를 입력하시오.')\n",
    "\n",
    "for i in range(n):\n",
    "    t.forward(length)\n",
    "    t.left(360/n)\n",
    "turtle.done()"
   ]
  },
  {
   "cell_type": "markdown",
   "metadata": {},
   "source": [
    "## 도전문제 5.6"
   ]
  },
  {
   "cell_type": "markdown",
   "metadata": {},
   "source": [
    "#### 거북이가 90도의 배수가 되는 각도로만 전환할 수 있다면 위의 프로그램은 어떻게 수정되어야 할까? 거북이는 90도. 180도, 270도, 360도 중에서 하나를 선택하여 앞으로 전진한다."
   ]
  },
  {
   "cell_type": "code",
   "execution_count": 8,
   "metadata": {},
   "outputs": [],
   "source": [
    "import turtle\n",
    "import random\n",
    "t = turtle.Turtle()\n",
    "t.shape('turtle')\n",
    "\n",
    "for i in range(30):\n",
    "    length = random.randint(1, 100)\n",
    "    t.forward(length)\n",
    "    list = [90, 180, 270, 360]\n",
    "    angle = random.choice(list)\n",
    "    t.right(angle)\n",
    "turtle.done()"
   ]
  },
  {
   "cell_type": "markdown",
   "metadata": {},
   "source": [
    "## 도전문제 5.7"
   ]
  },
  {
   "cell_type": "markdown",
   "metadata": {},
   "source": [
    "#### 구구단의 1단부터 9단까지를 모두 출력하도록 위의 프로그램을 수정해보자."
   ]
  },
  {
   "cell_type": "code",
   "execution_count": 9,
   "metadata": {},
   "outputs": [
    {
     "name": "stdout",
     "output_type": "stream",
     "text": [
      "1 * 1 = 1 1 * 2 = 2 1 * 3 = 3 1 * 4 = 4 1 * 5 = 5 1 * 6 = 6 1 * 7 = 7 1 * 8 = 8 1 * 9 = 9 \n",
      "2 * 1 = 2 2 * 2 = 4 2 * 3 = 6 2 * 4 = 8 2 * 5 = 10 2 * 6 = 12 2 * 7 = 14 2 * 8 = 16 2 * 9 = 18 \n",
      "3 * 1 = 3 3 * 2 = 6 3 * 3 = 9 3 * 4 = 12 3 * 5 = 15 3 * 6 = 18 3 * 7 = 21 3 * 8 = 24 3 * 9 = 27 \n",
      "4 * 1 = 4 4 * 2 = 8 4 * 3 = 12 4 * 4 = 16 4 * 5 = 20 4 * 6 = 24 4 * 7 = 28 4 * 8 = 32 4 * 9 = 36 \n",
      "5 * 1 = 5 5 * 2 = 10 5 * 3 = 15 5 * 4 = 20 5 * 5 = 25 5 * 6 = 30 5 * 7 = 35 5 * 8 = 40 5 * 9 = 45 \n",
      "6 * 1 = 6 6 * 2 = 12 6 * 3 = 18 6 * 4 = 24 6 * 5 = 30 6 * 6 = 36 6 * 7 = 42 6 * 8 = 48 6 * 9 = 54 \n",
      "7 * 1 = 7 7 * 2 = 14 7 * 3 = 21 7 * 4 = 28 7 * 5 = 35 7 * 6 = 42 7 * 7 = 49 7 * 8 = 56 7 * 9 = 63 \n",
      "8 * 1 = 8 8 * 2 = 16 8 * 3 = 24 8 * 4 = 32 8 * 5 = 40 8 * 6 = 48 8 * 7 = 56 8 * 8 = 64 8 * 9 = 72 \n",
      "9 * 1 = 9 9 * 2 = 18 9 * 3 = 27 9 * 4 = 36 9 * 5 = 45 9 * 6 = 54 9 * 7 = 63 9 * 8 = 72 9 * 9 = 81 \n"
     ]
    }
   ],
   "source": [
    "for i in range(1, 10):\n",
    "    for j in range(1, 10):\n",
    "        print(i, '*', j, '=', i*j, end=' ')\n",
    "    print('')"
   ]
  },
  {
   "cell_type": "markdown",
   "metadata": {},
   "source": [
    "## 도전문제 5.8"
   ]
  },
  {
   "cell_type": "markdown",
   "metadata": {},
   "source": [
    "#### (1) 위의 해답 코드에서 가장 마지막 문장을 삭제하고 실행시켜보자. 어떤 일이 발생하는가? 이것을 무한 루프라고 한다. 거북이가 무척 고생을 한다.\n",
    "#### (2) 거북이의 이동거리를 150으로 수정한 후, 회전 각도를 140도로 변경하도록 하자. 이경우 왼쪽 그림과 같은 선분을 볼 수 있다. `while`문을 수정하여 몇 도로 회전해야 가운데 그림과 같은 그림이 나타날까?"
   ]
  },
  {
   "cell_type": "code",
   "execution_count": 11,
   "metadata": {},
   "outputs": [],
   "source": [
    "import turtle\n",
    "t = turtle.Turtle()\n",
    "t.shape('turtle')\n",
    "i = 0\n",
    "while i < 18:\n",
    "    t.forward(150)\n",
    "    t.right(140)\n",
    "    i += 1\n",
    "turtle.done()"
   ]
  },
  {
   "cell_type": "markdown",
   "metadata": {},
   "source": [
    "#### (3) 그림의 가장 오른쪽과 같은 별모양을 그려보아라. 어떤 트릭을 사용해야 할까?"
   ]
  },
  {
   "cell_type": "code",
   "execution_count": 13,
   "metadata": {},
   "outputs": [],
   "source": [
    "import turtle\n",
    "t = turtle.Turtle()\n",
    "t.shape('turtle')\n",
    "i = 0\n",
    "while i < 5:\n",
    "    t.forward(100)\n",
    "    t.left(72)\n",
    "    t.forward(100)\n",
    "    t.right(144)\n",
    "    i += 1\n",
    "turtle.done()"
   ]
  },
  {
   "cell_type": "markdown",
   "metadata": {},
   "source": [
    "## 도전문제 5.9"
   ]
  },
  {
   "cell_type": "markdown",
   "metadata": {},
   "source": [
    "#### 각 반복에서 거북이가 회전하는 각도를 약간 다르게 해서 결과가 어떻게 달라지는지 본다."
   ]
  },
  {
   "cell_type": "code",
   "execution_count": 15,
   "metadata": {},
   "outputs": [],
   "source": [
    "import turtle\n",
    "t = turtle.Turtle()\n",
    "t.shape('turtle')\n",
    "\n",
    "t.speed(0)\n",
    "t.width(3)\n",
    "lenght = 10\n",
    "while length < 500:\n",
    "    t.forward(length)\n",
    "    t.right(95)\n",
    "    length += 5\n",
    "turtle.done()"
   ]
  },
  {
   "cell_type": "markdown",
   "metadata": {},
   "source": [
    "## 도전문제 5.10"
   ]
  },
  {
   "cell_type": "markdown",
   "metadata": {},
   "source": [
    "#### 시도 횟수를 최대 10번으로 제한하려면 위의 프로그램을 어떻게 반영하여야 하는가?"
   ]
  },
  {
   "cell_type": "code",
   "execution_count": 16,
   "metadata": {},
   "outputs": [
    {
     "name": "stdout",
     "output_type": "stream",
     "text": [
      "1부터 100 사이의 숫자를 맞추시오\n",
      "높음!\n",
      "낮음!\n",
      "높음!\n",
      "높음!\n",
      "5 번 시도했습니다\n",
      "축하합니다. 총 시도횟수= 5\n"
     ]
    }
   ],
   "source": [
    "import random\n",
    "tries = 0\n",
    "guess = 0\n",
    "answer = random.randint(1, 100)\n",
    "print('1부터 100 사이의 숫자를 맞추시오')\n",
    "while guess != answer:\n",
    "    guess = int(input('숫자를 입력하시오: '))\n",
    "    tries += 1\n",
    "    if tries == 10:\n",
    "        break\n",
    "    elif guess > answer:\n",
    "        print('낮음!')\n",
    "    elif guess < answer:\n",
    "        print('높음!')\n",
    "print(tries, '번 시도했습니다')\n",
    "print('축하합니다. 총 시도횟수=', tries)"
   ]
  },
  {
   "cell_type": "markdown",
   "metadata": {},
   "source": [
    "## 도전문제 5.11"
   ]
  },
  {
   "cell_type": "markdown",
   "metadata": {},
   "source": [
    "#### 덧셈 뿐만 아니라 무작위적으로 뺄셈 문제도 출제할 수 있도록 위의 프로그램을 수정하라."
   ]
  },
  {
   "cell_type": "code",
   "execution_count": 17,
   "metadata": {},
   "outputs": [
    {
     "name": "stdout",
     "output_type": "stream",
     "text": [
      "81 - 97 = -16\n",
      "잘했어요!!\n"
     ]
    }
   ],
   "source": [
    "import random\n",
    "while True:\n",
    "    x = random.randint(1, 100)\n",
    "    y = random.randint(1, 100)\n",
    "    print(x, '-', y, '=', end = ' ')\n",
    "    answer = int(input())\n",
    "    if answer == x - y:\n",
    "        print(answer)\n",
    "        print('잘했어요!!')\n",
    "        break\n",
    "    else:\n",
    "        print(answer)\n",
    "        print('정답은',x-y,'입니다. 다음 번에는 잘할 수 있죠?')\n",
    "        break"
   ]
  },
  {
   "cell_type": "markdown",
   "metadata": {},
   "source": [
    "## 도전문제 5.12"
   ]
  },
  {
   "cell_type": "markdown",
   "metadata": {},
   "source": [
    "#### 사용자로부터 하나의 단어를 입력받은 다음 이 단어에서 모음이 나타나기 전까지의 모든 자음을 출력하는 프로그램을 작성하여라. 예를 들어 다음과 같이 'programming'이 입력되면 'o'가 나타나기 이전인 pr만 출력하도록 하여라."
   ]
  },
  {
   "cell_type": "code",
   "execution_count": 18,
   "metadata": {},
   "outputs": [
    {
     "name": "stdout",
     "output_type": "stream",
     "text": [
      "pr"
     ]
    }
   ],
   "source": [
    "word = input('단어를 입력하세요 : ')\n",
    "list = ['a', 'e', 'i', 'o', 'u']\n",
    "for wd in word:\n",
    "    if wd in list:\n",
    "        break\n",
    "    print(wd, end='')"
   ]
  },
  {
   "cell_type": "markdown",
   "metadata": {},
   "source": [
    "## LAB 5-1 터틀 그래픽으로 여러 개의 원을 그려보자"
   ]
  },
  {
   "cell_type": "markdown",
   "metadata": {},
   "source": [
    "#### 이번에는 터틀 그래픽을 사용하여 반복을 설명해보자. 예를 들어서 터틀을 60도 만큼 회전시키면서 화면에 6개의 원을 그린다고 가정하자."
   ]
  },
  {
   "cell_type": "code",
   "execution_count": 20,
   "metadata": {},
   "outputs": [],
   "source": [
    "import turtle\n",
    "t = turtle.Turtle()\n",
    "t.shape('turtle')\n",
    "for i in range(6):\n",
    "    t.circle(100)\n",
    "    for j in range(5):\n",
    "        t.left(60)\n",
    "turtle.done()"
   ]
  },
  {
   "cell_type": "markdown",
   "metadata": {},
   "source": [
    "## LAB 5-2 반복을 사용하여 도형을 그리자"
   ]
  },
  {
   "cell_type": "markdown",
   "metadata": {},
   "source": [
    "#### 터틀 그래픽에서도 반복을 사용할 수 있다. 정삼각형과 정사각형을 반복을 이용하여 화면에 그려보자. `for`문을 사용하면 같은 문장을 반복해서 적을 필요가 없다."
   ]
  },
  {
   "cell_type": "code",
   "execution_count": 22,
   "metadata": {},
   "outputs": [],
   "source": [
    "import turtle\n",
    "t = turtle.Turtle()\n",
    "t.shape('turtle')\n",
    "for i in range(3):\n",
    "    t.forward(100)\n",
    "    t.left(360/3)\n",
    "\n",
    "t.penup()\n",
    "t.goto(200, 0)\n",
    "t.pendown()\n",
    "\n",
    "for i in range(4):\n",
    "    t.forward(100)\n",
    "    t.left(360/4)\n",
    "turtle.done()"
   ]
  },
  {
   "cell_type": "markdown",
   "metadata": {},
   "source": [
    "## LAB 5-3 N각형 그리기"
   ]
  },
  {
   "cell_type": "markdown",
   "metadata": {},
   "source": [
    "#### 우리는 앞에서 반복을 이용하여 정삼각형과 정사각형을 그려보았다. 사용자로부터 정수 $n$을 받아서 $n$각형을 그리는 프로그램을 작성할 수 있는가? `text_input()`을 이용하여 사용자로부터 정수를 입력받자."
   ]
  },
  {
   "cell_type": "code",
   "execution_count": 24,
   "metadata": {},
   "outputs": [],
   "source": [
    "import turtle\n",
    "t = turtle.Turtle()\n",
    "t.shape('turtle')\n",
    "\n",
    "n = int(turtle.textinput('', '몇각형을 원하시나요?:'))\n",
    "\n",
    "for i in range(n):\n",
    "    t.forward(100)\n",
    "    t.left(360/n)\n",
    "turtle.done()"
   ]
  },
  {
   "cell_type": "markdown",
   "metadata": {},
   "source": [
    "## LAB 5-4 술에 취한 거북이를 그리는 랜덤 함수"
   ]
  },
  {
   "cell_type": "markdown",
   "metadata": {},
   "source": [
    "#### 윈도우 상에서 거북이가 술에 취한 것처럼 랜덤하게 움직이게 하여 보자."
   ]
  },
  {
   "cell_type": "code",
   "execution_count": 26,
   "metadata": {},
   "outputs": [],
   "source": [
    "import turtle\n",
    "import random\n",
    "t = turtle.Turtle()\n",
    "t.shape('turtle')\n",
    "\n",
    "for i in range(30):\n",
    "    length = random.randint(1, 100)\n",
    "    t.forward(length)\n",
    "    angle = random.randint(1, 100)\n",
    "    t.right(angle)\n",
    "turtle.done()"
   ]
  },
  {
   "cell_type": "markdown",
   "metadata": {},
   "source": [
    "## LAB 5-5 반복을 이용하여 팩토리얼을 계산하기"
   ]
  },
  {
   "cell_type": "markdown",
   "metadata": {},
   "source": [
    "#### 사용자로부터 임의의 정수 $n$을 입력받은 뒤에 `for`문을 이용하여서 팩토리얼을 계산해보자. 팩토리얼은 $n!$은 1부터 $n$까지의 정수를 모두 곱한 것을 의미한다. 즉, $n! = 1 \\times 2 \\times 3 \\times.....\\times (n-1) \\times n$이다."
   ]
  },
  {
   "cell_type": "code",
   "execution_count": 27,
   "metadata": {},
   "outputs": [
    {
     "name": "stdout",
     "output_type": "stream",
     "text": [
      "5 !은 120 이다.\n"
     ]
    }
   ],
   "source": [
    "n = int(input('정수를 입력하시오: '))\n",
    "fact = 1\n",
    "for i in range(1, n+1):\n",
    "    fact = fact * i\n",
    "\n",
    "print(n, '!은', fact, '이다.')"
   ]
  },
  {
   "cell_type": "markdown",
   "metadata": {},
   "source": [
    "## LAB 5-6 사용자로부터 암호를 받아 로그인하기"
   ]
  },
  {
   "cell_type": "markdown",
   "metadata": {},
   "source": [
    "#### 어떤 경우에 반복되는 횟수를 알 수 없을까? 가장 대표적인 경우가 사용자로부터 어떤 값을 받아서 처리할 때이다. 사용자가 입력하는 값을 예측하기 힘들기 때문이다. 예를 들어서 사용자가 암호를 입력하고 프로그램에서 암호가 맞는지 체크한다고 하자. 우리가 작성할 코드는 사용자가 바른 암호를 입력할 때까지 질문을 계속한다. 암호가 'pythonisfun'이라고 가정하고 간단한 알고리즘을 생각해 보자. 다음과 같이 틀린 암호를 하나 생성해 두고, 사용자의 입력으로 대체한다. 그리고 이것이 옳은 암호인지를 체크해서 아닌 경우에는 이 일을 반복한다. 반복을 빠져나가면 로그인 성공을 표시해 준다."
   ]
  },
  {
   "cell_type": "code",
   "execution_count": 28,
   "metadata": {},
   "outputs": [
    {
     "name": "stdout",
     "output_type": "stream",
     "text": [
      "** 로그인 성공 **\n"
     ]
    }
   ],
   "source": [
    "password = ''\n",
    "while password != 'pythonisfun':\n",
    "    password = input('암호를 입력하시오: ')\n",
    "print('** 로그인 성공 **')"
   ]
  },
  {
   "cell_type": "markdown",
   "metadata": {},
   "source": [
    "## LAB 5-7 입력받은 수를 사용하는 구구단 출력"
   ]
  },
  {
   "cell_type": "markdown",
   "metadata": {},
   "source": [
    "#### 사용자로부터 특정한 수를 입력받아 구구단의 특정 단을 `while`반복문을 이용하여 출력하여 보자. 예를 들어 다음과 같이 9를 입력받을 경우 9 * 1, 9 * 2, 9 * 3, .., 9 * 9까지 9번 반복시켜 출력하면 될 것이다."
   ]
  },
  {
   "cell_type": "code",
   "execution_count": 29,
   "metadata": {},
   "outputs": [
    {
     "name": "stdout",
     "output_type": "stream",
     "text": [
      "9 * 1 = 9\n",
      "9 * 2 = 18\n",
      "9 * 3 = 27\n",
      "9 * 4 = 36\n",
      "9 * 5 = 45\n",
      "9 * 6 = 54\n",
      "9 * 7 = 63\n",
      "9 * 8 = 72\n",
      "9 * 9 = 81\n"
     ]
    }
   ],
   "source": [
    "dan = int(input('원하는 단은: '))\n",
    "i = 1\n",
    "while i <= 9:\n",
    "    print(dan, '*', i ,'=', dan * i)\n",
    "    i += 1"
   ]
  },
  {
   "cell_type": "code",
   "execution_count": 31,
   "metadata": {},
   "outputs": [
    {
     "name": "stdout",
     "output_type": "stream",
     "text": [
      "5 * 1 = 5\n",
      "5 * 2 = 10\n",
      "5 * 3 = 15\n",
      "5 * 4 = 20\n",
      "5 * 5 = 25\n",
      "5 * 6 = 30\n",
      "5 * 7 = 35\n",
      "5 * 8 = 40\n",
      "5 * 9 = 45\n"
     ]
    }
   ],
   "source": [
    "dan = int(input('원하는 단은: '))\n",
    "i = 1\n",
    "for i in range(1,10,1): # while문을 for문으로 변경\n",
    "    print(dan, '*', i ,'=', dan * i)\n",
    "    i += 1"
   ]
  },
  {
   "cell_type": "markdown",
   "metadata": {},
   "source": [
    "## LAB 5-8 `while`문으로 별 그리기를 해보자"
   ]
  },
  {
   "cell_type": "markdown",
   "metadata": {},
   "source": [
    "#### 여러분이 앞의 예제를 이해하고 실행해보았다면 아마 다음 문제도 쉽게 해결할 수 있을 것이다. 반복문을 사용하여 다음과 같은 별 모양 그림을 그려보자. 이 별 그림의 선분 길이는 50으로 하여라."
   ]
  },
  {
   "cell_type": "code",
   "execution_count": 33,
   "metadata": {},
   "outputs": [],
   "source": [
    "import turtle\n",
    "t = turtle.Turtle()\n",
    "t.shape('turtle')\n",
    "i = 0\n",
    "while i < 5:\n",
    "    t.forward(50)\n",
    "    t.right(144)\n",
    "    i += 1\n",
    "turtle.done()"
   ]
  },
  {
   "cell_type": "code",
   "execution_count": 35,
   "metadata": {},
   "outputs": [],
   "source": [
    "import turtle\n",
    "t = turtle.Turtle()\n",
    "t.shape('turtle')\n",
    "i = 0\n",
    "for i in range(5): # while문을 for문으로 변경\n",
    "    t.forward(50)\n",
    "    t.right(144)\n",
    "    i += 1\n",
    "turtle.done()"
   ]
  },
  {
   "cell_type": "markdown",
   "metadata": {},
   "source": [
    "## LAB 5-9 간단한 코드로 멋진 나선형 도형 그리기"
   ]
  },
  {
   "cell_type": "markdown",
   "metadata": {},
   "source": [
    "#### 반복문과 터틀 그래픽을 결합하면 상당히 복잡한 형상을 쉽게 그릴 수 있다. 예를 들어서 다음과 같은 그림을 그릴 수 있다. 화면에 사각형을 그리는 것이지만 한번 반복할 때마다 각도가 90도로 회전하는 것이 아니고 89도로 하면 약간씩 회전되는 사각형을 그리는 것이 가능하다. 많은 사각형을 반복해서 그리면 위와 같은 그림이 얻어진다. 이와 같은 패턴을 만드는 그림을 그리는 프로그램을 작성해보자. 이때 가장 짧은 선분의 길이는 10으로 하고, 가장 긴 것은 500보다 작게 하자."
   ]
  },
  {
   "cell_type": "code",
   "execution_count": 37,
   "metadata": {},
   "outputs": [],
   "source": [
    "import turtle\n",
    "t = turtle.Turtle()\n",
    "t.shape('turtle')\n",
    "t.speed(0)\n",
    "t.width(3)\n",
    "\n",
    "length = 10\n",
    "while length < 500:\n",
    "    t.forward(length)\n",
    "    t.right(89)\n",
    "    length += 5\n",
    "turtle.done()"
   ]
  },
  {
   "cell_type": "markdown",
   "metadata": {},
   "source": [
    "## LAB 5-10 사용자가 입력하는 숫자의 합을 계산하자"
   ]
  },
  {
   "cell_type": "markdown",
   "metadata": {},
   "source": [
    "#### 사용자가 입력한 숫자들을 더하는 프로그램을 작성해보자. 사용자가 yes라고 답한 동안에만 숫자를 입력받는다."
   ]
  },
  {
   "cell_type": "code",
   "execution_count": 38,
   "metadata": {},
   "outputs": [
    {
     "name": "stdout",
     "output_type": "stream",
     "text": [
      "합계는 :  90\n"
     ]
    }
   ],
   "source": [
    "total = 0\n",
    "answer = 'yes'\n",
    "while answer == 'yes':\n",
    "    num = int(input('숫자를 입력하시오: '))\n",
    "    total += num\n",
    "    answer = input('계속?(yes/no)')\n",
    "print('합계는 : ', total)"
   ]
  },
  {
   "cell_type": "markdown",
   "metadata": {},
   "source": [
    "## LAB 5-11 무한 반복문으로 숫자 맞추기 게임을 만들자"
   ]
  },
  {
   "cell_type": "markdown",
   "metadata": {},
   "source": [
    "#### 사용자가 답을 제시하면 프로그램은 자신이 저장한 정수와 비교하여 제시된 정수가 더 높은지 낮은지 만을 알려준다. 정수의 범위를 1부터 100까지로 한정하면 최대 7번이면 누구나 알아맞힐 수 있다. 정수의 범위를 1부터 1,000,000까지 확대하더라도 최대 20번이면 맞출 수 있다. 왜 그럴까? 이진 탐색의 원리 때문이다. 중간값과 한 번씩 비교할 때마다 탐색의 범위는 1/2로 대폭 줄어든다. 게임이 끝나면 몇 번 만에 맞추었는지도 함께 출력한다. 다음의 경우 87이 정답이지만 매번 임의로 생성된 수가 정답이 될 수 있음에 유의하자."
   ]
  },
  {
   "cell_type": "code",
   "execution_count": 39,
   "metadata": {},
   "outputs": [
    {
     "name": "stdout",
     "output_type": "stream",
     "text": [
      "1부터 100사이의 숫자를 맞추시오\n",
      "높음!\n",
      "높음!\n",
      "높음!\n",
      "낮음!\n",
      "낮음!\n",
      "높음!\n",
      "높음!\n",
      "높음!\n",
      "높음!\n",
      "축하합니다. 총 시도횟수= 10\n"
     ]
    }
   ],
   "source": [
    "import random\n",
    "tries = 0\n",
    "guess = 0\n",
    "answer = random.randint(1, 100)\n",
    "print('1부터 100사이의 숫자를 맞추시오')\n",
    "while guess != answer:\n",
    "    guess = int(input('숫자를 입력하시오: '))\n",
    "    tries += 1\n",
    "    if guess < answer:\n",
    "        print('높음!')\n",
    "    elif guess > answer:\n",
    "        print('낮음!')\n",
    "print('축하합니다. 총 시도횟수=', tries)"
   ]
  },
  {
   "cell_type": "markdown",
   "metadata": {},
   "source": [
    "## LAB 5-12 암산 문제를 만들어보자"
   ]
  },
  {
   "cell_type": "markdown",
   "metadata": {},
   "source": [
    "#### 초등학생들을 위하여 산수 문제를 발생시키는 프로그램을 작성해보자. 질문은 다음과 같이 1에서 100사이의 무작위적인 두 수가 나타나고 사용자가 두 수의 합을 입력하도록 되어 있다. 이때 정답을 맞힐 경우 '잘했어요'를 출력하고 그렇지 않을 경우 '정답은 00입니다. 다음 번에는 잘할 수 있죠?'를 출력하여라. 이 프로그램은 Ctrl + C를 입력하여 사용자가 종료하기 전까지 멈추지 않는다."
   ]
  },
  {
   "cell_type": "code",
   "execution_count": 40,
   "metadata": {},
   "outputs": [
    {
     "name": "stdout",
     "output_type": "stream",
     "text": [
      "69 + 70 = 139\n",
      "잘했어요!!\n"
     ]
    }
   ],
   "source": [
    "import random\n",
    "while True:\n",
    "    x = random.randint(1, 100)\n",
    "    y = random.randint(1, 100)\n",
    "    print(x, '+', y, '=', end = ' ')\n",
    "    answer = int(input())\n",
    "    if answer == x + y:\n",
    "        print(answer)\n",
    "        print('잘했어요!!')\n",
    "        break\n",
    "    else:\n",
    "        print(answer)\n",
    "        print('정답은',x+y,'입니다. 다음 번에는 잘할 수 있죠?')\n",
    "        break"
   ]
  },
  {
   "cell_type": "markdown",
   "metadata": {},
   "source": [
    "## LAB 5-13 창업자를 위한 기능 : 모든 샌드위치 종류 출력하기"
   ]
  },
  {
   "cell_type": "markdown",
   "metadata": {},
   "source": [
    "#### 달수는 새로 샌드위치 가게를 차렸다. 달수는 자신의 가게에서 제공하는 빵, 고기, 야채, 소스의 조합을 통해서 만들 수 있는 모든 샌드위치 종류를 출력하고 싶다. 달수네 가게의 빵 종류는 '호밀빵', '위트', '화이트'가 가능하며 고기로는 '미트볼', '소시지', '닭가슴살', 야채로는 '양상추', '토마토', '오이', 소스로는 '마요네즈', '허니 머스타드', '칠리' 등이 가능하다. 각 재료들은 한 가지 씩만 선택이 가능하다고 하자. 가능한 조합은 어떻게 될까? 다음과 같이 모든 조합을 출력해 보자. "
   ]
  },
  {
   "cell_type": "code",
   "execution_count": 41,
   "metadata": {},
   "outputs": [
    {
     "name": "stdout",
     "output_type": "stream",
     "text": [
      "달수네 샌드위치 가게의 가능한 조합\n",
      "호밀빵 + 미트볼 + 양상추 + 마요네즈\n",
      "호밀빵 + 미트볼 + 양상추 + 허니 머스타드\n",
      "호밀빵 + 미트볼 + 양상추 + 칠리\n",
      "호밀빵 + 미트볼 + 토마토 + 마요네즈\n",
      "호밀빵 + 미트볼 + 토마토 + 허니 머스타드\n",
      "호밀빵 + 미트볼 + 토마토 + 칠리\n",
      "호밀빵 + 미트볼 + 오이 + 마요네즈\n",
      "호밀빵 + 미트볼 + 오이 + 허니 머스타드\n",
      "호밀빵 + 미트볼 + 오이 + 칠리\n",
      "호밀빵 + 소시지 + 양상추 + 마요네즈\n",
      "호밀빵 + 소시지 + 양상추 + 허니 머스타드\n",
      "호밀빵 + 소시지 + 양상추 + 칠리\n",
      "호밀빵 + 소시지 + 토마토 + 마요네즈\n",
      "호밀빵 + 소시지 + 토마토 + 허니 머스타드\n",
      "호밀빵 + 소시지 + 토마토 + 칠리\n",
      "호밀빵 + 소시지 + 오이 + 마요네즈\n",
      "호밀빵 + 소시지 + 오이 + 허니 머스타드\n",
      "호밀빵 + 소시지 + 오이 + 칠리\n",
      "호밀빵 + 닭가슴살 + 양상추 + 마요네즈\n",
      "호밀빵 + 닭가슴살 + 양상추 + 허니 머스타드\n",
      "호밀빵 + 닭가슴살 + 양상추 + 칠리\n",
      "호밀빵 + 닭가슴살 + 토마토 + 마요네즈\n",
      "호밀빵 + 닭가슴살 + 토마토 + 허니 머스타드\n",
      "호밀빵 + 닭가슴살 + 토마토 + 칠리\n",
      "호밀빵 + 닭가슴살 + 오이 + 마요네즈\n",
      "호밀빵 + 닭가슴살 + 오이 + 허니 머스타드\n",
      "호밀빵 + 닭가슴살 + 오이 + 칠리\n",
      "위트 + 미트볼 + 양상추 + 마요네즈\n",
      "위트 + 미트볼 + 양상추 + 허니 머스타드\n",
      "위트 + 미트볼 + 양상추 + 칠리\n",
      "위트 + 미트볼 + 토마토 + 마요네즈\n",
      "위트 + 미트볼 + 토마토 + 허니 머스타드\n",
      "위트 + 미트볼 + 토마토 + 칠리\n",
      "위트 + 미트볼 + 오이 + 마요네즈\n",
      "위트 + 미트볼 + 오이 + 허니 머스타드\n",
      "위트 + 미트볼 + 오이 + 칠리\n",
      "위트 + 소시지 + 양상추 + 마요네즈\n",
      "위트 + 소시지 + 양상추 + 허니 머스타드\n",
      "위트 + 소시지 + 양상추 + 칠리\n",
      "위트 + 소시지 + 토마토 + 마요네즈\n",
      "위트 + 소시지 + 토마토 + 허니 머스타드\n",
      "위트 + 소시지 + 토마토 + 칠리\n",
      "위트 + 소시지 + 오이 + 마요네즈\n",
      "위트 + 소시지 + 오이 + 허니 머스타드\n",
      "위트 + 소시지 + 오이 + 칠리\n",
      "위트 + 닭가슴살 + 양상추 + 마요네즈\n",
      "위트 + 닭가슴살 + 양상추 + 허니 머스타드\n",
      "위트 + 닭가슴살 + 양상추 + 칠리\n",
      "위트 + 닭가슴살 + 토마토 + 마요네즈\n",
      "위트 + 닭가슴살 + 토마토 + 허니 머스타드\n",
      "위트 + 닭가슴살 + 토마토 + 칠리\n",
      "위트 + 닭가슴살 + 오이 + 마요네즈\n",
      "위트 + 닭가슴살 + 오이 + 허니 머스타드\n",
      "위트 + 닭가슴살 + 오이 + 칠리\n",
      "화이트 + 미트볼 + 양상추 + 마요네즈\n",
      "화이트 + 미트볼 + 양상추 + 허니 머스타드\n",
      "화이트 + 미트볼 + 양상추 + 칠리\n",
      "화이트 + 미트볼 + 토마토 + 마요네즈\n",
      "화이트 + 미트볼 + 토마토 + 허니 머스타드\n",
      "화이트 + 미트볼 + 토마토 + 칠리\n",
      "화이트 + 미트볼 + 오이 + 마요네즈\n",
      "화이트 + 미트볼 + 오이 + 허니 머스타드\n",
      "화이트 + 미트볼 + 오이 + 칠리\n",
      "화이트 + 소시지 + 양상추 + 마요네즈\n",
      "화이트 + 소시지 + 양상추 + 허니 머스타드\n",
      "화이트 + 소시지 + 양상추 + 칠리\n",
      "화이트 + 소시지 + 토마토 + 마요네즈\n",
      "화이트 + 소시지 + 토마토 + 허니 머스타드\n",
      "화이트 + 소시지 + 토마토 + 칠리\n",
      "화이트 + 소시지 + 오이 + 마요네즈\n",
      "화이트 + 소시지 + 오이 + 허니 머스타드\n",
      "화이트 + 소시지 + 오이 + 칠리\n",
      "화이트 + 닭가슴살 + 양상추 + 마요네즈\n",
      "화이트 + 닭가슴살 + 양상추 + 허니 머스타드\n",
      "화이트 + 닭가슴살 + 양상추 + 칠리\n",
      "화이트 + 닭가슴살 + 토마토 + 마요네즈\n",
      "화이트 + 닭가슴살 + 토마토 + 허니 머스타드\n",
      "화이트 + 닭가슴살 + 토마토 + 칠리\n",
      "화이트 + 닭가슴살 + 오이 + 마요네즈\n",
      "화이트 + 닭가슴살 + 오이 + 허니 머스타드\n",
      "화이트 + 닭가슴살 + 오이 + 칠리\n"
     ]
    }
   ],
   "source": [
    "breads = ['호밀빵', '위트', '화이트']\n",
    "meats = ['미트볼', '소시지', '닭가슴살']\n",
    "vegis = ['양상추', '토마토', '오이']\n",
    "sauces = ['마요네즈', '허니 머스타드', '칠리']\n",
    "\n",
    "print('달수네 샌드위치 가게의 가능한 조합')\n",
    "for b in breads:\n",
    "    for m in meats:\n",
    "        for v in vegis:\n",
    "            for s in sauces:\n",
    "                print(b + ' + ' + m + ' + ' + v + ' + ' + s)"
   ]
  }
 ],
 "metadata": {
  "kernelspec": {
   "display_name": "Python 3.9.7 ('base')",
   "language": "python",
   "name": "python3"
  },
  "language_info": {
   "codemirror_mode": {
    "name": "ipython",
    "version": 3
   },
   "file_extension": ".py",
   "mimetype": "text/x-python",
   "name": "python",
   "nbconvert_exporter": "python",
   "pygments_lexer": "ipython3",
   "version": "3.9.7"
  },
  "orig_nbformat": 4,
  "vscode": {
   "interpreter": {
    "hash": "82136e53588c9e34a2f5726c465560e45a7664f059ab9b40b627219027b97012"
   }
  }
 },
 "nbformat": 4,
 "nbformat_minor": 2
}
