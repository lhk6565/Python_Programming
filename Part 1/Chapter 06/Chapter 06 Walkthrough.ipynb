{
 "cells": [
  {
   "cell_type": "markdown",
   "metadata": {},
   "source": [
    "# Chapter 06 함수로 일처리를 짜임새있게 하자"
   ]
  },
  {
   "cell_type": "markdown",
   "metadata": {},
   "source": [
    "## 도전문제 6.1"
   ]
  },
  {
   "cell_type": "markdown",
   "metadata": {},
   "source": [
    "#### (1) 자신의 학교 혹은 직장 주소와 대표 전화번호를 출력하는 함수 `print_company_address()`함수를 정의하여라 그리고 이 함수를 호출한 후 그 결과를 출력하여라."
   ]
  },
  {
   "cell_type": "code",
   "execution_count": 1,
   "metadata": {},
   "outputs": [
    {
     "name": "stdout",
     "output_type": "stream",
     "text": [
      "한국공학대학교\n"
     ]
    }
   ],
   "source": [
    "def print_company_address():\n",
    "    print('한국공학대학교')\n",
    "print_company_address()"
   ]
  },
  {
   "cell_type": "markdown",
   "metadata": {},
   "source": [
    "#### (2) 20개의 별표기호(*)를 한 줄에 출력하는 `print_star()`함수를 생성하여라. 다음과 같이 이 함수를 호출하고 그 결과를 출력하여라."
   ]
  },
  {
   "cell_type": "code",
   "execution_count": 2,
   "metadata": {},
   "outputs": [
    {
     "name": "stdout",
     "output_type": "stream",
     "text": [
      "********************\n"
     ]
    }
   ],
   "source": [
    "def print_star():\n",
    "    print('********************')\n",
    "print_star()"
   ]
  },
  {
   "cell_type": "markdown",
   "metadata": {},
   "source": [
    "## 도전문제 6.2"
   ]
  },
  {
   "cell_type": "markdown",
   "metadata": {},
   "source": [
    "#### `print_address(name, address)`와 같이 2개의 매개변수를 가지는 함수를 정의하여라. 이 함수를 호출할때 `print_address('홍길순', '부산광역시 남구 광안로 10번길 1-1')`라고 호출하면 다음과 같은 출력이 나타나도록 함수 몸체를 작성하여라."
   ]
  },
  {
   "cell_type": "code",
   "execution_count": 3,
   "metadata": {},
   "outputs": [
    {
     "name": "stdout",
     "output_type": "stream",
     "text": [
      "이름 : 홍길순\n",
      "주소 : 부산광역시 남구 광안로 10번길 1-1\n"
     ]
    }
   ],
   "source": [
    "def print_address(name, address):\n",
    "    print('이름 : ' + name)\n",
    "    print('주소 : ' + address)\n",
    "print_address('홍길순', '부산광역시 남구 광안로 10번길 1-1')"
   ]
  },
  {
   "cell_type": "markdown",
   "metadata": {},
   "source": [
    "## 도전문제 6.3"
   ]
  },
  {
   "cell_type": "markdown",
   "metadata": {},
   "source": [
    "#### a, b, c의 세 인자를 받아서 이 세 수의 제곱을 반환하는 함수 `get_square(a, b, c)`를 작성하여라. 그리고 이 함수가 반환하는 세 개 의 결과 `a_Sq, b_sq, c_sq`를 출력하도록 하여라."
   ]
  },
  {
   "cell_type": "code",
   "execution_count": 4,
   "metadata": {},
   "outputs": [
    {
     "name": "stdout",
     "output_type": "stream",
     "text": [
      "1 제곱 : 1 ,  2 제곱 : 4 ,  3 제곱 : 9\n"
     ]
    }
   ],
   "source": [
    "def get_square(a, b, c):\n",
    "    a_square, b_Square, c_square = a**2, b**2, c**2\n",
    "    return a_square, b_Square, c_square\n",
    "a, b, c = 1, 2, 3\n",
    "a_Sq, b_sq, c_sq = get_square(a, b, c)\n",
    "print(a, '제곱 :', a_Sq, ', ', b, '제곱 :', b_sq, ', ', c, '제곱 :', c_sq)"
   ]
  },
  {
   "cell_type": "markdown",
   "metadata": {},
   "source": [
    "## LAB 6-1 사각형을 그리는 함수 만들어보기"
   ]
  },
  {
   "cell_type": "markdown",
   "metadata": {},
   "source": [
    "#### 터틀 그래픽에서는 원을 그리는 함수는 제공하지만 정사각형을 그리는 함수는 제공하지 않는다. 이상한 일이지만 어떻게 하겠는가? 우리가 직접 만들어서 사용하자. 일단 함수의 이름은 `square()`라고 하자. 터틀 그래픽에서는 어떻게 정사각형을 그릴 수 있을까? 거북이를 주어진 길이만큼 전진시키고 90도 방향을 전환하는 작업을 4번 반복하면 된다."
   ]
  },
  {
   "cell_type": "code",
   "execution_count": 5,
   "metadata": {},
   "outputs": [],
   "source": [
    "def square(length):\n",
    "    import turtle\n",
    "    t = turtle.Turtle()\n",
    "    t.shape('turtle')\n",
    "    for i in range(4):\n",
    "        t.forward(length)\n",
    "        t.left(90)\n",
    "    turtle.done()\n",
    "\n",
    "square(100)"
   ]
  },
  {
   "cell_type": "markdown",
   "metadata": {},
   "source": [
    "## LAB 6-2 `n`각형을 그리는 함수 만들어보기"
   ]
  },
  {
   "cell_type": "markdown",
   "metadata": {},
   "source": [
    "#### `n`각형을 그리는 함수를 작성하여 사용해보자. 함수의 이름은 `n_polygon(n, length)`라고 하자. 터틀 그래픽에서는 어떻게 `n`각형을 그릴 수 있을까? 거북이를 주어진 길이만큼 전진시키고 (360/n)각도로 방향을 전환하는 작업을 `n`번 반복하면 된다. `n`각형을 그리는 함수를 작성하고 이 함수를 호출하여서 다음과 같은 그림을 그려보자."
   ]
  },
  {
   "cell_type": "code",
   "execution_count": 7,
   "metadata": {},
   "outputs": [],
   "source": [
    "import turtle\n",
    "t = turtle.Turtle()\n",
    "t.shape('turtle')\n",
    "\n",
    "def n_polygon(n, length):\n",
    "    for i in range(n):\n",
    "        t.forward(length)\n",
    "        t.left(360/n)\n",
    "for i in range(10):\n",
    "    t.left(20)\n",
    "    n_polygon(6, 100)\n",
    "turtle.done()"
   ]
  },
  {
   "cell_type": "markdown",
   "metadata": {},
   "source": [
    "## LAB 6-3 주급 계산 프로그램"
   ]
  },
  {
   "cell_type": "markdown",
   "metadata": {},
   "source": [
    "#### 주 단위로 봉급을 받는 아르파이트생이 있다고 하자. 현재 시급과 일한 시간을 입력하면 주급을 계산해주는 함수 `weeklyPay(rate, hour)`를 만들고 이 함수를 호출하여 주급을 출력하는 프로그램을 작성해보자. 30시간이 넘는 근무 시간에 대해서는 시급의 1.5배를 지급한다고 하자. 이 함수를 구현하고 입력받은 값을 `r`와 `h`변수에 넣어서 키워드 인자로 함수 `weeklyPay()`를 호출하는 프로그램을 작성하여라."
   ]
  },
  {
   "cell_type": "code",
   "execution_count": 8,
   "metadata": {},
   "outputs": [
    {
     "name": "stdout",
     "output_type": "stream",
     "text": [
      "주급은 375000.0\n"
     ]
    }
   ],
   "source": [
    "def weeklyPay(rate, hour):\n",
    "    if hour > 30:\n",
    "        money = (rate * 30) + (1.5 * rate * (hour-30))\n",
    "    else:\n",
    "        money = rate * hour\n",
    "    return money\n",
    "\n",
    "r = int(input('시급을 입력하시오: '))\n",
    "h = int(input('근무 시간을 입력하시오: '))\n",
    "print('주급은 ' + str(weeklyPay(rate = r, hour = h)))"
   ]
  },
  {
   "cell_type": "markdown",
   "metadata": {},
   "source": [
    "## LAB 6-4 리스트에서 최댓값/최솟값을 편리하게 찾는 함수"
   ]
  },
  {
   "cell_type": "markdown",
   "metadata": {},
   "source": [
    "#### `[27, 90, 30, 87, 56]`와 같은 리스트에서 최댓값이나 최솟값을 찾는 `getMinMax()` 함수를 만드려고 한다. 이 함수는 리스트를 첫 번째 매개변수로 하고, 두 번째 매개변수는 `method`라는 이름을 가지는 키워드 인자를 받는다고 하자. 이 `method`에 주어지는 인자가 `max`이면 최댓값, `min`이면 최솟값을 찾아 출력하도록 하는 것이다."
   ]
  },
  {
   "cell_type": "code",
   "execution_count": 9,
   "metadata": {},
   "outputs": [
    {
     "name": "stdout",
     "output_type": "stream",
     "text": [
      "[27, 90, 30, 87, 56]\n",
      "90\n"
     ]
    }
   ],
   "source": [
    "def getMinMax(mylist, method = 'max'):\n",
    "    minValue = 99999999999999999999999999999999999\n",
    "    maxValue = -minValue\n",
    "\n",
    "    if method == 'max':\n",
    "        for value in mylist:\n",
    "            if value > maxValue:\n",
    "                maxValue = value\n",
    "        return maxValue\n",
    "    elif method == 'min':\n",
    "        for value in mylist:\n",
    "            if value < minValue:\n",
    "                minValue = value\n",
    "        return minValue\n",
    "    else:\n",
    "        print('illegal method')\n",
    "\n",
    "list_data = [27, 90, 30, 87, 56]\n",
    "print(list_data)\n",
    "s = input('최대값을 원하면 max, 최솟값을 원하면 min을 입력하시오: ')\n",
    "print(getMinMax(list_data, s))"
   ]
  },
  {
   "cell_type": "markdown",
   "metadata": {},
   "source": [
    "## LAB 6-5 거북이에게 막대 그래프를 그리게 하자"
   ]
  },
  {
   "cell_type": "markdown",
   "metadata": {},
   "source": [
    "#### 터틀 그래픽을 이용해서 막대 그래프를 그려보자. 리스트가 `[120, 56, 309, 220, 156, 23, 98]`과 같이 주어지면 다음과 같은 막대 그래프를 그려 보자."
   ]
  },
  {
   "cell_type": "code",
   "execution_count": 11,
   "metadata": {},
   "outputs": [],
   "source": [
    "import turtle\n",
    "t = turtle.Turtle()\n",
    "t.shape('turtle')\n",
    "\n",
    "data = [120, 56, 309, 220, 156, 23, 98]\n",
    "def drawBar(height):\n",
    "    t.begin_fill()\n",
    "    t.left(90)\n",
    "    t.forward(height)\n",
    "    t.right(90)\n",
    "    t.forward(40)\n",
    "    t.right(90)\n",
    "    t.forward(height)\n",
    "    t.left(90)\n",
    "    t.end_fill()\n",
    "\n",
    "t.color('blue')\n",
    "t.fillcolor('red')\n",
    "t.pensize(3)\n",
    "\n",
    "for d in data:\n",
    "        drawBar(d)\n",
    "turtle.done()"
   ]
  },
  {
   "cell_type": "markdown",
   "metadata": {},
   "source": [
    "## LAB 6-6 거북이에게 이차함수를 그리게 하자"
   ]
  },
  {
   "cell_type": "markdown",
   "metadata": {},
   "source": [
    "#### 함수 $f(x) = x^2 + 1$을 계산하는 함수를 작성하고 이 함수를 이용하여 화면에 $f(x)$를 그려보자."
   ]
  },
  {
   "cell_type": "code",
   "execution_count": 13,
   "metadata": {},
   "outputs": [],
   "source": [
    "import turtle\n",
    "t = turtle.Turtle()\n",
    "t.shape('turtle')\n",
    "t.speed(0)\n",
    "\n",
    "def f(x):\n",
    "    return x**2 + 1\n",
    "\n",
    "t.goto(200, 0)\n",
    "t.goto(0, 0)\n",
    "t.goto(0, 200)\n",
    "t.goto(0, 0)\n",
    "\n",
    "for x in range(150):\n",
    "    t.goto(x, int(0.01*f(x)))\n",
    "turtle.done()"
   ]
  },
  {
   "cell_type": "markdown",
   "metadata": {},
   "source": [
    "## LAB 6-7 피보나치 함수 계산하기"
   ]
  },
  {
   "cell_type": "markdown",
   "metadata": {},
   "source": [
    "#### 피보나치 수열이란 앞의 두 항을 더해 다음 항을 만드는 수열이다. 피보나치 수열의 첫 번째 항과 두 번째 항은 0, 1로 설정한다. 이 수열에 속한 수를 피보나치 수라고 한다. 피보나치 수열의 `n`번째 항을 계산하여 반환하는 함수 `fibonacci(n)`를 작성해보자."
   ]
  },
  {
   "cell_type": "code",
   "execution_count": 14,
   "metadata": {},
   "outputs": [
    {
     "name": "stdout",
     "output_type": "stream",
     "text": [
      "21\n"
     ]
    }
   ],
   "source": [
    "def fibonacci(n):\n",
    "    if n < 0:\n",
    "        print('잘못된 입력입니다.')\n",
    "    elif n == 1:\n",
    "        return 0\n",
    "    elif n == 2:\n",
    "        return 1\n",
    "    else:\n",
    "        return fibonacci(n-1) + fibonacci(n-2)\n",
    "\n",
    "i = int(input('몇 년째 항: '))\n",
    "print(fibonacci(i))"
   ]
  }
 ],
 "metadata": {
  "kernelspec": {
   "display_name": "Python 3 (ipykernel)",
   "language": "python",
   "name": "python3"
  },
  "language_info": {
   "codemirror_mode": {
    "name": "ipython",
    "version": 3
   },
   "file_extension": ".py",
   "mimetype": "text/x-python",
   "name": "python",
   "nbconvert_exporter": "python",
   "pygments_lexer": "ipython3",
   "version": "3.9.7"
  },
  "vscode": {
   "interpreter": {
    "hash": "82136e53588c9e34a2f5726c465560e45a7664f059ab9b40b627219027b97012"
   }
  }
 },
 "nbformat": 4,
 "nbformat_minor": 2
}
