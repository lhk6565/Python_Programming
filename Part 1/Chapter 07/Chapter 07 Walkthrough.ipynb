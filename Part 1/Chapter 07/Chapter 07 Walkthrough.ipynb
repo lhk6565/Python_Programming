{
 "cells": [
  {
   "cell_type": "markdown",
   "metadata": {},
   "source": [
    "# Chapter 07 데이터를 리스트와 튜플로 묶어보자"
   ]
  },
  {
   "cell_type": "markdown",
   "metadata": {},
   "source": [
    "## 도전문제 7.1"
   ]
  },
  {
   "cell_type": "markdown",
   "metadata": {},
   "source": [
    "#### 대한민국의 걸그룹 '블랙핑크'의 네 명의 멤버로 구성된 `black_pink`라는 리스트를 만들도록 하자.\n",
    "#### 1) 'Jennie'가 '블랙핑크'의 멤버인지를 `in` 연산을 통해서 확인해 보고 그 결과를 출력해 보도록 하자."
   ]
  },
  {
   "cell_type": "code",
   "execution_count": 1,
   "metadata": {},
   "outputs": [
    {
     "data": {
      "text/plain": [
       "True"
      ]
     },
     "execution_count": 1,
     "metadata": {},
     "output_type": "execute_result"
    }
   ],
   "source": [
    "black_pink = ['Jennie', 'Lisa', 'Rose', 'Jisoo']\n",
    "'Jennie' in black_pink"
   ]
  },
  {
   "cell_type": "markdown",
   "metadata": {},
   "source": [
    "#### 2) 'Psy'가 '블랙핑크'의 멤버인지를 `in` 연산을 통해서 확인해 보고 그 결과를 출력해 보도록 하자."
   ]
  },
  {
   "cell_type": "code",
   "execution_count": 2,
   "metadata": {},
   "outputs": [
    {
     "data": {
      "text/plain": [
       "False"
      ]
     },
     "execution_count": 2,
     "metadata": {},
     "output_type": "execute_result"
    }
   ],
   "source": [
    "'Psy' in black_pink"
   ]
  },
  {
   "cell_type": "markdown",
   "metadata": {},
   "source": [
    "## 도전문제 7.2"
   ]
  },
  {
   "cell_type": "markdown",
   "metadata": {},
   "source": [
    "#### 1) `number = [4, 5, 6, 7, 8, 9]`와 같은 리스트가 있다고 하자. 6을 추출하는 문장을 적어보자."
   ]
  },
  {
   "cell_type": "code",
   "execution_count": 3,
   "metadata": {},
   "outputs": [
    {
     "data": {
      "text/plain": [
       "6"
      ]
     },
     "execution_count": 3,
     "metadata": {},
     "output_type": "execute_result"
    }
   ],
   "source": [
    "number = [4, 5, 6, 7, 8, 9]\n",
    "number[2]"
   ]
  },
  {
   "cell_type": "markdown",
   "metadata": {},
   "source": [
    "#### 2) 위의 리스트에서 슬라이싱을 통해 `[5, 6]`리스트를 추출하도록 하자."
   ]
  },
  {
   "cell_type": "code",
   "execution_count": 4,
   "metadata": {},
   "outputs": [
    {
     "data": {
      "text/plain": [
       "[5, 6]"
      ]
     },
     "execution_count": 4,
     "metadata": {},
     "output_type": "execute_result"
    }
   ],
   "source": [
    "number[1:3]"
   ]
  },
  {
   "cell_type": "markdown",
   "metadata": {},
   "source": [
    "#### 3) 시작 인덱스를 생략하여 `[4, 5, 6]`리스트를 추출하도록 하자."
   ]
  },
  {
   "cell_type": "code",
   "execution_count": 5,
   "metadata": {},
   "outputs": [
    {
     "data": {
      "text/plain": [
       "[4, 5, 6]"
      ]
     },
     "execution_count": 5,
     "metadata": {},
     "output_type": "execute_result"
    }
   ],
   "source": [
    "number[:3]"
   ]
  },
  {
   "cell_type": "markdown",
   "metadata": {},
   "source": [
    "#### 4) 시작 인덱스를 1로하고 스텝값을 2로 하여 `[5, 7, 9]`를 추출하도록 하자."
   ]
  },
  {
   "cell_type": "code",
   "execution_count": 6,
   "metadata": {},
   "outputs": [
    {
     "data": {
      "text/plain": [
       "[5, 7, 9]"
      ]
     },
     "execution_count": 6,
     "metadata": {},
     "output_type": "execute_result"
    }
   ],
   "source": [
    "number[1::2]"
   ]
  },
  {
   "cell_type": "markdown",
   "metadata": {},
   "source": [
    "## 도전문제 7.3"
   ]
  },
  {
   "cell_type": "markdown",
   "metadata": {},
   "source": [
    "#### 1) `s = 'Python is strong'`과 같은 문자열이 있다고 하자. 이 문자열에서 가장 첫 알파벳 문자 'P'를 추출하여라."
   ]
  },
  {
   "cell_type": "code",
   "execution_count": 7,
   "metadata": {},
   "outputs": [
    {
     "data": {
      "text/plain": [
       "'P'"
      ]
     },
     "execution_count": 7,
     "metadata": {},
     "output_type": "execute_result"
    }
   ],
   "source": [
    "s = 'Python is strong'\n",
    "s[0]"
   ]
  },
  {
   "cell_type": "markdown",
   "metadata": {},
   "source": [
    "#### 2) 위의 문자열 `s`에서 슬라이싱을 통해 'strong' 문자열을 추출하도록 하자."
   ]
  },
  {
   "cell_type": "code",
   "execution_count": 8,
   "metadata": {},
   "outputs": [
    {
     "data": {
      "text/plain": [
       "'strong'"
      ]
     },
     "execution_count": 8,
     "metadata": {},
     "output_type": "execute_result"
    }
   ],
   "source": [
    "s[10:16]"
   ]
  },
  {
   "cell_type": "markdown",
   "metadata": {},
   "source": [
    "#### 3) 시작 인덱스르를 생략한 슬라이싱을 통해 'Python' 문자열을 추출하도록 하자."
   ]
  },
  {
   "cell_type": "code",
   "execution_count": 9,
   "metadata": {},
   "outputs": [
    {
     "data": {
      "text/plain": [
       "'Python'"
      ]
     },
     "execution_count": 9,
     "metadata": {},
     "output_type": "execute_result"
    }
   ],
   "source": [
    "s[:6]"
   ]
  },
  {
   "cell_type": "markdown",
   "metadata": {},
   "source": [
    "#### 4) 슬라이싱을 통해 'is' 문자열을 추출하여라."
   ]
  },
  {
   "cell_type": "code",
   "execution_count": 10,
   "metadata": {},
   "outputs": [
    {
     "data": {
      "text/plain": [
       "'is'"
      ]
     },
     "execution_count": 10,
     "metadata": {},
     "output_type": "execute_result"
    }
   ],
   "source": [
    "s[7:9]"
   ]
  },
  {
   "cell_type": "markdown",
   "metadata": {},
   "source": [
    "## 도전문제 7.4"
   ]
  },
  {
   "cell_type": "markdown",
   "metadata": {},
   "source": [
    "#### 다음 `sorted('FADEAWAY')`의 실행결과를 예상해 보고 직접 실행시켜보자."
   ]
  },
  {
   "cell_type": "code",
   "execution_count": 11,
   "metadata": {},
   "outputs": [
    {
     "data": {
      "text/plain": [
       "['A', 'A', 'A', 'D', 'E', 'F', 'W', 'Y']"
      ]
     },
     "execution_count": 11,
     "metadata": {},
     "output_type": "execute_result"
    }
   ],
   "source": [
    "sorted('FADEAWAY')"
   ]
  },
  {
   "cell_type": "markdown",
   "metadata": {},
   "source": [
    "## 도전문제 7.5"
   ]
  },
  {
   "cell_type": "markdown",
   "metadata": {},
   "source": [
    "#### '100 + 200'과 같은 산수 문제를 10개 저장하고 있는 리스트를 작성하고 여기에서 랜덤하게 하나를 골라서 사용자에게 제공하는 프로그램을 작성하라. 다음과 같이 `eval()` 함수를 사용하면 문자열로 이루어진 이 문장을 파이썬 수식으로 평가하여 연산을 수행하는 것이 가능하다."
   ]
  },
  {
   "cell_type": "code",
   "execution_count": 12,
   "metadata": {},
   "outputs": [
    {
     "data": {
      "text/plain": [
       "40"
      ]
     },
     "execution_count": 12,
     "metadata": {},
     "output_type": "execute_result"
    }
   ],
   "source": [
    "import random\n",
    "question = ['100 + 200', '100 + 300', '50 - 10']\n",
    "eval(random.choice(question))"
   ]
  },
  {
   "cell_type": "markdown",
   "metadata": {},
   "source": [
    "## LAB 7-1 입력을 받아 맛있는 과일의 리스트를 만들어 보자"
   ]
  },
  {
   "cell_type": "markdown",
   "metadata": {},
   "source": [
    "#### 빈 리스트를 생성한 다음 사용자로부터 제일 좋아하는 3개의 과일을 입력받아서 리스트에 저장한다. 사용자로부터 과일을 입력받아서 리스트에 그 과일이 포함되어 있으면 '이 과일은 당신이 좋아하는 과일입니다.'를 출력하고, 그렇지 않으면 '이 과일은 당신이 좋아하는 과일이 아닙니다.'를 출력하는 프로그램을 작성한다."
   ]
  },
  {
   "cell_type": "code",
   "execution_count": 13,
   "metadata": {
    "scrolled": true
   },
   "outputs": [
    {
     "name": "stdout",
     "output_type": "stream",
     "text": [
      "이 과일은 당신이 좋아하는 과일입니다.\n"
     ]
    }
   ],
   "source": [
    "fruits = []\n",
    "for i in range(3):\n",
    "    name = input('좋아하는 과일 이름을 입력하시오: ')\n",
    "    fruits.append(name)\n",
    "\n",
    "name = input('과일의 이름을 입력하세요: ')\n",
    "if name in fruits:\n",
    "    print('이 과일은 당신이 좋아하는 과일입니다.')\n",
    "else:\n",
    "    print('이 과일은 당신이 좋아하는 과일이 아닙니다.')"
   ]
  },
  {
   "cell_type": "markdown",
   "metadata": {},
   "source": [
    "## LAB 7-2 리스트에 도시의 인구를 저장해보자"
   ]
  },
  {
   "cell_type": "markdown",
   "metadata": {},
   "source": [
    "#### 서울, 부산, 인천의 인구를 가지고 있는 리스트 `city_pop`을 생성해보자. 각 도시들의 인구는 Seoul, Busan, Incheon 등의 변수에 저장되어 있다고 가정한다. 우리는 변수를 사용해서 다음과 같이 리스트를 생성할 수 있다.\n",
    "```python\n",
    "Seoul = 9765\n",
    "Busan = 3441\n",
    "Incheon = 2954\n",
    "city_pop = [Seoul, Busan, Incheon]\n",
    "print(city_pop)\n",
    "```\n",
    "#### 세 도시에 대전(Daejeon)을 추가해 보도록 하자. 대전의 인구는 1,531천명이라고 가정하자. 그리고 이 네 도시중에서 가장 인구가 많은 도시의 인구와 가장 인구가 적은 도시의 인구, 그리고 네 도시의 인구의 평균을 출력해 보도록 하자. 이를 위하여 `min(), max()` 함수를 사용하는 대신 `for` 반복문을 사용하는 방법으로 구현해 보아라."
   ]
  },
  {
   "cell_type": "code",
   "execution_count": 14,
   "metadata": {},
   "outputs": [
    {
     "name": "stdout",
     "output_type": "stream",
     "text": [
      "[9765, 3441, 2954]\n",
      "최대 인구: 9765\n",
      "최소 인구: 0\n",
      "평균 인구: 4422.75\n"
     ]
    }
   ],
   "source": [
    "Seoul = 9765\n",
    "Busan = 3441\n",
    "Incheon = 2954\n",
    "city_pop = [Seoul, Busan, Incheon]\n",
    "print(city_pop)\n",
    "\n",
    "Daejeon = 1531\n",
    "city_pop.append(Daejeon)\n",
    "\n",
    "max_pop = 0\n",
    "min_pop = 0\n",
    "pop_sum = 0\n",
    "n = 0\n",
    "\n",
    "for pop in city_pop:\n",
    "    if pop > max_pop:\n",
    "        max_pop = pop\n",
    "    if pop < min_pop:\n",
    "        min_pop = pop\n",
    "    pop_sum += pop\n",
    "    n += 1\n",
    "print('최대 인구:', max_pop)\n",
    "print('최소 인구:', min_pop)\n",
    "print('평균 인구:', pop_sum / n)"
   ]
  },
  {
   "cell_type": "markdown",
   "metadata": {},
   "source": [
    "## LAB 7-3 도시의 인구 자료에 대한 슬라이싱을 해보자"
   ]
  },
  {
   "cell_type": "markdown",
   "metadata": {},
   "source": [
    "#### 서울, 부산, 인천의 인구를 가지고 있는 리스트 `population`이 있다고 하자.\n",
    "``` python\n",
    "population = ['Seoul', 9765, 'Busan', 3441, 'Incheon', 2954]\n",
    "```\n",
    "#### 1) 이 리스트에서 서울의 인구인 두 번째 요소를 출력해보자.\n",
    "#### 2) 이 리스트에서 마지막 요소인 인천의 인구를 출력해보자. 이때, 음수로 된 인덱스를 사용해본다.\n",
    "#### 3) 각 도시의 이름을 step 값을 이용하여 출력해 보자.\n",
    "#### 4) 각 도시의 인구를 step 값을 이용하여 출력한 후 이 값들의 합을 출력하도록 하자."
   ]
  },
  {
   "cell_type": "code",
   "execution_count": 15,
   "metadata": {},
   "outputs": [
    {
     "name": "stdout",
     "output_type": "stream",
     "text": [
      "서울 인구: 9765\n",
      "인천 인구: 2954\n",
      "도시 리스트: ['Seoul', 'Busan', 'Incheon']\n",
      "인구의 합: 16160\n"
     ]
    }
   ],
   "source": [
    "population = ['Seoul', 9765, 'Busan', 3441, 'Incheon', 2954]\n",
    "\n",
    "print('서울 인구:', population[1])\n",
    "print('인천 인구:', population[-1])\n",
    "\n",
    "cities = population[0::2]\n",
    "print('도시 리스트:', cities)\n",
    "pops = population[1::2]\n",
    "print('인구의 합:', sum(pops))"
   ]
  },
  {
   "cell_type": "markdown",
   "metadata": {},
   "source": [
    "## LAB 7-4 오늘의 명언을 골라주는 기능을 만들자"
   ]
  },
  {
   "cell_type": "markdown",
   "metadata": {},
   "source": [
    "#### 리스트에 여러 개의 명언을 저장한 후에 그 중에서 하나를 랜덤하게 골라서 오늘의 명언으로 제공한다. 리스트에 저장한 항목 중에서 하나를 랜덤하게 고르려면 다음과 같은 `random` 모듈의 함수 `choice()`를 사용하면 간편하다."
   ]
  },
  {
   "cell_type": "code",
   "execution_count": 16,
   "metadata": {},
   "outputs": [
    {
     "name": "stdout",
     "output_type": "stream",
     "text": [
      "##############################\n",
      "#         오늘의 명언         #\n",
      "##############################\n",
      "\n",
      "꿈을 지녀라. 그러면 어려운 현실을 이길 수 있다.\n"
     ]
    }
   ],
   "source": [
    "import random\n",
    "\n",
    "quotes = []\n",
    "quotes.append('꿈을 지녀라. 그러면 어려운 현실을 이길 수 있다.')\n",
    "quotes.append('분노는 바보들의 가슴속에서만 살아간다.')\n",
    "quotes.append('고생 없이 얻을 수 있는 진실로 귀중한 것은 하나도 없다.')\n",
    "quotes.append('사람은 사랑할 때 누구나 시인이 된다.')\n",
    "quotes.append('시작이 반이다.')\n",
    "\n",
    "print('##############################')\n",
    "print('#         오늘의 명언         #')\n",
    "print('##############################')\n",
    "print('')\n",
    "dailyQuote = random.choice(quotes)\n",
    "print(dailyQuote)"
   ]
  },
  {
   "cell_type": "markdown",
   "metadata": {},
   "source": [
    "## LAB 7-5 함수는 튜플을 돌려줄 수 있다."
   ]
  },
  {
   "cell_type": "markdown",
   "metadata": {},
   "source": [
    "#### C나 C++, Java와 같은 프로그래밍 언어에서는 함수가 하나의 값만을 반환할 수 있다. 파이썬에서는 함수가 튜플을 반환하게 하면 함수가 여러 개의 값을 동시에 반환할 수 있다. 원의 넓이와 둘레를 동시에 반환하는 함수를 작성하고 테스트 해보자."
   ]
  },
  {
   "cell_type": "code",
   "execution_count": 17,
   "metadata": {},
   "outputs": [
    {
     "name": "stdout",
     "output_type": "stream",
     "text": [
      "원의 넓이는 78.53981633974483이고 원의 둘레는31.41592653589793이다.\n"
     ]
    }
   ],
   "source": [
    "import math\n",
    "\n",
    "def calCircle(r):\n",
    "    area = math.pi * r * r\n",
    "    circum = 2 * math.pi * r\n",
    "    return area, circum\n",
    "\n",
    "radius = float(input('원의 반지름을 입력하시오: '))\n",
    "(a , c) = calCircle(radius)\n",
    "print('원의 넓이는 ' + str(a) + '이고 원의 둘레는' + str(c) + '이다.')"
   ]
  },
  {
   "cell_type": "markdown",
   "metadata": {},
   "source": [
    "## LAB 7-6 도시의 이름과 인구를 튜플로 묶어보자"
   ]
  },
  {
   "cell_type": "markdown",
   "metadata": {},
   "source": [
    "#### 서울, 부산, 인천, 광주, 대전의 인구를 가지고 있는 리스트 `city_info`가 있다고 하자. LAB 7-3은 서로 다른 자료형인 도시명과 인구수를 하나의 리스트에 넣었다. 그러나 리스트에는 동일한 자료형을 항목으로 사용하는 것이 바람직하므로 다음과 같이 튜플의 리스트를 만들 수 있다.\n",
    "```python\n",
    "city_info = [('서울', 9765), ('부산', 3441), ('인천', 2954), ('광주', 1501), ('대전', 1531)]\n",
    "```\n",
    "#### 최대 인구를 가진 도시를 찾아 보고, 최소 인구를 가진 도시도 찾아 보라. 그리고 아래와 같이 전체 도시들의 평균 인구를 계산하는 코드도 작성해 보라."
   ]
  },
  {
   "cell_type": "code",
   "execution_count": 18,
   "metadata": {},
   "outputs": [
    {
     "name": "stdout",
     "output_type": "stream",
     "text": [
      "최대인구: 서울, 인구: 9765 천명\n",
      "최소인구: 광주, 인구: 1501 천명\n",
      "리스트 도시 평균 인구: 3838.4 천명\n"
     ]
    }
   ],
   "source": [
    "city_info = [('서울', 9765), ('부산', 3441), ('인천', 2954), ('광주', 1501), ('대전', 1531)]\n",
    "\n",
    "max_pop = 0\n",
    "min_pop = 9999999999999\n",
    "total_pop = 0\n",
    "\n",
    "max_city = None\n",
    "min_city = None\n",
    "\n",
    "for city in city_info:\n",
    "    total_pop += city[1]\n",
    "    if city[1] > max_pop:\n",
    "        max_pop = city[1]\n",
    "        max_city = city\n",
    "    if city[1] < min_pop:\n",
    "        min_pop = city[1]\n",
    "        min_city = city\n",
    "print('최대인구: {0}, 인구: {1} 천명'.format(max_city[0], max_city[1]))\n",
    "print('최소인구: {0}, 인구: {1} 천명'.format(min_city[0], min_city[1]))\n",
    "print('리스트 도시 평균 인구: {0} 천명'.format(total_pop / len(city_info)))"
   ]
  }
 ],
 "metadata": {
  "kernelspec": {
   "display_name": "Python 3 (ipykernel)",
   "language": "python",
   "name": "python3"
  },
  "language_info": {
   "codemirror_mode": {
    "name": "ipython",
    "version": 3
   },
   "file_extension": ".py",
   "mimetype": "text/x-python",
   "name": "python",
   "nbconvert_exporter": "python",
   "pygments_lexer": "ipython3",
   "version": "3.9.7"
  },
  "vscode": {
   "interpreter": {
    "hash": "82136e53588c9e34a2f5726c465560e45a7664f059ab9b40b627219027b97012"
   }
  }
 },
 "nbformat": 4,
 "nbformat_minor": 2
}
