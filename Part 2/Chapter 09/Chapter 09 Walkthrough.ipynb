{
 "cells": [
  {
   "cell_type": "markdown",
   "metadata": {},
   "source": [
    "# Chapter 09 텍스트를 처리해보자"
   ]
  },
  {
   "cell_type": "markdown",
   "metadata": {},
   "source": [
    "## 도전문제 9.1"
   ]
  },
  {
   "cell_type": "markdown",
   "metadata": {},
   "source": [
    "#### 원천 데이터를 처리하다 보면 특정 상표나 회사명을 익명 처리해야 하는 경우가 있다. 아래와 같은 트윗 데이터는 KT, SKT, Samsung, LG와 같은 회사명이 나타나고 있다. 이런 데이터에서 회사명은 모두 *로 가려져서 나타나게 변경해 보자."
   ]
  },
  {
   "cell_type": "code",
   "execution_count": 26,
   "metadata": {},
   "outputs": [
    {
     "name": "stdout",
     "output_type": "stream",
     "text": [
      "[article] 200820 blackpink jennie is regared to have greak effect on * mystic red as it was chsen by 50% of those who prebooked for the * galaxy note 20 (* u+ mystic pink 30%, * mystic blue not disclosed)\n"
     ]
    }
   ],
   "source": [
    "t = '[ARTICLE] 200820 BLACKPINK Jennie is regared to have greak effect on KT Mystic Red as it was chsen by 50% of those who prebooked for the Samsung Galaxy Note 20 (LG U+ Mystic Pink 30%, SKT Mystic Blue not disclosed)'\n",
    "t = t.lower()\n",
    "bl = ['skt', 'kt', 'lg', 'samsung']\n",
    "for wd in bl:\n",
    "    t = t.replace(wd,'*')\n",
    "print(t)"
   ]
  },
  {
   "cell_type": "markdown",
   "metadata": {},
   "source": [
    "## 도전문제 9.2"
   ]
  },
  {
   "cell_type": "markdown",
   "metadata": {},
   "source": [
    "## 도전문제 9.3"
   ]
  },
  {
   "cell_type": "markdown",
   "metadata": {},
   "source": [
    "## 도전문제 9.4"
   ]
  },
  {
   "cell_type": "markdown",
   "metadata": {},
   "source": [
    "## 도전문제 9.5"
   ]
  },
  {
   "cell_type": "markdown",
   "metadata": {},
   "source": [
    "## 도전문제 9.6"
   ]
  },
  {
   "cell_type": "markdown",
   "metadata": {},
   "source": [
    "## LAB 9-1 카이사르 암호를 만들어 보자"
   ]
  },
  {
   "cell_type": "markdown",
   "metadata": {},
   "source": [
    "#### 카이사르의 암호는 로마의 장군인 카이사르가 동맹군들과 소통하기 위해 만든 암호인데, 간단한 치환암호의 일종이다. 이 암호는 암호화하고자 하는 내용을 알파벳 별로 일정한 거리만큼 밀어서 다른 알파벳으로 치환하는 방식이다. 예를 들어 알파벳 A가 있을 경우 알파벳에서 3칸 이동한 알파벳 D로 표기할 수 있다. 이 방식의 경우 다음과 같이 대응되는 치환식을 사용한다."
   ]
  },
  {
   "cell_type": "code",
   "execution_count": 5,
   "metadata": {},
   "outputs": [
    {
     "name": "stdout",
     "output_type": "stream",
     "text": [
      "암호화된 문장 : \n"
     ]
    }
   ],
   "source": [
    "import string\n",
    "\n",
    "src_str = string.ascii_uppercase\n",
    "dst_str = src_str[3:] + src_str[:3]\n",
    "\n",
    "def cipher(a):\n",
    "    idx = src_str.index(a)\n",
    "    return dst_str[idx]\n",
    "\n",
    "src = input('문장을 입력하시오: ')\n",
    "print('암호화된 문장 : ', end='')\n",
    "\n",
    "for ch in src:\n",
    "    if ch in src_str:\n",
    "        print(cipher(ch), end='')\n",
    "    else:\n",
    "        print(ch, end='')\n",
    "\n",
    "print()"
   ]
  },
  {
   "cell_type": "markdown",
   "metadata": {},
   "source": [
    "## LAB 9-2 트위터 메시지 처리의 단어 추출"
   ]
  },
  {
   "cell_type": "markdown",
   "metadata": {},
   "source": [
    "#### 트위터 메시지에서 추출할 수 있는 가장 기본적인 것은 각 트윗의 단어 수이다. 일반적으로 부정적인 감정은 긍정적인 것보다 적은 양의 단어를 포함한다고 한다. 트윗에서 단어의 개수를 추출하여서 발신자의 감정을 판단해 보기로 했다. `split()` 함수를 사용하여 트윗에서 단어를 추출하는 일부터 해 보자. 다음과 같은 문자열 `t`가 주어졌을 때 이 문자열 내의 단어의 개수를 다음과 같이 출력하도록 하여라.\n",
    "```python\n",
    "t = \"There's a reasom some people are working to make it harder to vote, especially for people of color. It's because when we show up, things change.\"\n",
    "```"
   ]
  },
  {
   "cell_type": "markdown",
   "metadata": {},
   "source": [
    "## LAB 9-3 트위터 메시지의 대문자, 소문자 변환"
   ]
  },
  {
   "cell_type": "markdown",
   "metadata": {},
   "source": [
    "#### 문자열의 글자들을 모두 소문자로 바꾸고 구두점들을 제거해 보자. 소문자로 변경하는 이유는 동일한 단어가 중복하여 처리되는 것을 방지할 수 있기 때문이다. 예를 들어 이렇게 하지 않으면 단어 수를 계산하는 동안 'Car'과 'car'는 다른 단어로 간주된다. 이렇게 되면 사실상 동일한 데이터를 서로 다른 것으로 다루게 된다. 이러한 문제를 피하기 위해 문자열 데이터 전체를 소문자나 대문자로 바꾸는 일은 가장 흔한 데이터 사전 준비 과정 중에 하나이다. 다음과 같은 문장 `t`가 주어졌을 때, 이를 다음과 같은 문장 `l`로 변환하는 프로그램을 작성하여라.\n",
    "```python\n",
    "t = \"IT's Not The Right Time To Conduct Exams. MY DEMAND IN BOLD AND CAPITAL. NO EXAMS IN COVID!!!\"\n",
    "```"
   ]
  },
  {
   "cell_type": "markdown",
   "metadata": {},
   "source": [
    "## LAB 9-4 1회용 패스워드를 만들어 보자"
   ]
  },
  {
   "cell_type": "markdown",
   "metadata": {},
   "source": [
    "#### 일회용 암호(OTP)는 컴퓨터 또는 디지털 장치에서 하나의 로그인 세션 또는 트랜잭션에만 유효한 암호이다. OTP는 인터넷 뱅킹, 온라인 거래 등과 같은 거의 모든 서비스에 사용된다. 일반적으로 다음과 같은 6자리의 숫자 조합이다. 파이썬에서 `random()` 함수는 난수 생성 함수로서 임의의 OTP를 생성하는 데 사용할 수 있다. 파이썬을 사용하여 다음과 같이 OTP 번호를 생성해보자. 우리 프로그램은 몇 자리의 비밀번호를 원하는지 물어본 뒤에 입력된 자릿수를 가진 비밀번호를 생성한다."
   ]
  },
  {
   "cell_type": "code",
   "execution_count": 28,
   "metadata": {},
   "outputs": [
    {
     "name": "stdout",
     "output_type": "stream",
     "text": [
      "5\n"
     ]
    }
   ],
   "source": [
    "import random\n",
    "\n",
    "n_digits = int(input('몇 자리의 비밀번호를 원하십니까? '))\n",
    "otp = ''\n",
    "\n",
    "for i in range(n_digits):\n",
    "    otp += str(random.randrange(0, 10))\n",
    "\n",
    "print(otp)"
   ]
  },
  {
   "cell_type": "markdown",
   "metadata": {},
   "source": [
    "## LAB 9-5 학사 코드 추출하기에 도전하자"
   ]
  },
  {
   "cell_type": "markdown",
   "metadata": {},
   "source": [
    "#### 다음과 같은 수강 교과목 코드와 약칭으로된 문자열이 있다고 가정하자. '[수강 번호] [수강 코드] [과목 이름]' 형식으로 되어 있다. 위의 텍스트에서 수강 번호만을 다음과 같이 리스트 형식으로 추출해보자."
   ]
  },
  {
   "cell_type": "code",
   "execution_count": 27,
   "metadata": {},
   "outputs": [
    {
     "name": "stdout",
     "output_type": "stream",
     "text": [
      "추출된 이메일 : ['abc@facebook.com', 'bbc@google.com']\n"
     ]
    }
   ],
   "source": [
    "import re\n",
    "\n",
    "txt = 'abc@facebook.com와 bbc@google.com에서 이메일이 도착하였습니다.'\n",
    "output = re.findall('\\S+@[a-z.]+', txt)\n",
    "print('추출된 이메일 :', output)"
   ]
  },
  {
   "cell_type": "code",
   "execution_count": null,
   "metadata": {},
   "outputs": [],
   "source": []
  }
 ],
 "metadata": {
  "kernelspec": {
   "display_name": "Python 3 (ipykernel)",
   "language": "python",
   "name": "python3"
  },
  "language_info": {
   "codemirror_mode": {
    "name": "ipython",
    "version": 3
   },
   "file_extension": ".py",
   "mimetype": "text/x-python",
   "name": "python",
   "nbconvert_exporter": "python",
   "pygments_lexer": "ipython3",
   "version": "3.9.7"
  },
  "vscode": {
   "interpreter": {
    "hash": "82136e53588c9e34a2f5726c465560e45a7664f059ab9b40b627219027b97012"
   }
  }
 },
 "nbformat": 4,
 "nbformat_minor": 2
}
