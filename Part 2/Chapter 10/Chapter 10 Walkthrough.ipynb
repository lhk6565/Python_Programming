{
 "cells": [
  {
   "cell_type": "markdown",
   "metadata": {},
   "source": [
    "# Chapter 10 넘파이로 수치 데이터를 처리해보자 "
   ]
  },
  {
   "cell_type": "markdown",
   "metadata": {},
   "source": [
    "## 도전문제 10.1 "
   ]
  },
  {
   "cell_type": "markdown",
   "metadata": {},
   "source": [
    "#### 다음과 같은 연산의 결과를 출력해 보자.\n",
    "```python\n",
    "a = np.array(range(1, 11))\n",
    "b = np.array(range(10, 101, 10))\n",
    "a + b, a - b, a * b, a / b\n",
    "```"
   ]
  },
  {
   "cell_type": "code",
   "execution_count": 1,
   "metadata": {},
   "outputs": [
    {
     "data": {
      "text/plain": [
       "(array([ 11,  22,  33,  44,  55,  66,  77,  88,  99, 110]),\n",
       " array([ -9, -18, -27, -36, -45, -54, -63, -72, -81, -90]),\n",
       " array([  10,   40,   90,  160,  250,  360,  490,  640,  810, 1000]),\n",
       " array([0.1, 0.1, 0.1, 0.1, 0.1, 0.1, 0.1, 0.1, 0.1, 0.1]))"
      ]
     },
     "execution_count": 1,
     "metadata": {},
     "output_type": "execute_result"
    }
   ],
   "source": [
    "import numpy as np\n",
    "a = np.array(range(1, 11))\n",
    "b = np.array(range(10, 101, 10))\n",
    "a + b, a - b, a * b, a / b"
   ]
  },
  {
   "cell_type": "markdown",
   "metadata": {},
   "source": [
    "## 도전문제 10.2"
   ]
  },
  {
   "cell_type": "markdown",
   "metadata": {},
   "source": [
    "#### 다음과 같은 연산의 결과를 출력해 보자.\n",
    "```python\n",
    "a = np.array(range(1, 11)) + np.array(range(10, 101, 10))\n",
    "a.shape\n",
    "a.size\n",
    "```"
   ]
  },
  {
   "cell_type": "code",
   "execution_count": 2,
   "metadata": {},
   "outputs": [
    {
     "data": {
      "text/plain": [
       "((10,), 10)"
      ]
     },
     "execution_count": 2,
     "metadata": {},
     "output_type": "execute_result"
    }
   ],
   "source": [
    "a = np.array(range(1, 11)) + np.array(range(10, 101, 10))\n",
    "a.shape, a.size"
   ]
  },
  {
   "cell_type": "markdown",
   "metadata": {},
   "source": [
    "## LAB 10-1 ndarray 객체를 생성하고 속성을 알아보자"
   ]
  },
  {
   "cell_type": "markdown",
   "metadata": {},
   "source": [
    "#### 넘파이의 다차원 배열을 이해하기 위해 다음과 같은 일들을 수행해 보자.\n",
    "#### 1. 0에서 9까지의 정수 값을 가지는 `ndarray` 객체 `array_a`를 넘파이를 이용하여 작성하여 내용을 출력해 보라.\n",
    "#### 2. `range()` 함수를 사용하여 0에서 9까지의 정수 값을 가지는 `ndarray` 객체 `array_b`를 만들고 아래의 결과와 같이 나타나도록 하여라.\n",
    "#### 3. 문제 2의 코드를 수정하여 0에서 9까지의 정수 값 중에서 다음과 같이 짝수를 가지는 `ndarray` 객체 `array_c`를 생성하여라.\n",
    "#### 4. `array_c`의 `shape, ndim, dtype, size, itemsize`를 출력해 보라."
   ]
  },
  {
   "cell_type": "code",
   "execution_count": 3,
   "metadata": {},
   "outputs": [
    {
     "name": "stdout",
     "output_type": "stream",
     "text": [
      "실습 1 : array_a = [0 1 2 3 4 5 6 7 8 9]\n",
      "실습 2 : array_b = [0 1 2 3 4 5 6 7 8 9]\n",
      "실습 3 : array_c = [0 2 4 6 8]\n",
      "실습 4: \n",
      "array_c의 shape : (5,)\n",
      "array_c의 ndim : 1\n",
      "array_c의 dtype : int32\n",
      "array_c의 size : 5\n",
      "array_c의 itemsize : 4\n"
     ]
    }
   ],
   "source": [
    "import numpy as np\n",
    "\n",
    "# 실습 1\n",
    "array_a = np.array([0, 1, 2, 3, 4, 5, 6, 7, 8, 9])\n",
    "print('실습 1 : array_a =', array_a)\n",
    "\n",
    "# 실습 2\n",
    "array_b = np.array(range(10))\n",
    "print('실습 2 : array_b =', array_b)\n",
    "\n",
    "# 실습 3\n",
    "array_c = np.array(range(0,10,2))\n",
    "print('실습 3 : array_c =', array_c)\n",
    "\n",
    "# 실습 4\n",
    "print('실습 4: ')\n",
    "print('array_c의 shape :', array_c.shape)\n",
    "print('array_c의 ndim :', array_c.ndim)\n",
    "print('array_c의 dtype :', array_c.dtype)\n",
    "print('array_c의 size :', array_c.size)\n",
    "print('array_c의 itemsize :', array_c.itemsize)"
   ]
  },
  {
   "cell_type": "markdown",
   "metadata": {},
   "source": [
    "## LAB 10-2 여러 사람의 BMI를 빠르고 간편하게 계산하기"
   ]
  },
  {
   "cell_type": "markdown",
   "metadata": {},
   "source": [
    "#### 넘파이를 이용하여 다수의 인원에 대해 BMI 계산을 효율적으로 적용해 보자. 수정 병원에서는 연구를 위하여 모집한 다수의 실험 대상자들의 키와 몸무게를 측정하였다. 하나의 리스트는 실험 대상자들의 키를 저장한 리스트로서 `heights`라고 하자. 또 하나의 리스트는 몸무게를 저장한 리스트로서 `weights`라고 하자. 수저 병원의 실험 대상자들의 BMI를 한 번에 계산할 수 있는 방법은 무엇일까?"
   ]
  },
  {
   "cell_type": "code",
   "execution_count": 4,
   "metadata": {},
   "outputs": [
    {
     "name": "stdout",
     "output_type": "stream",
     "text": [
      "대상자들의 키: [1.83 1.76 1.69 1.86 1.77 1.73]\n",
      "대상자들의 몸무게: [86 74 59 95 80 68]\n",
      "대상자들의 BMI\n",
      "[25.68007405 23.88946281 20.65754    27.45982194 25.53544639 22.72043837]\n"
     ]
    }
   ],
   "source": [
    "import numpy as np\n",
    "\n",
    "heights = [1.83, 1.76, 1.69, 1.86, 1.77, 1.73]\n",
    "weights = [86, 74, 59, 95, 80, 68]\n",
    "\n",
    "np_heights = np.array(heights)\n",
    "np_weights = np.array(weights)\n",
    "\n",
    "bmi = np_weights/(np_heights**2)\n",
    "print('대상자들의 키:', np_heights)\n",
    "print('대상자들의 몸무게:', np_weights)\n",
    "print('대상자들의 BMI')\n",
    "print(bmi)"
   ]
  },
  {
   "cell_type": "markdown",
   "metadata": {},
   "source": [
    "## LAB 10-3 2차원 배열 연습하기"
   ]
  },
  {
   "cell_type": "markdown",
   "metadata": {},
   "source": [
    "#### 문자 데이터를 저장하고 있는 어떤 2차원 넘파이 배열 `x` 에서 'c' 문자가 몇 개 있는지 알고 싶다. 'c'만을 추출하여 배열을 만들어 보라.\n",
    "```python\n",
    "x = np.array([['a', 'b', 'c', 'd'],\n",
    "              ['c', 'c', 'g', 'h']])\n",
    "```\n",
    "#### 그리고 다음과 같은 두 개의 2차원 배열에 정수를 담아 `mat_a`에서 `mat_b`를 뺀 결과를 확인해 보라.\n",
    "```python\n",
    "mat_a = np.array([[10, 20, 30], [10, 20, 30]])\n",
    "mat_b = np.array([[2, 2, 2], [1, 2, 3]])\n",
    "```"
   ]
  },
  {
   "cell_type": "code",
   "execution_count": 5,
   "metadata": {},
   "outputs": [
    {
     "name": "stdout",
     "output_type": "stream",
     "text": [
      "['c' 'c' 'c']\n",
      "[[ 8 18 28]\n",
      " [ 9 18 27]]\n"
     ]
    }
   ],
   "source": [
    "x = np.array([['a', 'b', 'c', 'd'],\n",
    "              ['c', 'c', 'g', 'h']])\n",
    "mat_a = np.array([[10, 20, 30], [10, 20, 30]])\n",
    "mat_b = np.array([[2, 2, 2], [1, 2, 3]])\n",
    "\n",
    "print(x [x == 'c'])\n",
    "print(mat_a - mat_b)"
   ]
  },
  {
   "cell_type": "markdown",
   "metadata": {},
   "source": [
    "## LAB 10-4 넘파이 배열의 형태 알아내고 슬라이싱하여 연산하기"
   ]
  },
  {
   "cell_type": "markdown",
   "metadata": {},
   "source": [
    "#### 검사 대상자들의 키와 몸무게가 다음과 같이 2차원 넘파이 배열에 저장되었다고 하자.\n",
    "```python\n",
    "import numpy as np\n",
    "\n",
    "x = np.array([[1.83, 1.76, 1.69, 1.86, 1.77, 1.73],\n",
    "              [86.0, 74.0, 59.0, 95.0, 80.0, 68.0]])\n",
    "y = x[0:2, 1:3]\n",
    "z = x[0:2][1:3]\n",
    "```\n",
    "#### `x`와 `y`, 그리고 `z`의 형태가 어떠한지 확인해 보라. 그리고 이 정보를 바탕으로 각 대상자들의 BMI 값을 저장한 배열을 생성해 보라."
   ]
  },
  {
   "cell_type": "code",
   "execution_count": 6,
   "metadata": {},
   "outputs": [
    {
     "name": "stdout",
     "output_type": "stream",
     "text": [
      "x shape : (2, 6)\n",
      "y shape : (2, 2)\n",
      "z shape : (1, 6)\n",
      "z values = : [[86. 74. 59. 95. 80. 68.]]\n",
      "BMI data\n",
      "[25.68007405 23.88946281 20.65754    27.45982194 25.53544639 22.72043837]\n"
     ]
    }
   ],
   "source": [
    "import numpy as np\n",
    "\n",
    "x = np.array([[1.83, 1.76, 1.69, 1.86, 1.77, 1.73],\n",
    "              [86.0, 74.0, 59.0, 95.0, 80.0, 68.0]])\n",
    "y = x[0:2, 1:3]\n",
    "z = x[0:2][1:3]\n",
    "\n",
    "print('x shape :', x.shape)\n",
    "print('y shape :', y.shape)\n",
    "print('z shape :', z.shape)\n",
    "print('z values = :', z)\n",
    "\n",
    "bmi = x[1] / x[0]**2\n",
    "print('BMI data')\n",
    "print(bmi)"
   ]
  },
  {
   "cell_type": "markdown",
   "metadata": {},
   "source": [
    "## LAB 10-5 2차원 배열에서 특정 조건을 만족하는 행만 추출하기"
   ]
  },
  {
   "cell_type": "markdown",
   "metadata": {},
   "source": [
    "#### 선수들의 키와 몸무게가 하나의 리스트를 구성하고 있으며, 또 이들의 리스트로 이루어진 데이터 `player`가 있다.\n",
    "```python\n",
    "players = [[170, 76,4],\n",
    "           [183, 86.2],\n",
    "           [181, 78.5],\n",
    "           [176, 80.1]]\n",
    "```\n",
    "#### 이것을 바탕으로 넘파이 2차원 배열을 만들어 보고, 선수들 가운데 몸무게가 80을 넘는 선수들만 골라서 정보를 출력해 보자. 또 키가 180 이상인 선수들의 정보도 추출해 보자."
   ]
  },
  {
   "cell_type": "code",
   "execution_count": 7,
   "metadata": {},
   "outputs": [
    {
     "name": "stdout",
     "output_type": "stream",
     "text": [
      "몸무게가 80 이상인 선수 정보\n",
      "[[183.   86.2]\n",
      " [176.   80.1]]\n",
      "키가 180 이상인 선수 정보\n",
      "[[183.   86.2]\n",
      " [181.   78.5]]\n"
     ]
    }
   ],
   "source": [
    "import numpy as np\n",
    "\n",
    "players = [[170, 76.4],\n",
    "           [183, 86.2],\n",
    "           [181, 78.5],\n",
    "           [176, 80.1]]\n",
    "\n",
    "np_players = np.array(players)\n",
    "\n",
    "print('몸무게가 80 이상인 선수 정보')\n",
    "print(np_players[np_players[:, 1] >= 80.0])\n",
    "\n",
    "print('키가 180 이상인 선수 정보')\n",
    "print(np_players[np_players[:, 0] >= 180.0])"
   ]
  },
  {
   "cell_type": "markdown",
   "metadata": {},
   "source": [
    "## LAB 10-6 평균과 중앙값 계산하기"
   ]
  },
  {
   "cell_type": "markdown",
   "metadata": {},
   "source": [
    "#### 축구 선수들 100명의 데이터가 2차원 넘파이 배열에 저장되어 있다. 각 선수당 (키, 몸무게, 나이)를 저장한다. 넘파이 배열의 이름은 `players`이다. 정규 분포를 이용하여 자동으로 데이터를 생성해 보자. 100명의 선수가 각각 키, 몸무게, 나이를 가지므로 배열의 형태는 (100, 3)이 된다. 생성할 때 키는 175, 몸무게는 70, 나이는 22세를 평균으로 하고, 표준편차는 모두 10이 되도록 하여 생성해서 생성된 데이터의 실제 평균과 중앙값을 구해 보자."
   ]
  },
  {
   "cell_type": "code",
   "execution_count": 8,
   "metadata": {},
   "outputs": [
    {
     "name": "stdout",
     "output_type": "stream",
     "text": [
      "신장 평균값: 175.554079075299\n",
      "신장 중앙값: 175.44931157057056\n",
      "체중 평균값: 72.0018738820678\n",
      "체중 중앙값: 71.88031258391132\n",
      "나이 평균값: 20.91\n",
      "나이 중앙값: 20.0\n"
     ]
    }
   ],
   "source": [
    "import numpy as np\n",
    "\n",
    "players = np.zeros((100, 3))\n",
    "players[:, 0] = 10 * np.random.randn(100) + 175\n",
    "players[:, 1] = 10 * np.random.randn(100) + 70\n",
    "players[:, 2] = np.floor(10 * np.random.randn(100)) + 22\n",
    "\n",
    "heights = players[:, 0]\n",
    "print('신장 평균값:', np.mean(heights))\n",
    "print('신장 중앙값:', np.median(heights))\n",
    "\n",
    "weights = players[:, 1]\n",
    "print('체중 평균값:', np.mean(weights))\n",
    "print('체중 중앙값:', np.median(weights))\n",
    "\n",
    "ages = players[:, 2]\n",
    "print('나이 평균값:', np.mean(ages))\n",
    "print('나이 중앙값:', np.median(ages))"
   ]
  }
 ],
 "metadata": {
  "kernelspec": {
   "display_name": "Python 3 (ipykernel)",
   "language": "python",
   "name": "python3"
  },
  "language_info": {
   "codemirror_mode": {
    "name": "ipython",
    "version": 3
   },
   "file_extension": ".py",
   "mimetype": "text/x-python",
   "name": "python",
   "nbconvert_exporter": "python",
   "pygments_lexer": "ipython3",
   "version": "3.9.7"
  }
 },
 "nbformat": 4,
 "nbformat_minor": 2
}
