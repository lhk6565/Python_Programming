{
 "cells": [
  {
   "cell_type": "markdown",
   "id": "5026e5b4",
   "metadata": {},
   "source": [
    "# Chapter 12 판다스로 데이터를 분석해보자 "
   ]
  },
  {
   "cell_type": "markdown",
   "id": "d4ff1279",
   "metadata": {},
   "source": [
    "## LAB 12-1 울릉도는 몇 월에 바람이 가장 강할까? "
   ]
  },
  {
   "cell_type": "markdown",
   "id": "39b52e63",
   "metadata": {},
   "source": [
    "#### 앞서 사용했던 울릉도의 기상 데이터에는 일일 평균 풍속 데이터가 있다. 이 데이터를 바탕으로 몇 월의 울릉도가 가장 바람이 강한지 알아 보고 싶다. 결과는 아래와 같다. 달이 0부터 시작하여 11(실제는 1월부터 12월)까지 있고, 3일 때에 가장 큰 풍속을 보이므로, 울릉도는 4월에 가장 강한 바람이 분다는 것을 알 수 있다."
   ]
  },
  {
   "cell_type": "code",
   "execution_count": 1,
   "id": "c239ba2b",
   "metadata": {},
   "outputs": [
    {
     "data": {
      "image/png": "[encoded data removed]",
      "text/plain": [
       "<Figure size 432x288 with 1 Axes>"
      ]
     },
     "metadata": {
      "needs_background": "light"
     },
     "output_type": "display_data"
    }
   ],
   "source": [
    "import csv\n",
    "import matplotlib.pyplot as plt\n",
    "\n",
    "f = open('C:/Users/lhk65/OneDrive/Desktop/Project/Python_Programming/Part 2/Chapter 12/weather.csv')\n",
    "data = csv.reader(f)\n",
    "header = next(data)\n",
    "\n",
    "monthly_wind = [0 for x in range(12)]\n",
    "days_counted = [0 for x in range(12)]\n",
    "\n",
    "for row in data:\n",
    "    month = int(row[0][5:7])\n",
    "    if row[3] != '':\n",
    "        wind = float(row[3])\n",
    "        monthly_wind[month-1] += wind\n",
    "        days_counted[month-1] += 1\n",
    "\n",
    "for i in range(12):\n",
    "    monthly_wind[i] /= days_counted[i]\n",
    "    \n",
    "plt.plot(monthly_wind, 'blue')\n",
    "plt.show()\n",
    "\n",
    "f.close()"
   ]
  },
  {
   "cell_type": "markdown",
   "id": "0acc9987",
   "metadata": {},
   "source": [
    "## LAB 12-2 판다스로 울릉도의 바람 세기 분석하기"
   ]
  },
  {
   "cell_type": "markdown",
   "id": "b75ad012",
   "metadata": {},
   "source": [
    "#### 앞서 사용했던 울릉도의 기상 데이터에 기록된 매일의 평균 풍속 데이터를 바탕으로 몇 월의 바람이 가장 강한지 분석해 보았다. 이번에는 이 작업을 판다스를 이용하여 해 보려고 한다. 결과는 앞의 것도 동일하게 나올 것이다."
   ]
  },
  {
   "cell_type": "code",
   "execution_count": 14,
   "id": "4ee738cb",
   "metadata": {
    "scrolled": true
   },
   "outputs": [
    {
     "data": {
      "image/png": "[encoded data removed]",
      "text/plain": [
       "<Figure size 432x288 with 1 Axes>"
      ]
     },
     "metadata": {
      "needs_background": "light"
     },
     "output_type": "display_data"
    }
   ],
   "source": [
    "import pandas as pd\n",
    "import matplotlib.pyplot as plt\n",
    "\n",
    "weather = pd.read_csv('C:/Users/lhk65/OneDrive/Desktop/Project/Python_Programming/Part 2/Chapter 12/weather.csv', encoding='CP949')\n",
    "monthly = [None for x in range(12)]\n",
    "monthly_wind = [0 for x in range(12)]\n",
    "weather['month'] = pd.DatetimeIndex(weather['일시']).month\n",
    "\n",
    "for i in range(12):\n",
    "    monthly[i] = weather[weather['month'] == i+1]\n",
    "    monthly_wind[i] = monthly[i].mean(numeric_only=True)['평균 풍속(m/s)']\n",
    "\n",
    "plt.plot(monthly_wind, 'red')\n",
    "plt.show()"
   ]
  },
  {
   "cell_type": "markdown",
   "id": "1ef951e5",
   "metadata": {},
   "source": [
    "## LAB 12-3 울릉도는 몇 월에 바람이 가장 강할까? - `groupby()` 활용"
   ]
  },
  {
   "cell_type": "markdown",
   "id": "b9eade6c",
   "metadata": {},
   "source": [
    "#### 울릉도의 기상 데이터에 기록된 매일의 평균 풍속 데이터를 바탕으로 몇 월의 바람이 가장 강한지 분석해 보았다. 이번에는 판다스가 제공하는 `groupby()` 함수로 더욱 효율적으로 만들어 보라."
   ]
  },
  {
   "cell_type": "code",
   "execution_count": 10,
   "id": "098b048a",
   "metadata": {},
   "outputs": [
    {
     "data": {
      "image/png": "[encoded data removed]",
      "text/plain": [
       "<Figure size 432x288 with 1 Axes>"
      ]
     },
     "metadata": {
      "needs_background": "light"
     },
     "output_type": "display_data"
    }
   ],
   "source": [
    "import pandas as pd\n",
    "import matplotlib.pyplot as plt\n",
    "import datetime as dt\n",
    "\n",
    "weather = pd.read_csv('C:/Users/lhk65/OneDrive/Desktop/Project/Python_Programming/Part 2/Chapter 12/weather.csv', encoding='CP949')\n",
    "\n",
    "weather['month'] = pd.DatetimeIndex(weather['일시']).month\n",
    "means = weather.groupby('month').mean()\n",
    "means['평균 풍속(m/s)'].plot(kind='bar')\n",
    "\n",
    "plt.show()"
   ]
  },
  {
   "cell_type": "markdown",
   "id": "aff2fb58",
   "metadata": {},
   "source": [
    "## LAB 12-4 다양한 방법으로 concat 적용해 보기"
   ]
  },
  {
   "cell_type": "markdown",
   "id": "2ccd20bf",
   "metadata": {},
   "source": [
    "#### 앞서 생성한 `df_1`과 `df_2` 데이터프레임을 합치는 데에 `concat`의 `axis`와 `join` 매개변수에 인자를 다양하게 적용하여 결과를 확인해보라."
   ]
  },
  {
   "cell_type": "code",
   "execution_count": 12,
   "id": "75c2e7c6",
   "metadata": {},
   "outputs": [
    {
     "name": "stdout",
     "output_type": "stream",
     "text": [
      "     A    B    C    D\n",
      "가  a10  b10  c10  NaN\n",
      "나  a11  b11  c11  NaN\n",
      "다  a12  b12  c12  NaN\n",
      "다  NaN  b23  c23  d23\n",
      "라  NaN  b24  c24  d24\n",
      "마  NaN  b25  c25  d25\n",
      "     B    C\n",
      "가  b10  c10\n",
      "나  b11  c11\n",
      "다  b12  c12\n",
      "다  b23  c23\n",
      "라  b24  c24\n",
      "마  b25  c25\n",
      "     A    B    C    B    C    D\n",
      "가  a10  b10  c10  NaN  NaN  NaN\n",
      "나  a11  b11  c11  NaN  NaN  NaN\n",
      "다  a12  b12  c12  b23  c23  d23\n",
      "라  NaN  NaN  NaN  b24  c24  d24\n",
      "마  NaN  NaN  NaN  b25  c25  d25\n",
      "     A    B    C    B    C    D\n",
      "다  a12  b12  c12  b23  c23  d23\n"
     ]
    }
   ],
   "source": [
    "import pandas as pd\n",
    "\n",
    "df_1 = pd.DataFrame({'A': ['a10', 'a11', 'a12'], 'B': ['b10', 'b11', 'b12'], 'C':['c10', 'c11', 'c12']}, index = ['가', '나', '다'])\n",
    "df_2 = pd.DataFrame({'B': ['b23', 'b24', 'b25'], 'C': ['c23', 'c24', 'c25'], 'D':['d23', 'd24', 'd25']}, index = ['다', '라', '마'])\n",
    "\n",
    "print(pd.concat([df_1, df_2], axis=0, join='outer'))\n",
    "print(pd.concat([df_1, df_2], axis=0, join='inner'))\n",
    "print(pd.concat([df_1, df_2], axis=1, join='outer'))\n",
    "print(pd.concat([df_1, df_2], axis=1, join='inner'))"
   ]
  },
  {
   "cell_type": "markdown",
   "id": "943b2875",
   "metadata": {},
   "source": [
    "## LAB 12-5 다양한 방법으로 merge 적용해 보기"
   ]
  },
  {
   "cell_type": "markdown",
   "id": "9d71440e",
   "metadata": {},
   "source": [
    "#### 앞서 생성한 `df_1`과 `df_2` 데이터프레임을 합치는 데에 `merge()`의 `how` 매개면수에는 네 종류의 인자를 넘길 수 있다. `on='B'`를 유지한채로 `how`를 변경하여 다양한 결과를 확인해 보라."
   ]
  },
  {
   "cell_type": "code",
   "execution_count": 13,
   "id": "9eb399a7",
   "metadata": {},
   "outputs": [
    {
     "name": "stdout",
     "output_type": "stream",
     "text": [
      "left outer \n",
      "      A    B  C_x  C_y    D\n",
      "0  a10  b10  c10  NaN  NaN\n",
      "1  a11  b11  c11  NaN  NaN\n",
      "2  a12  b12  c12  NaN  NaN\n",
      "right outer \n",
      "      A    B  C_x  C_y    D\n",
      "0  NaN  b23  NaN  c23  d23\n",
      "1  NaN  b24  NaN  c24  d24\n",
      "2  NaN  b25  NaN  c25  d25\n",
      "full outer \n",
      "      A    B  C_x  C_y    D\n",
      "0  a10  b10  c10  NaN  NaN\n",
      "1  a11  b11  c11  NaN  NaN\n",
      "2  a12  b12  c12  NaN  NaN\n",
      "3  NaN  b23  NaN  c23  d23\n",
      "4  NaN  b24  NaN  c24  d24\n",
      "5  NaN  b25  NaN  c25  d25\n",
      "inner outer \n",
      " Empty DataFrame\n",
      "Columns: [A, B, C_x, C_y, D]\n",
      "Index: []\n"
     ]
    }
   ],
   "source": [
    "import pandas as pd\n",
    "\n",
    "df_1 = pd.DataFrame({'A': ['a10', 'a11', 'a12'], 'B': ['b10', 'b11', 'b12'], 'C':['c10', 'c11', 'c12']}, index = ['가', '나', '다'])\n",
    "df_2 = pd.DataFrame({'B': ['b23', 'b24', 'b25'], 'C': ['c23', 'c24', 'c25'], 'D':['d23', 'd24', 'd25']}, index = ['다', '라', '마'])\n",
    "\n",
    "print('left outer \\n', df_1.merge(df_2, how='left', on='B'))\n",
    "print('right outer \\n', df_1.merge(df_2, how='right', on='B'))\n",
    "print('full outer \\n', df_1.merge(df_2, how='outer', on='B'))\n",
    "print('inner \\n', df_1.merge(df_2, how='inner', on='B'))"
   ]
  }
 ],
 "metadata": {
  "kernelspec": {
   "display_name": "Python 3 (ipykernel)",
   "language": "python",
   "name": "python3"
  },
  "language_info": {
   "codemirror_mode": {
    "name": "ipython",
    "version": 3
   },
   "file_extension": ".py",
   "mimetype": "text/x-python",
   "name": "python",
   "nbconvert_exporter": "python",
   "pygments_lexer": "ipython3",
   "version": "3.9.7"
  }
 },
 "nbformat": 4,
 "nbformat_minor": 5
}
