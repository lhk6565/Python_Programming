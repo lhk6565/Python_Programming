{
 "cells": [
  {
   "cell_type": "markdown",
   "metadata": {},
   "source": [
    "# Chapter 13 시각 정보를 다루어보자 "
   ]
  },
  {
   "cell_type": "markdown",
   "metadata": {},
   "source": [
    "## LAB 13-1 합성 사진 만들기 2"
   ]
  },
  {
   "cell_type": "markdown",
   "metadata": {},
   "source": [
    "#### 다음과 같이 녹색 배경 앞에서 찍은 인물 사진과 배경으로 사용될 이미지가 있다. 인물 사진에서 녹색을 제거하고 다른 배경 사진과 합성하여 이 인물이 배경 사진이 찍힌 장소에 있는 것처럼 합성하여 보라."
   ]
  },
  {
   "cell_type": "code",
   "execution_count": 1,
   "metadata": {},
   "outputs": [],
   "source": [
    "import numpy as np\n",
    "import cv2\n",
    "\n",
    "path = 'C:/Users/lhk65/OneDrive/Desktop/Project/Python_Programming/Part 2/Chapter 13'\n",
    "img1 = cv2.imread(path + '/green_back.png')\n",
    "img2 = cv2.imread(path + '/iceberg.jpg')\n",
    "\n",
    "front_image = cv2.resize(img1, (300, 400))\n",
    "back_image = cv2.resize(img2, (300, 400))\n",
    "\n",
    "img_hsv = cv2.cvtColor(front_image, cv2.COLOR_BGR2HSV)\n",
    "l_bound = np.array([40, 100, 50])\n",
    "u_bound = np.array([80, 255, 255])\n",
    "\n",
    "my_mask = cv2.inRange(img_hsv, l_bound, u_bound)\n",
    "mask_inv = cv2.bitwise_not(my_mask)\n",
    "\n",
    "# 녹색 픽셀들만 추출하기\n",
    "extracted = cv2.bitwise_and(front_image, front_image, mask=my_mask)\n",
    "# 녹색 아닌 픽셀만 추출하기\n",
    "removed = cv2.bitwise_and(front_image, front_image, mask=mask_inv)\n",
    "# 녹색과 겹치는 배경 추출하기\n",
    "background = cv2.bitwise_and(back_image, back_image, mask=my_mask)\n",
    "# 녹색 제거 전경 + 배경 추출하기\n",
    "merged = cv2.bitwise_or(removed, background)\n",
    "\n",
    "cv2.imshow('mask', my_mask)\n",
    "cv2.imshow('mask_inv', mask_inv)\n",
    "cv2.imshow('removed', removed)\n",
    "cv2.imshow('background', background)\n",
    "cv2.imshow('merged', merged)\n",
    "\n",
    "cv2.waitKey(0)\n",
    "cv2.destroyAllWindows()"
   ]
  },
  {
   "cell_type": "markdown",
   "metadata": {},
   "source": [
    "## LAB 13-2 텍스트 데이터 추출을 위한 준비"
   ]
  },
  {
   "cell_type": "markdown",
   "metadata": {},
   "source": [
    "#### 다음과 같이 책의 내용을 담은 이미지를 읽어 들인 뒤에 문자만 추출하려고 한다. 원본 이미지는 영역에 따라 명암의 차이도 있고, 잡음도 있지만 결과 이미지에서는 글자와 배경으로 이진화하는 것이 목표이다."
   ]
  },
  {
   "cell_type": "code",
   "execution_count": 2,
   "metadata": {},
   "outputs": [],
   "source": [
    "import numpy as np\n",
    "import cv2\n",
    "\n",
    "path = 'C:/Users/lhk65/OneDrive/Desktop/Project/Python_Programming/Part 2/Chapter 13'\n",
    "img = cv2.imread(path + '/book.png')\n",
    "\n",
    "blur_bilateral = cv2.bilateralFilter(img, 11, 75, 75)\n",
    "\n",
    "gray_img = cv2.cvtColor(blur_bilateral, cv2.COLOR_BGR2GRAY)\n",
    "\n",
    "thresh = cv2.adaptiveThreshold(gray_img, 255, cv2.ADAPTIVE_THRESH_GAUSSIAN_C, cv2.THRESH_BINARY, 15, 7)\n",
    "\n",
    "cv2.imshow('original', img)\n",
    "cv2.imshow('bilateral', blur_bilateral)\n",
    "cv2.imshow('gray', gray_img)\n",
    "cv2.imshow('binary', thresh)\n",
    "\n",
    "cv2.waitKey(0)\n",
    "cv2.destroyAllWindows()"
   ]
  }
 ],
 "metadata": {
  "kernelspec": {
   "display_name": "Python 3 (ipykernel)",
   "language": "python",
   "name": "python3"
  },
  "language_info": {
   "codemirror_mode": {
    "name": "ipython",
    "version": 3
   },
   "file_extension": ".py",
   "mimetype": "text/x-python",
   "name": "python",
   "nbconvert_exporter": "python",
   "pygments_lexer": "ipython3",
   "version": "3.9.7"
  }
 },
 "nbformat": 4,
 "nbformat_minor": 2
}
