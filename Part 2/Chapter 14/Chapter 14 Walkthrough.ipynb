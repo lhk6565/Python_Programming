{
 "cells": [
  {
   "cell_type": "markdown",
   "metadata": {},
   "source": [
    "# Chapter 14 기계학습으로 똑똑한 컴퓨터를 만들자"
   ]
  },
  {
   "cell_type": "markdown",
   "metadata": {},
   "source": [
    "## 도전문제 14.1"
   ]
  },
  {
   "cell_type": "markdown",
   "metadata": {},
   "source": [
    "#### 키와 성 이외에도 몸무게에 영향을 줄 수 있는 요소로는 나이와 신체활동 시간등의 요소가 있을 것이다. 자신의 주위에 있는 10명 이상의 지인을 대상으로 데이터를 수집하고 가설을 세운 후 션형회귀 모델을 구현하여 자신의 가설을 검증해 보도록 하자."
   ]
  },
  {
   "cell_type": "code",
   "execution_count": 1,
   "metadata": {},
   "outputs": [
    {
     "name": "stdout",
     "output_type": "stream",
     "text": [
      "계수 : [ 0.71127226 -0.29266769  1.86861332 -1.04973038]\n",
      "절편 : -92.79971266363029\n",
      "점수 : 0.8410704019573532\n",
      "은지와 동민이의 추정 몸무게 : [53.95323805 45.02917976]\n"
     ]
    }
   ],
   "source": [
    "import numpy as np\n",
    "from sklearn import linear_model\n",
    "\n",
    "regr = linear_model.LinearRegression()\n",
    "\n",
    "X = [[164, 1, 16, 12], [167, 1, 17, 10], [165, 0, 18, 6], [170, 0, 20, 6], [179, 0, 23, 8],\n",
    "     [163, 1, 19, 6], [159, 0, 20, 7], [166, 1, 20, 14], [167, 1, 26, 16], [165, 0, 26, 13]]\n",
    "y = [43, 48, 47, 66, 67, 50, 52, 44, 60, 58]\n",
    "regr.fit(X, y)\n",
    "print('계수 :', regr.coef_)\n",
    "print('절편 :', regr.intercept_)\n",
    "print('점수 :', regr.score(X, y))\n",
    "print('은지와 동민이의 추정 몸무게 :', regr.predict([[166, 1, 20, 8], [166, 0, 19, 15]]))"
   ]
  },
  {
   "cell_type": "markdown",
   "metadata": {},
   "source": [
    "## 도전문제 14.2"
   ]
  },
  {
   "cell_type": "markdown",
   "metadata": {},
   "source": [
    "#### `y_pred`와 `y_test` 사이의 오차를 구하는 여러가지 방법이 있으나 우리는 각각의 예측과 목표값의 차이를 제곱하여 더한 뒤에 전체 데이터의 개수 `n`으로 나누는 방법을 사용하려 한다. 이렇게 구한 오차를 평균 제곱 오차(Mean Square Error)라고 한다. 넘파이를 이용하여 다음과 같은 평균제곱오차를 구하여라.(아래의 식에서 $N$은 원소의 개수, $y_i$는 $i$번째 `y_test`값이며, $H(X_i)$는 선형회귀 모델이 추정한 `y_pred`에 해당한다.\n",
    "#### <center> $MSE = \\frac{1}{N}\\displaystyle\\sum_{i=1}^{N} (H(X_i) - y_i)^2$ </center>"
   ]
  },
  {
   "cell_type": "code",
   "execution_count": 2,
   "metadata": {},
   "outputs": [
    {
     "name": "stdout",
     "output_type": "stream",
     "text": [
      "평균제곱 오차(MSE): 3411.179804138872\n"
     ]
    }
   ],
   "source": [
    "import numpy as np\n",
    "from sklearn.linear_model import LinearRegression\n",
    "from sklearn.model_selection import train_test_split\n",
    "from sklearn.metrics import mean_squared_error\n",
    "from sklearn import datasets\n",
    "\n",
    "diabetes = datasets.load_diabetes()\n",
    "\n",
    "regr = LinearRegression()\n",
    "X_train, X_test, y_train, y_test = train_test_split(diabetes.data, diabetes.target, test_size = 0.2)\n",
    "\n",
    "regr.fit(X_train, y_train)\n",
    "y_pred = regr.predict(X_test)\n",
    "print('평균제곱 오차(MSE):', mean_squared_error(y_test, y_pred))"
   ]
  },
  {
   "cell_type": "markdown",
   "metadata": {},
   "source": [
    "## 도전문제 14.3"
   ]
  },
  {
   "cell_type": "markdown",
   "metadata": {},
   "source": [
    "#### 위의 코드를 수정하여 `n_neighbors`가 1, 3, 5, 10, 20, 30일 때의 정확도를 각각 다음과 같이 출력하여라."
   ]
  },
  {
   "cell_type": "code",
   "execution_count": 3,
   "metadata": {},
   "outputs": [
    {
     "name": "stdout",
     "output_type": "stream",
     "text": [
      "n_neighbors가 1일때 정확도: 0.967\n",
      "n_neighbors가 3일때 정확도: 0.967\n",
      "n_neighbors가 5일때 정확도: 0.967\n",
      "n_neighbors가 10일때 정확도: 0.933\n",
      "n_neighbors가 20일때 정확도: 0.967\n",
      "n_neighbors가 30일때 정확도: 0.933\n"
     ]
    }
   ],
   "source": [
    "from sklearn.datasets import load_iris\n",
    "from sklearn.model_selection import train_test_split\n",
    "from sklearn.neighbors import KNeighborsClassifier\n",
    "from sklearn import metrics\n",
    "\n",
    "iris = load_iris()\n",
    "X_train, X_test, y_train, y_test = train_test_split(iris.data, iris.target, test_size = 0.2)\n",
    "\n",
    "for i in [1, 3, 5, 10, 20, 30]:\n",
    "    knn = KNeighborsClassifier(n_neighbors = i)\n",
    "    knn.fit(X_train, y_train)\n",
    "    y_pred = knn.predict(X_test)\n",
    "    scores = metrics.accuracy_score(y_test, y_pred)\n",
    "    print('n_neighbors가 {0:d}일때 정확도: {1:.3f}'.format(i, scores))"
   ]
  },
  {
   "cell_type": "markdown",
   "metadata": {},
   "source": [
    "## LAB 14-1 키가 비슷해도 남, 녀의 몸무게는 다를 것 : 다차원 선형회귀"
   ]
  },
  {
   "cell_type": "markdown",
   "metadata": {},
   "source": [
    "#### 일반적으로 여자의 몸무게는 남자의 몸무게보다 가볍다. 이러한 점을 보완하여 이 모델의 특징 feature에 키와 성(남, 녀)을 추가하면 이 모델은 더욱더 성공적일 것이다. 이제 철수의 반에 있는 8명의 학생들에 대하여 키, 몸무게를 성별까지 함께 표기해보자. 이 데이터에 남자는 0, 여자는 1과 같은 값을 부여하였다. 이들의 키와 몸무게는 다음과 같은 데이터로 주어진다.\n",
    "#### (1) 이제 이 데이터를 바탕으로 선형회귀 모델을 생성하여라. 이 선형회귀 모델의 `coef_`와 `intercept_` 값은 각각 얼마인가? 또한 이 모델의 `score`값은 얼마인가?\n",
    "#### (2) 다음으로 키가 166cm인 여학생(1) 은지와 같은 키의 남학생(0) 동민이의 몸무게를 선형회귀를 사용하여 추정하여라."
   ]
  },
  {
   "cell_type": "code",
   "execution_count": 4,
   "metadata": {},
   "outputs": [
    {
     "name": "stdout",
     "output_type": "stream",
     "text": [
      "계수 : [ 0.88542825 -8.87235818]\n",
      "절편 : -90.97330367074525\n",
      "점수 : 0.7404546306026772\n",
      "은지와 동민이의 추정 몸무게 : [47.13542825 56.00778643]\n"
     ]
    }
   ],
   "source": [
    "import numpy as np\n",
    "from sklearn import linear_model\n",
    "\n",
    "regr = linear_model.LinearRegression()\n",
    "\n",
    "X = [[164, 1], [167, 1], [165, 0], [170, 0], [179, 0], [163, 1], [159, 0], [166, 1]]\n",
    "y = [43, 48, 47, 66, 67, 50, 52, 44]\n",
    "regr.fit(X, y)\n",
    "print('계수 :', regr.coef_)\n",
    "print('절편 :', regr.intercept_)\n",
    "print('점수 :', regr.score(X, y))\n",
    "print('은지와 동민이의 추정 몸무게 :', regr.predict([[166, 1], [166, 0]]))"
   ]
  },
  {
   "cell_type": "markdown",
   "metadata": {},
   "source": [
    "## LAB 14-2 데이터 80%로 학습하여 예측한 결과와 실제 데이터 비교"
   ]
  },
  {
   "cell_type": "markdown",
   "metadata": {},
   "source": [
    "#### 사이킷런 모듈에서 제공하는 데이터의 80%를 학습용으로 사용하고, 이를 이용하여 테스트용 입력 20%에 대해 당뇨수치를 예측할 수 있다. 이렇게 예측한 결과와 실제 당뇨 수치를 시각적으로 비교하여 보자. <br> 2차원 공간에 한 축은 예측한 당뇨 수치, 다른 한 축은 실제 당뇨 수치로 하여 (예측값, 실제값)의 점을 아래와 같이 산포도 그래프로 그리면 될 것이다."
   ]
  },
  {
   "cell_type": "code",
   "execution_count": 5,
   "metadata": {},
   "outputs": [
    {
     "name": "stdout",
     "output_type": "stream",
     "text": [
      "[ -11.45052246 -238.17652931  518.01009146  315.26403122 -883.25961702\n",
      "  506.84943999  155.19979432  223.32427105  817.70947861   16.11569719] 152.84695747809047\n"
     ]
    },
    {
     "data": {
      "image/png": "[encoded data removed]",
      "text/plain": [
       "<Figure size 432x288 with 1 Axes>"
      ]
     },
     "metadata": {
      "needs_background": "light"
     },
     "output_type": "display_data"
    }
   ],
   "source": [
    "import numpy as np\n",
    "from sklearn import linear_model\n",
    "from sklearn import datasets\n",
    "import matplotlib.pyplot as plt\n",
    "\n",
    "diabetes = datasets.load_diabetes()\n",
    "regr = linear_model.LinearRegression()\n",
    "\n",
    "from sklearn.model_selection import train_test_split\n",
    "X_train, X_test, y_train, y_test = train_test_split(diabetes.data, diabetes.target, test_size = 0.2)\n",
    "\n",
    "regr.fit(X_train, y_train)\n",
    "print(regr.coef_, regr.intercept_)\n",
    "\n",
    "y_pred = regr.predict(X_test)\n",
    "\n",
    "plt.scatter(y_pred, y_test)\n",
    "plt.show()"
   ]
  }
 ],
 "metadata": {
  "kernelspec": {
   "display_name": "Python 3 (ipykernel)",
   "language": "python",
   "name": "python3"
  },
  "language_info": {
   "codemirror_mode": {
    "name": "ipython",
    "version": 3
   },
   "file_extension": ".py",
   "mimetype": "text/x-python",
   "name": "python",
   "nbconvert_exporter": "python",
   "pygments_lexer": "ipython3",
   "version": "3.9.7"
  },
  "vscode": {
   "interpreter": {
    "hash": "82136e53588c9e34a2f5726c465560e45a7664f059ab9b40b627219027b97012"
   }
  }
 },
 "nbformat": 4,
 "nbformat_minor": 2
}
